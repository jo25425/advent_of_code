{
 "cells": [
  {
   "cell_type": "markdown",
   "id": "269c5923-0598-4fab-a6a4-70758b436e80",
   "metadata": {},
   "source": [
    "### Day 13: Transparent Origami"
   ]
  },
  {
   "cell_type": "code",
   "execution_count": 9,
   "id": "7449e066-ec26-4125-a7d9-9c7a24925aff",
   "metadata": {
    "execution": {
     "iopub.execute_input": "2021-12-17T17:17:43.597376Z",
     "iopub.status.busy": "2021-12-17T17:17:43.597120Z",
     "iopub.status.idle": "2021-12-17T17:17:43.601367Z",
     "shell.execute_reply": "2021-12-17T17:17:43.600181Z",
     "shell.execute_reply.started": "2021-12-17T17:17:43.597349Z"
    },
    "tags": []
   },
   "outputs": [],
   "source": [
    "sample = \"\"\"\n",
    "6,10\n",
    "0,14\n",
    "9,10\n",
    "0,3\n",
    "10,4\n",
    "4,11\n",
    "6,0\n",
    "6,12\n",
    "4,1\n",
    "0,13\n",
    "10,12\n",
    "3,4\n",
    "3,0\n",
    "8,4\n",
    "1,10\n",
    "2,14\n",
    "8,10\n",
    "9,0\n",
    "\n",
    "fold along y=7\n",
    "fold along x=5\"\"\".strip().split('\\n')"
   ]
  },
  {
   "cell_type": "code",
   "execution_count": 99,
   "id": "64053196-7010-428f-a42d-3267dffdaf4a",
   "metadata": {
    "execution": {
     "iopub.execute_input": "2021-12-17T18:19:35.397771Z",
     "iopub.status.busy": "2021-12-17T18:19:35.397472Z",
     "iopub.status.idle": "2021-12-17T18:19:35.413545Z",
     "shell.execute_reply": "2021-12-17T18:19:35.412855Z",
     "shell.execute_reply.started": "2021-12-17T18:19:35.397739Z"
    },
    "tags": []
   },
   "outputs": [],
   "source": [
    "import numpy as np\n",
    "\n",
    "def parse_transparent_paper(lines):\n",
    "    dots, folds = [], []\n",
    "    for l in lines:\n",
    "        if l.startswith('fold'):\n",
    "            axis, pos = l.replace('fold along ', '').split('=')\n",
    "            folds.append((axis, int(pos)))\n",
    "        elif l:\n",
    "            dots.append(tuple(map(int, l.split(','))))\n",
    "    return dots, folds\n",
    "\n",
    "class TransparentPaper:\n",
    "    \n",
    "    def __init__(self, dots):\n",
    "        self.size_x = max(map(lambda pos: pos[0], dots)) + 1\n",
    "        self.size_y = max(map(lambda pos: pos[1], dots)) + 1\n",
    "        self.pattern = np.zeros((self.size_y, self.size_x), dtype=int)\n",
    "        for x,y in dots:\n",
    "            self.pattern[y,x] = 1\n",
    "    \n",
    "    def __repr__(self):\n",
    "        return '\\n'.join(''.join('.' if x == 0 else '#' if x == 1 else '' for x in row) for row in self.pattern)\n",
    "    \n",
    "    def fold_up(self, pos):\n",
    "        fold_size = max(pos, self.size_y - pos - 1)\n",
    "        to_fold = self._pad_up(np.flipud(self.pattern[pos+1:]), fold_size)\n",
    "        folded = self._pad_up(self.pattern[:pos], fold_size)\n",
    "        folded[np.where(to_fold == 1)] = 1\n",
    "        self.pattern = folded\n",
    "        self.size_x = self.pattern.shape[1]\n",
    "        self.size_y = self.pattern.shape[0]\n",
    "        \n",
    "    def fold_left(self, pos):\n",
    "        fold_size = max(pos, self.size_x - pos - 1)\n",
    "        to_fold = self._pad_left(np.fliplr(self.pattern[:,pos+1:]), fold_size)\n",
    "        folded = self._pad_left(self.pattern[:,:pos], fold_size)\n",
    "        folded[np.where(to_fold == 1)] = 1\n",
    "        self.pattern = folded\n",
    "        self.size_x = self.pattern.shape[1]\n",
    "        self.size_y = self.pattern.shape[0]\n",
    "        \n",
    "    def do_folds(self, folds):\n",
    "        for fold, pos in folds:\n",
    "            (self.fold_left if fold == 'x' else self.fold_up)(pos)\n",
    "            \n",
    "    def get_visible_dots(self):\n",
    "        return self.pattern.sum()\n",
    "    \n",
    "    @staticmethod\n",
    "    def _pad_left(arr, target_width):\n",
    "        pad_width = target_width - arr.shape[1]\n",
    "        return arr if not pad_width else np.pad(arr, ((0, 0), (pad_width, 0)))\n",
    "    \n",
    "    @staticmethod\n",
    "    def _pad_up(arr, target_width):\n",
    "        pad_width = target_width - arr.shape[0]\n",
    "        return arr if not pad_width else np.pad(arr, ((pad_width, 0), (0, 0)))"
   ]
  },
  {
   "cell_type": "code",
   "execution_count": 106,
   "id": "f5444045-1678-4600-9a15-314cb03590a9",
   "metadata": {
    "execution": {
     "iopub.execute_input": "2021-12-17T18:20:49.257243Z",
     "iopub.status.busy": "2021-12-17T18:20:49.256990Z",
     "iopub.status.idle": "2021-12-17T18:20:49.269855Z",
     "shell.execute_reply": "2021-12-17T18:20:49.269245Z",
     "shell.execute_reply.started": "2021-12-17T18:20:49.257219Z"
    },
    "tags": []
   },
   "outputs": [
    {
     "name": "stdout",
     "output_type": "stream",
     "text": [
      "# dots = 18 (e.g. (6, 10))\n",
      "# folds = 2 (e.g. ('y', 7))\n",
      "\n"
     ]
    },
    {
     "data": {
      "text/plain": [
       "#####\n",
       "#...#\n",
       "#...#\n",
       "#...#\n",
       "#####\n",
       ".....\n",
       "....."
      ]
     },
     "metadata": {},
     "output_type": "display_data"
    },
    {
     "name": "stdout",
     "output_type": "stream",
     "text": [
      "\n"
     ]
    },
    {
     "data": {
      "text/plain": [
       "###\n",
       "#.#\n",
       "#.#\n",
       "#.#\n",
       "###\n",
       "...\n",
       "..."
      ]
     },
     "metadata": {},
     "output_type": "display_data"
    },
    {
     "name": "stdout",
     "output_type": "stream",
     "text": [
      "\n"
     ]
    },
    {
     "data": {
      "text/plain": [
       "...\n",
       "...\n",
       "###\n",
       "#.#\n",
       "###"
      ]
     },
     "execution_count": 106,
     "metadata": {},
     "output_type": "execute_result"
    }
   ],
   "source": [
    "dots, folds = parse_transparent_paper(sample)\n",
    "print(f'# dots = {len(dots)} (e.g. {dots[0]})\\n# folds = {len(folds)} (e.g. {folds[0]})')\n",
    "\n",
    "tp = TransparentPaper(dots)\n",
    "tp.do_folds([folds[0]])\n",
    "assert tp.get_visible_dots() == 17\n",
    "tp.do_folds(folds[1:])\n",
    "print('');display(tp)\n",
    "tp.fold_left(3)\n",
    "print('');display(tp)\n",
    "tp.fold_up(1)\n",
    "print('');tp"
   ]
  },
  {
   "cell_type": "code",
   "execution_count": 130,
   "id": "e3811068-b745-4be4-aa94-671696f3affa",
   "metadata": {
    "execution": {
     "iopub.execute_input": "2021-12-17T18:27:35.612163Z",
     "iopub.status.busy": "2021-12-17T18:27:35.611920Z",
     "iopub.status.idle": "2021-12-17T18:27:35.627477Z",
     "shell.execute_reply": "2021-12-17T18:27:35.626770Z",
     "shell.execute_reply.started": "2021-12-17T18:27:35.612138Z"
    },
    "tags": []
   },
   "outputs": [
    {
     "name": "stdout",
     "output_type": "stream",
     "text": [
      "# dots = 1004 (e.g. (1284, 229))\n",
      "# folds = 12 (e.g. ('x', 655))\n"
     ]
    },
    {
     "data": {
      "text/plain": [
       "847"
      ]
     },
     "execution_count": 130,
     "metadata": {},
     "output_type": "execute_result"
    }
   ],
   "source": [
    "# Part 1\n",
    "dots, folds = parse_transparent_paper(map(str.strip, open('data/input_day13.txt').readlines()))\n",
    "print(f'# dots = {len(dots)} (e.g. {dots[0]})\\n# folds = {len(folds)} (e.g. {folds[0]})')\n",
    "\n",
    "tp = TransparentPaper(dots)\n",
    "tp.do_folds([folds[0]])\n",
    "tp.get_visible_dots()"
   ]
  },
  {
   "cell_type": "code",
   "execution_count": 131,
   "id": "cc41f9b1-0e6b-4bf6-8283-d609c25b6b48",
   "metadata": {
    "execution": {
     "iopub.execute_input": "2021-12-17T18:27:36.026308Z",
     "iopub.status.busy": "2021-12-17T18:27:36.026012Z",
     "iopub.status.idle": "2021-12-17T18:27:36.035617Z",
     "shell.execute_reply": "2021-12-17T18:27:36.034928Z",
     "shell.execute_reply.started": "2021-12-17T18:27:36.026273Z"
    },
    "tags": []
   },
   "outputs": [
    {
     "name": "stdout",
     "output_type": "stream",
     "text": [
      "(6, 40)\n"
     ]
    },
    {
     "data": {
      "text/plain": [
       "###...##..####.###...##..####..##..###..\n",
       "#..#.#..#....#.#..#.#..#.#....#..#.#..#.\n",
       "###..#......#..#..#.#....###..#..#.###..\n",
       "#..#.#.....#...###..#....#....####.#..#.\n",
       "#..#.#..#.#....#.#..#..#.#....#..#.#..#.\n",
       "###...##..####.#..#..##..####.#..#.###.."
      ]
     },
     "execution_count": 131,
     "metadata": {},
     "output_type": "execute_result"
    }
   ],
   "source": [
    "# Part 2\n",
    "tp.do_folds(folds[1:])\n",
    "print(tp.pattern.shape)\n",
    "tp  # BCZRCEAB"
   ]
  },
  {
   "cell_type": "code",
   "execution_count": null,
   "id": "25946b50-2328-4744-835b-17abc460834f",
   "metadata": {},
   "outputs": [],
   "source": []
  }
 ],
 "metadata": {
  "kernelspec": {
   "display_name": "Python 3 (ipykernel)",
   "language": "python",
   "name": "python3"
  },
  "language_info": {
   "codemirror_mode": {
    "name": "ipython",
    "version": 3
   },
   "file_extension": ".py",
   "mimetype": "text/x-python",
   "name": "python",
   "nbconvert_exporter": "python",
   "pygments_lexer": "ipython3",
   "version": "3.9.1"
  }
 },
 "nbformat": 4,
 "nbformat_minor": 5
}
