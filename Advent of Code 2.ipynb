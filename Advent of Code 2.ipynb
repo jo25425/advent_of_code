{
 "cells": [
  {
   "cell_type": "markdown",
   "id": "269c5923-0598-4fab-a6a4-70758b436e80",
   "metadata": {},
   "source": [
    "### Day 13: Transparent Origami"
   ]
  },
  {
   "cell_type": "code",
   "execution_count": 9,
   "id": "7449e066-ec26-4125-a7d9-9c7a24925aff",
   "metadata": {
    "execution": {
     "iopub.execute_input": "2021-12-17T17:17:43.597376Z",
     "iopub.status.busy": "2021-12-17T17:17:43.597120Z",
     "iopub.status.idle": "2021-12-17T17:17:43.601367Z",
     "shell.execute_reply": "2021-12-17T17:17:43.600181Z",
     "shell.execute_reply.started": "2021-12-17T17:17:43.597349Z"
    },
    "tags": []
   },
   "outputs": [],
   "source": [
    "sample = \"\"\"\n",
    "6,10\n",
    "0,14\n",
    "9,10\n",
    "0,3\n",
    "10,4\n",
    "4,11\n",
    "6,0\n",
    "6,12\n",
    "4,1\n",
    "0,13\n",
    "10,12\n",
    "3,4\n",
    "3,0\n",
    "8,4\n",
    "1,10\n",
    "2,14\n",
    "8,10\n",
    "9,0\n",
    "\n",
    "fold along y=7\n",
    "fold along x=5\"\"\".strip().split('\\n')"
   ]
  },
  {
   "cell_type": "code",
   "execution_count": 99,
   "id": "64053196-7010-428f-a42d-3267dffdaf4a",
   "metadata": {
    "execution": {
     "iopub.execute_input": "2021-12-17T18:19:35.397771Z",
     "iopub.status.busy": "2021-12-17T18:19:35.397472Z",
     "iopub.status.idle": "2021-12-17T18:19:35.413545Z",
     "shell.execute_reply": "2021-12-17T18:19:35.412855Z",
     "shell.execute_reply.started": "2021-12-17T18:19:35.397739Z"
    },
    "tags": []
   },
   "outputs": [],
   "source": [
    "import numpy as np\n",
    "\n",
    "def parse_transparent_paper(lines):\n",
    "    dots, folds = [], []\n",
    "    for l in lines:\n",
    "        if l.startswith('fold'):\n",
    "            axis, pos = l.replace('fold along ', '').split('=')\n",
    "            folds.append((axis, int(pos)))\n",
    "        elif l:\n",
    "            dots.append(tuple(map(int, l.split(','))))\n",
    "    return dots, folds\n",
    "\n",
    "class TransparentPaper:\n",
    "    \n",
    "    def __init__(self, dots):\n",
    "        self.size_x = max(map(lambda pos: pos[0], dots)) + 1\n",
    "        self.size_y = max(map(lambda pos: pos[1], dots)) + 1\n",
    "        self.pattern = np.zeros((self.size_y, self.size_x), dtype=int)\n",
    "        for x,y in dots:\n",
    "            self.pattern[y,x] = 1\n",
    "    \n",
    "    def __repr__(self):\n",
    "        return '\\n'.join(''.join('.' if x == 0 else '#' if x == 1 else '' for x in row) for row in self.pattern)\n",
    "    \n",
    "    def fold_up(self, pos):\n",
    "        fold_size = max(pos, self.size_y - pos - 1)\n",
    "        to_fold = self._pad_up(np.flipud(self.pattern[pos+1:]), fold_size)\n",
    "        folded = self._pad_up(self.pattern[:pos], fold_size)\n",
    "        folded[np.where(to_fold == 1)] = 1\n",
    "        self.pattern = folded\n",
    "        self.size_x = self.pattern.shape[1]\n",
    "        self.size_y = self.pattern.shape[0]\n",
    "        \n",
    "    def fold_left(self, pos):\n",
    "        fold_size = max(pos, self.size_x - pos - 1)\n",
    "        to_fold = self._pad_left(np.fliplr(self.pattern[:,pos+1:]), fold_size)\n",
    "        folded = self._pad_left(self.pattern[:,:pos], fold_size)\n",
    "        folded[np.where(to_fold == 1)] = 1\n",
    "        self.pattern = folded\n",
    "        self.size_x = self.pattern.shape[1]\n",
    "        self.size_y = self.pattern.shape[0]\n",
    "        \n",
    "    def do_folds(self, folds):\n",
    "        for fold, pos in folds:\n",
    "            (self.fold_left if fold == 'x' else self.fold_up)(pos)\n",
    "            \n",
    "    def get_visible_dots(self):\n",
    "        return self.pattern.sum()\n",
    "    \n",
    "    @staticmethod\n",
    "    def _pad_left(arr, target_width):\n",
    "        pad_width = target_width - arr.shape[1]\n",
    "        return arr if not pad_width else np.pad(arr, ((0, 0), (pad_width, 0)))\n",
    "    \n",
    "    @staticmethod\n",
    "    def _pad_up(arr, target_width):\n",
    "        pad_width = target_width - arr.shape[0]\n",
    "        return arr if not pad_width else np.pad(arr, ((pad_width, 0), (0, 0)))"
   ]
  },
  {
   "cell_type": "code",
   "execution_count": 106,
   "id": "f5444045-1678-4600-9a15-314cb03590a9",
   "metadata": {
    "execution": {
     "iopub.execute_input": "2021-12-17T18:20:49.257243Z",
     "iopub.status.busy": "2021-12-17T18:20:49.256990Z",
     "iopub.status.idle": "2021-12-17T18:20:49.269855Z",
     "shell.execute_reply": "2021-12-17T18:20:49.269245Z",
     "shell.execute_reply.started": "2021-12-17T18:20:49.257219Z"
    },
    "tags": []
   },
   "outputs": [
    {
     "name": "stdout",
     "output_type": "stream",
     "text": [
      "# dots = 18 (e.g. (6, 10))\n",
      "# folds = 2 (e.g. ('y', 7))\n",
      "\n"
     ]
    },
    {
     "data": {
      "text/plain": [
       "#####\n",
       "#...#\n",
       "#...#\n",
       "#...#\n",
       "#####\n",
       ".....\n",
       "....."
      ]
     },
     "metadata": {},
     "output_type": "display_data"
    },
    {
     "name": "stdout",
     "output_type": "stream",
     "text": [
      "\n"
     ]
    },
    {
     "data": {
      "text/plain": [
       "###\n",
       "#.#\n",
       "#.#\n",
       "#.#\n",
       "###\n",
       "...\n",
       "..."
      ]
     },
     "metadata": {},
     "output_type": "display_data"
    },
    {
     "name": "stdout",
     "output_type": "stream",
     "text": [
      "\n"
     ]
    },
    {
     "data": {
      "text/plain": [
       "...\n",
       "...\n",
       "###\n",
       "#.#\n",
       "###"
      ]
     },
     "execution_count": 106,
     "metadata": {},
     "output_type": "execute_result"
    }
   ],
   "source": [
    "dots, folds = parse_transparent_paper(sample)\n",
    "print(f'# dots = {len(dots)} (e.g. {dots[0]})\\n# folds = {len(folds)} (e.g. {folds[0]})')\n",
    "\n",
    "tp = TransparentPaper(dots)\n",
    "tp.do_folds([folds[0]])\n",
    "assert tp.get_visible_dots() == 17\n",
    "tp.do_folds(folds[1:])\n",
    "print('');display(tp)\n",
    "tp.fold_left(3)\n",
    "print('');display(tp)\n",
    "tp.fold_up(1)\n",
    "print('');tp"
   ]
  },
  {
   "cell_type": "code",
   "execution_count": 130,
   "id": "e3811068-b745-4be4-aa94-671696f3affa",
   "metadata": {
    "execution": {
     "iopub.execute_input": "2021-12-17T18:27:35.612163Z",
     "iopub.status.busy": "2021-12-17T18:27:35.611920Z",
     "iopub.status.idle": "2021-12-17T18:27:35.627477Z",
     "shell.execute_reply": "2021-12-17T18:27:35.626770Z",
     "shell.execute_reply.started": "2021-12-17T18:27:35.612138Z"
    },
    "tags": []
   },
   "outputs": [
    {
     "name": "stdout",
     "output_type": "stream",
     "text": [
      "# dots = 1004 (e.g. (1284, 229))\n",
      "# folds = 12 (e.g. ('x', 655))\n"
     ]
    },
    {
     "data": {
      "text/plain": [
       "847"
      ]
     },
     "execution_count": 130,
     "metadata": {},
     "output_type": "execute_result"
    }
   ],
   "source": [
    "# Part 1\n",
    "dots, folds = parse_transparent_paper(map(str.strip, open('data/input_day13.txt').readlines()))\n",
    "print(f'# dots = {len(dots)} (e.g. {dots[0]})\\n# folds = {len(folds)} (e.g. {folds[0]})')\n",
    "\n",
    "tp = TransparentPaper(dots)\n",
    "tp.do_folds([folds[0]])\n",
    "tp.get_visible_dots()"
   ]
  },
  {
   "cell_type": "code",
   "execution_count": 131,
   "id": "cc41f9b1-0e6b-4bf6-8283-d609c25b6b48",
   "metadata": {
    "execution": {
     "iopub.execute_input": "2021-12-17T18:27:36.026308Z",
     "iopub.status.busy": "2021-12-17T18:27:36.026012Z",
     "iopub.status.idle": "2021-12-17T18:27:36.035617Z",
     "shell.execute_reply": "2021-12-17T18:27:36.034928Z",
     "shell.execute_reply.started": "2021-12-17T18:27:36.026273Z"
    },
    "tags": []
   },
   "outputs": [
    {
     "name": "stdout",
     "output_type": "stream",
     "text": [
      "(6, 40)\n"
     ]
    },
    {
     "data": {
      "text/plain": [
       "###...##..####.###...##..####..##..###..\n",
       "#..#.#..#....#.#..#.#..#.#....#..#.#..#.\n",
       "###..#......#..#..#.#....###..#..#.###..\n",
       "#..#.#.....#...###..#....#....####.#..#.\n",
       "#..#.#..#.#....#.#..#..#.#....#..#.#..#.\n",
       "###...##..####.#..#..##..####.#..#.###.."
      ]
     },
     "execution_count": 131,
     "metadata": {},
     "output_type": "execute_result"
    }
   ],
   "source": [
    "# Part 2\n",
    "tp.do_folds(folds[1:])\n",
    "print(tp.pattern.shape)\n",
    "tp  # BCZRCEAB"
   ]
  },
  {
   "cell_type": "markdown",
   "id": "ff13247b-185c-4641-aa56-4c6d0bb5397a",
   "metadata": {},
   "source": [
    "### Day 14: Extended Polymerization"
   ]
  },
  {
   "cell_type": "code",
   "execution_count": 1,
   "id": "572312cb-a740-4594-8602-e6ffd3f7e257",
   "metadata": {
    "execution": {
     "iopub.execute_input": "2021-12-18T01:39:55.871645Z",
     "iopub.status.busy": "2021-12-18T01:39:55.871324Z",
     "iopub.status.idle": "2021-12-18T01:39:55.879750Z",
     "shell.execute_reply": "2021-12-18T01:39:55.879117Z",
     "shell.execute_reply.started": "2021-12-18T01:39:55.871583Z"
    },
    "tags": []
   },
   "outputs": [],
   "source": [
    "sample = \"\"\"\n",
    "NNCB\n",
    "\n",
    "CH -> B\n",
    "HH -> N\n",
    "CB -> H\n",
    "NH -> C\n",
    "HB -> C\n",
    "HC -> B\n",
    "HN -> C\n",
    "NN -> C\n",
    "BH -> H\n",
    "NC -> B\n",
    "NB -> B\n",
    "BN -> B\n",
    "BB -> N\n",
    "BC -> B\n",
    "CC -> N\n",
    "CN -> C\"\"\".strip().split('\\n')"
   ]
  },
  {
   "cell_type": "code",
   "execution_count": 52,
   "id": "5b4c2c1e-42c6-4c59-9f36-e3b8fc58ceff",
   "metadata": {
    "execution": {
     "iopub.execute_input": "2021-12-18T10:49:30.666788Z",
     "iopub.status.busy": "2021-12-18T10:49:30.666410Z",
     "iopub.status.idle": "2021-12-18T10:49:30.681980Z",
     "shell.execute_reply": "2021-12-18T10:49:30.680948Z",
     "shell.execute_reply.started": "2021-12-18T10:49:30.666755Z"
    },
    "tags": []
   },
   "outputs": [],
   "source": [
    "from itertools import tee\n",
    "from collections import Counter, defaultdict\n",
    "\n",
    "def parse_instructions(lines):\n",
    "    return lines[0].strip(), {pair: new for pair, new in map(lambda s: s.strip().split(' -> '), lines[2:])}\n",
    "\n",
    "def polymerisation_step(polymer_generator, pair_insertions):\n",
    "    def new_polymer():\n",
    "        first_elements, second_elements = tee(polymer_generator)\n",
    "        next(second_elements, None)\n",
    "        for el1, el2 in zip(first_elements, second_elements):\n",
    "            el_pair = el1 + el2\n",
    "            yield(el1)\n",
    "            if el_pair in pair_insertions:\n",
    "                yield(pair_insertions[el_pair])\n",
    "        yield(el2)\n",
    "    return new_polymer()\n",
    "\n",
    "def polymerisation(polymer_template, pair_insertions, n_steps=1, return_calc=False):\n",
    "    res = polymer_template[:]\n",
    "    \n",
    "    for i in range(n_steps):\n",
    "        res = polymerisation_step(res, pair_insertions)\n",
    "        \n",
    "    if not return_calc:\n",
    "        return ''.join(res)  # Polymerisation string\n",
    "    \n",
    "    c = Counter(res)\n",
    "    return c.most_common()[0][1] - c.most_common()[-1][1]  # Calc: count most common - count least common\n",
    "\n",
    "polymer_template, pair_insertions = parse_instructions(sample)\n",
    "polymer_template, pair_insertions\n",
    "assert ''.join(polymerisation_step(polymer_template, pair_insertions)) == 'NCNBCHB'\n",
    "assert polymerisation(polymer_template, pair_insertions, 1) == 'NCNBCHB'\n",
    "assert polymerisation(polymer_template, pair_insertions, 2) == 'NBCCNBBBCBHCB'\n",
    "assert polymerisation(polymer_template, pair_insertions, 3) == 'NBBBCNCCNBBNBNBBCHBHHBCHB'\n",
    "assert polymerisation(polymer_template, pair_insertions, 4) == 'NBBNBNBBCCNBCNCCNBBNBBNBBBNBBNBBCBHCBHHNHCBBCBHCB'\n",
    "assert len(polymerisation(polymer_template, pair_insertions, 10)) == 3073\n",
    "assert polymerisation(polymer_template, pair_insertions, 10, return_calc=True) == 1588"
   ]
  },
  {
   "cell_type": "code",
   "execution_count": 16,
   "id": "bcccd896-4588-438e-90ec-fae596fba52a",
   "metadata": {
    "execution": {
     "iopub.execute_input": "2021-12-18T01:54:47.292819Z",
     "iopub.status.busy": "2021-12-18T01:54:47.292540Z",
     "iopub.status.idle": "2021-12-18T01:54:47.305874Z",
     "shell.execute_reply": "2021-12-18T01:54:47.305097Z",
     "shell.execute_reply.started": "2021-12-18T01:54:47.292789Z"
    },
    "tags": []
   },
   "outputs": [
    {
     "data": {
      "text/plain": [
       "2975"
      ]
     },
     "execution_count": 16,
     "metadata": {},
     "output_type": "execute_result"
    }
   ],
   "source": [
    "polymerisation(*parse_instructions(open('data/input_day14.txt').readlines()), 10, return_calc=True)"
   ]
  },
  {
   "cell_type": "code",
   "execution_count": 59,
   "id": "2fd5d3aa-6f10-47da-b78c-99b8cc6ceb6b",
   "metadata": {
    "execution": {
     "iopub.execute_input": "2021-12-18T10:52:29.032871Z",
     "iopub.status.busy": "2021-12-18T10:52:29.032550Z",
     "iopub.status.idle": "2021-12-18T10:52:29.042871Z",
     "shell.execute_reply": "2021-12-18T10:52:29.042106Z",
     "shell.execute_reply.started": "2021-12-18T10:52:29.032844Z"
    },
    "tags": []
   },
   "outputs": [],
   "source": [
    "def polymerisation_step_fast(current_polymer_pairs, pair_insertions):\n",
    "    new_polymer_pairs = current_polymer_pairs.copy()\n",
    "    for pair, inserted_el in pair_insertions.items():\n",
    "        pair_count = current_polymer_pairs.get(pair, 0)\n",
    "        if pair_count:\n",
    "            new_polymer_pairs[pair] -= pair_count\n",
    "            new_polymer_pairs[pair[0] + inserted_el] += pair_count\n",
    "            new_polymer_pairs[inserted_el + pair[1]] += pair_count\n",
    "    return new_polymer_pairs\n",
    "\n",
    "def polymerisation_fast(polymer_template, pair_insertions, n_steps=1, return_calc=False):\n",
    "    # Generate and count pairs\n",
    "    el_pairs = defaultdict(int, Counter(map(''.join, zip('-' + polymer_template, polymer_template + '-'))))\n",
    "    for i in range(n_steps):\n",
    "        el_pairs = polymerisation_step_fast(el_pairs, pair_insertions)\n",
    "    \n",
    "    # Convert to element counts\n",
    "    el_count = defaultdict(float)\n",
    "    for pair, count in el_pairs.items():\n",
    "        for el in pair:\n",
    "            if el != '-':\n",
    "                el_count[el] += count / 2\n",
    "\n",
    "    return int(max(el_count.values()) - min(el_count.values()))\n",
    "\n",
    "assert polymerisation_fast(polymer_template, pair_insertions, 10) == 1588\n",
    "assert polymerisation_fast(polymer_template, pair_insertions, 40) == 2188189693529"
   ]
  },
  {
   "cell_type": "code",
   "execution_count": 60,
   "id": "5aa35f6a-fe71-48fa-99a0-8440f8aaac58",
   "metadata": {
    "execution": {
     "iopub.execute_input": "2021-12-18T10:52:31.039582Z",
     "iopub.status.busy": "2021-12-18T10:52:31.039221Z",
     "iopub.status.idle": "2021-12-18T10:52:31.048349Z",
     "shell.execute_reply": "2021-12-18T10:52:31.047604Z",
     "shell.execute_reply.started": "2021-12-18T10:52:31.039554Z"
    },
    "tags": []
   },
   "outputs": [
    {
     "data": {
      "text/plain": [
       "3015383850689"
      ]
     },
     "execution_count": 60,
     "metadata": {},
     "output_type": "execute_result"
    }
   ],
   "source": [
    "polymerisation_fast(*parse_instructions(open('data/input_day14.txt').readlines()), 40, return_calc=True)"
   ]
  },
  {
   "cell_type": "markdown",
   "id": "83cf55a0-e3eb-401d-ac4a-1f961be4f4b7",
   "metadata": {},
   "source": [
    "### Day 15: Chiton"
   ]
  },
  {
   "cell_type": "code",
   "execution_count": 9,
   "id": "edf5b81e-9b56-4d23-a8a0-bd7c30d9e656",
   "metadata": {
    "execution": {
     "iopub.execute_input": "2021-12-19T19:30:05.522759Z",
     "iopub.status.busy": "2021-12-19T19:30:05.522450Z",
     "iopub.status.idle": "2021-12-19T19:30:05.528883Z",
     "shell.execute_reply": "2021-12-19T19:30:05.528162Z",
     "shell.execute_reply.started": "2021-12-19T19:30:05.522731Z"
    },
    "tags": []
   },
   "outputs": [
    {
     "data": {
      "text/plain": [
       "[1, 1, 6, 3, 7, 5, 1, 7, 4, 2]"
      ]
     },
     "execution_count": 9,
     "metadata": {},
     "output_type": "execute_result"
    }
   ],
   "source": [
    "sample = \"\"\"\n",
    "1163751742\n",
    "1381373672\n",
    "2136511328\n",
    "3694931569\n",
    "7463417111\n",
    "1319128137\n",
    "1359912421\n",
    "3125421639\n",
    "1293138521\n",
    "2311944581\n",
    "\"\"\".strip().split('\\n')\n",
    "sample = list(map(lambda l: list(map(int, l)), sample))\n",
    "sample[0]"
   ]
  },
  {
   "cell_type": "code",
   "execution_count": 10,
   "id": "8c95c181-6532-4f25-9d9a-084a46f4a717",
   "metadata": {
    "execution": {
     "iopub.execute_input": "2021-12-19T19:30:10.054847Z",
     "iopub.status.busy": "2021-12-19T19:30:10.054390Z",
     "iopub.status.idle": "2021-12-19T19:30:10.061921Z",
     "shell.execute_reply": "2021-12-19T19:30:10.061271Z",
     "shell.execute_reply.started": "2021-12-19T19:30:10.054824Z"
    },
    "tags": []
   },
   "outputs": [],
   "source": [
    "# Part 1\n",
    "\n",
    "def parse_map(file_name):\n",
    "    return list(map(lambda l: list(map(int, l.strip())), open(file_name).readlines()))\n",
    "\n",
    "def min_path_cost(cell_cost, diagonal=False):\n",
    "    row, col = len(cell_cost) - 1, len(cell_cost[0]) - 1\n",
    "    cost = [row.copy() for row in cell_cost]\n",
    "    \n",
    "    for i in range(row):\n",
    "        cost[i+1][0] += cost[i][0]\n",
    "        \n",
    "    for j in range(col):\n",
    "        cost[0][j+1] += cost[0][j]\n",
    "        \n",
    "    for i in range(row):\n",
    "        for j in range(col):\n",
    "            neighbours = [cost[i][j+1], cost[i+1][j]]\n",
    "            min_neighbour_cost = min(*neighbours)\n",
    "            cost[i+1][j+1] += (min(cost[i][j], min_neighbour_cost)\n",
    "                               if diagonal else\n",
    "                               min_neighbour_cost)\n",
    "    return cost[row][col] - cost[0][0]\n",
    "\n",
    "cost = [[1, 2, 3], \n",
    "        [4, 8, 2], \n",
    "        [1, 5, 3]]\n",
    "assert min_path_cost(cost, diagonal=True) == 7\n",
    "assert min_path_cost(cost) == 10\n",
    "assert min_path_cost(sample) == 40"
   ]
  },
  {
   "cell_type": "code",
   "execution_count": 11,
   "id": "fa49b1eb-7b7d-4d73-8ef4-1cbd1e0d3d1d",
   "metadata": {
    "execution": {
     "iopub.execute_input": "2021-12-19T19:30:11.336269Z",
     "iopub.status.busy": "2021-12-19T19:30:11.335974Z",
     "iopub.status.idle": "2021-12-19T19:30:11.350517Z",
     "shell.execute_reply": "2021-12-19T19:30:11.349761Z",
     "shell.execute_reply.started": "2021-12-19T19:30:11.336242Z"
    },
    "tags": []
   },
   "outputs": [
    {
     "data": {
      "text/plain": [
       "745"
      ]
     },
     "execution_count": 11,
     "metadata": {},
     "output_type": "execute_result"
    }
   ],
   "source": [
    "min_path_cost(parse_map('data/input_day15.txt'))"
   ]
  },
  {
   "cell_type": "code",
   "execution_count": 12,
   "id": "b57a5e43-8c4a-4a09-9611-d64879c76d41",
   "metadata": {
    "execution": {
     "iopub.execute_input": "2021-12-19T19:30:11.861442Z",
     "iopub.status.busy": "2021-12-19T19:30:11.861153Z",
     "iopub.status.idle": "2021-12-19T19:30:11.871094Z",
     "shell.execute_reply": "2021-12-19T19:30:11.870476Z",
     "shell.execute_reply.started": "2021-12-19T19:30:11.861411Z"
    },
    "tags": []
   },
   "outputs": [],
   "source": [
    "# Part 2\n",
    "\n",
    "def to_full_map(small_map):\n",
    "    return [[x + i + j if x + i + j < 10 else x + i + j - 9 \n",
    "             for j in range(5)\n",
    "             for x in row ]\n",
    "            for i in range(5)\n",
    "            for row in small_map]\n",
    "    \n",
    "assert to_full_map([[8]]) == [[8, 9, 1, 2, 3],\n",
    "                              [9, 1, 2, 3, 4],\n",
    "                              [1, 2, 3, 4, 5],\n",
    "                              [2, 3, 4, 5, 6],\n",
    "                              [3, 4, 5, 6, 7]]\n",
    "assert to_full_map(sample) == parse_map('data/sample_part2_day15.txt')\n",
    "assert min_path_cost(to_full_map(sample)) == 315"
   ]
  },
  {
   "cell_type": "code",
   "execution_count": 13,
   "id": "655c593b-efe5-4b62-af4d-8d049fdb7147",
   "metadata": {
    "execution": {
     "iopub.execute_input": "2021-12-19T19:30:13.024922Z",
     "iopub.status.busy": "2021-12-19T19:30:13.024384Z",
     "iopub.status.idle": "2021-12-19T19:30:13.252293Z",
     "shell.execute_reply": "2021-12-19T19:30:13.250907Z",
     "shell.execute_reply.started": "2021-12-19T19:30:13.024893Z"
    },
    "tags": []
   },
   "outputs": [
    {
     "data": {
      "text/plain": [
       "3012"
      ]
     },
     "execution_count": 13,
     "metadata": {},
     "output_type": "execute_result"
    }
   ],
   "source": [
    "min_path_cost(to_full_map(parse_map('data/input_day15.txt')))  # Wrong answer :("
   ]
  },
  {
   "cell_type": "code",
   "execution_count": 14,
   "id": "2c9e0a41-699e-4d82-bf5c-40cef5057101",
   "metadata": {
    "execution": {
     "iopub.execute_input": "2021-12-19T19:30:14.397807Z",
     "iopub.status.busy": "2021-12-19T19:30:14.397459Z",
     "iopub.status.idle": "2021-12-19T19:30:14.407705Z",
     "shell.execute_reply": "2021-12-19T19:30:14.406720Z",
     "shell.execute_reply.started": "2021-12-19T19:30:14.397775Z"
    },
    "tags": []
   },
   "outputs": [
    {
     "ename": "AssertionError",
     "evalue": "",
     "output_type": "error",
     "traceback": [
      "\u001b[0;31m---------------------------------------------------------------------------\u001b[0m",
      "\u001b[0;31mAssertionError\u001b[0m                            Traceback (most recent call last)",
      "\u001b[0;32m/var/folders/n4/gbmkj22d08jcv7tkp3cnp2g80000gn/T/ipykernel_47161/3184590700.py\u001b[0m in \u001b[0;36m<module>\u001b[0;34m\u001b[0m\n\u001b[1;32m      3\u001b[0m          \u001b[0;34m[\u001b[0m\u001b[0;36m1\u001b[0m\u001b[0;34m,\u001b[0m\u001b[0;36m9\u001b[0m\u001b[0;34m,\u001b[0m\u001b[0;36m1\u001b[0m\u001b[0;34m,\u001b[0m\u001b[0;36m1\u001b[0m\u001b[0;34m,\u001b[0m\u001b[0;36m1\u001b[0m\u001b[0;34m]\u001b[0m\u001b[0;34m,\u001b[0m\u001b[0;34m\u001b[0m\u001b[0;34m\u001b[0m\u001b[0m\n\u001b[1;32m      4\u001b[0m          [1,1,1,9,1]]\n\u001b[0;32m----> 5\u001b[0;31m \u001b[0;32massert\u001b[0m \u001b[0mmin_path_cost\u001b[0m\u001b[0;34m(\u001b[0m\u001b[0mcost2\u001b[0m\u001b[0;34m)\u001b[0m \u001b[0;34m==\u001b[0m \u001b[0;36m8\u001b[0m\u001b[0;34m\u001b[0m\u001b[0;34m\u001b[0m\u001b[0m\n\u001b[0m",
      "\u001b[0;31mAssertionError\u001b[0m: "
     ]
    }
   ],
   "source": [
    "# An example that shows the issue with the first algorithm: moves up and left aren't taken into account\n",
    "cost2 = [[1,9,9,9,9],\n",
    "         [1,9,1,1,1],\n",
    "         [1,1,1,9,1]]\n",
    "assert min_path_cost(cost2) == 8"
   ]
  },
  {
   "cell_type": "code",
   "execution_count": 15,
   "id": "b324ed13-60d7-4215-bc0c-463d33216c0e",
   "metadata": {
    "execution": {
     "iopub.execute_input": "2021-12-19T19:30:22.659714Z",
     "iopub.status.busy": "2021-12-19T19:30:22.659019Z",
     "iopub.status.idle": "2021-12-19T19:30:22.668840Z",
     "shell.execute_reply": "2021-12-19T19:30:22.668091Z",
     "shell.execute_reply.started": "2021-12-19T19:30:22.659683Z"
    },
    "tags": []
   },
   "outputs": [],
   "source": [
    "import networkx as nx\n",
    "from matplotlib import pyplot as plt\n",
    "from networkx.algorithms.shortest_paths.weighted import bidirectional_dijkstra\n",
    "\n",
    "def create_grid_graph(grid):\n",
    "    G = nx.grid_2d_graph(len(grid), len(grid[0]))\n",
    "    for node in G.nodes():\n",
    "        G.nodes[node]['weight'] = grid[node[0]][node[1]]\n",
    "    return G\n",
    "    \n",
    "def min_path_cost_2(cell_cost, draw_graph=False):\n",
    "    G = create_grid_graph(cell_cost)\n",
    "    source, target = (0,0), (len(cell_cost)-1, len(cell_cost[0])-1)\n",
    "    \n",
    "    def get_edge_weight(u, v, edge_attr):\n",
    "        return G.nodes[v]['weight']\n",
    "    _, path = bidirectional_dijkstra(G, source, target, weight=get_edge_weight)\n",
    "    \n",
    "    path_cost = sum(cell_cost[i][j] for i,j in path[1:])\n",
    "    return path_cost\n",
    "\n",
    "assert min_path_cost_2(cost) == 10\n",
    "assert min_path_cost_2(cost2) == 8\n",
    "assert min_path_cost_2(sample) == 40"
   ]
  },
  {
   "cell_type": "code",
   "execution_count": 16,
   "id": "a5fbb9a3-f0cb-474d-a02c-5216fd2158fa",
   "metadata": {
    "execution": {
     "iopub.execute_input": "2021-12-19T19:30:41.180153Z",
     "iopub.status.busy": "2021-12-19T19:30:41.179875Z",
     "iopub.status.idle": "2021-12-19T19:30:48.531520Z",
     "shell.execute_reply": "2021-12-19T19:30:48.530923Z",
     "shell.execute_reply.started": "2021-12-19T19:30:41.180123Z"
    }
   },
   "outputs": [
    {
     "data": {
      "text/plain": [
       "3002"
      ]
     },
     "execution_count": 16,
     "metadata": {},
     "output_type": "execute_result"
    }
   ],
   "source": [
    "min_path_cost_2(to_full_map(parse_map('data/input_day15.txt')))"
   ]
  },
  {
   "cell_type": "markdown",
   "id": "ac284c32-bfd4-484c-b066-c5129ce20297",
   "metadata": {},
   "source": [
    "### Day 16: Packet Decoder"
   ]
  },
  {
   "cell_type": "code",
   "execution_count": 42,
   "id": "36a20ad7-9ba3-493d-9276-ca2abeb5b7f7",
   "metadata": {
    "execution": {
     "iopub.execute_input": "2021-12-19T21:52:21.130726Z",
     "iopub.status.busy": "2021-12-19T21:52:21.130438Z",
     "iopub.status.idle": "2021-12-19T21:52:21.135846Z",
     "shell.execute_reply": "2021-12-19T21:52:21.135034Z",
     "shell.execute_reply.started": "2021-12-19T21:52:21.130696Z"
    },
    "tags": []
   },
   "outputs": [],
   "source": [
    "def hex_to_bin(s):\n",
    "    return ''.join(f'{int(c, 16):04b}' for c in s)\n",
    "\n",
    "def bin_to_dec(s):\n",
    "    return int(s, 2)\n",
    "\n",
    "assert hex_to_bin('D2FE28') == '110100101111111000101000'\n",
    "assert bin_to_dec('100') == 4"
   ]
  },
  {
   "cell_type": "code",
   "execution_count": 141,
   "id": "2e7fe559-65a3-4508-a4dd-64768c502b7d",
   "metadata": {
    "execution": {
     "iopub.execute_input": "2021-12-20T01:35:03.825925Z",
     "iopub.status.busy": "2021-12-20T01:35:03.825630Z",
     "iopub.status.idle": "2021-12-20T01:35:03.840210Z",
     "shell.execute_reply": "2021-12-20T01:35:03.839504Z",
     "shell.execute_reply.started": "2021-12-20T01:35:03.825893Z"
    },
    "tags": []
   },
   "outputs": [],
   "source": [
    "def parse_literal_value(bits):\n",
    "    num_bits = ''\n",
    "    for i in range(0, len(bits), 5):\n",
    "        num_bits += bits[i+1:i+5]\n",
    "        if bits[i] == '0':  # Indicates last block of value\n",
    "            break\n",
    "    return bin_to_dec(num_bits), bits[i+5:]\n",
    "\n",
    "def parse_packet(bits):\n",
    "    assert len(bits) >= 6\n",
    "    version, type_id, packet_bits = bin_to_dec(bits[:3]), bin_to_dec(bits[3:6]), bits[6:]\n",
    "    packet_dict = {'version': version, 'type_id': type_id}\n",
    "    \n",
    "    # Literal value\n",
    "    if type_id == 4:\n",
    "        packet_dict['literal_value'], remaining = parse_literal_value(packet_bits)\n",
    "        \n",
    "    # Operator\n",
    "    else:\n",
    "        length_type_id, subpacket_bits = packet_bits[0], packet_bits[1:]\n",
    "        packet_dict['length_type_id'] = int(length_type_id)\n",
    "        packet_dict['subpackets'] = []\n",
    "            \n",
    "        if length_type_id == '0':\n",
    "            subpackets_length, remaining = bin_to_dec(subpacket_bits[:15]), subpacket_bits[15:]\n",
    "            packet_dict['subpackets_length'] = subpackets_length\n",
    "            \n",
    "            left_to_process = subpackets_length\n",
    "            while left_to_process:\n",
    "                sp, remaining_next = parse_packet(remaining)\n",
    "                left_to_process -= len(remaining) - len(remaining_next)\n",
    "                remaining = remaining_next\n",
    "                packet_dict['subpackets'].append(sp)\n",
    "            \n",
    "        elif length_type_id == '1':\n",
    "            subpackets_number, remaining = bin_to_dec(subpacket_bits[:11]), subpacket_bits[11:]\n",
    "            packet_dict['subpackets_number'] = subpackets_number\n",
    "            while len(packet_dict['subpackets']) < subpackets_number:\n",
    "                sp, remaining = parse_packet(remaining)\n",
    "                packet_dict['subpackets'].append(sp)\n",
    "    \n",
    "    return packet_dict, remaining\n",
    "\n",
    "d1, _ = parse_packet(hex_to_bin('D2FE28'))\n",
    "assert d1['version'] == 6\n",
    "assert d1['type_id'] == 4\n",
    "assert d1['literal_value'] == 2021\n",
    "\n",
    "d2, _ = parse_packet(hex_to_bin('38006F45291200'))\n",
    "assert d2['version'] == 1 \n",
    "assert d2['type_id'] == 6\n",
    "assert d2['subpackets_length'] == 27\n",
    "assert len(d2['subpackets']) == 2\n",
    "assert d2['subpackets'][0]['literal_value'] == 10\n",
    "assert d2['subpackets'][1]['literal_value'] == 20\n",
    "\n",
    "d3, _ = parse_packet(hex_to_bin('EE00D40C823060'))\n",
    "assert d3['version'] == 7\n",
    "assert d3['type_id'] == 3\n",
    "assert d3['subpackets_number'] == 3\n",
    "assert len(d3['subpackets']) == 3\n",
    "assert d3['subpackets'][0]['literal_value'] == 1\n",
    "assert d3['subpackets'][1]['literal_value'] == 2\n",
    "assert d3['subpackets'][2]['literal_value'] == 3"
   ]
  },
  {
   "cell_type": "code",
   "execution_count": 164,
   "id": "a343f926-4684-41f8-80d9-26d87c159563",
   "metadata": {
    "execution": {
     "iopub.execute_input": "2021-12-20T01:54:45.015795Z",
     "iopub.status.busy": "2021-12-20T01:54:45.015489Z",
     "iopub.status.idle": "2021-12-20T01:54:45.022195Z",
     "shell.execute_reply": "2021-12-20T01:54:45.021085Z",
     "shell.execute_reply.started": "2021-12-20T01:54:45.015762Z"
    },
    "tags": []
   },
   "outputs": [],
   "source": [
    "# Part 1\n",
    "\n",
    "def version_sum(packet_dict):\n",
    "    return (packet_dict['version']\n",
    "            if packet_dict['type_id'] == 4\n",
    "            else packet_dict['version'] + sum(version_sum(sp) for sp in packet_dict['subpackets']))\n",
    "    \n",
    "assert version_sum(parse_packet(hex_to_bin('8A004A801A8002F478'))[0]) == 16\n",
    "assert version_sum(parse_packet(hex_to_bin('620080001611562C8802118E34'))[0]) == 12\n",
    "assert version_sum(parse_packet(hex_to_bin('C0015000016115A2E0802F182340'))[0]) == 23\n",
    "assert version_sum(parse_packet(hex_to_bin('A0016C880162017C3686B18A3D4780'))[0]) == 31"
   ]
  },
  {
   "cell_type": "code",
   "execution_count": 165,
   "id": "8551cd6b-ace3-4c10-93a2-739ac3ae18a5",
   "metadata": {
    "execution": {
     "iopub.execute_input": "2021-12-20T01:54:46.188358Z",
     "iopub.status.busy": "2021-12-20T01:54:46.188040Z",
     "iopub.status.idle": "2021-12-20T01:54:46.196828Z",
     "shell.execute_reply": "2021-12-20T01:54:46.196094Z",
     "shell.execute_reply.started": "2021-12-20T01:54:46.188329Z"
    },
    "tags": []
   },
   "outputs": [
    {
     "data": {
      "text/plain": [
       "927"
      ]
     },
     "execution_count": 165,
     "metadata": {},
     "output_type": "execute_result"
    }
   ],
   "source": [
    "bits_transmission = open('data/input_day16.txt').read().strip()\n",
    "version_sum(parse_packet(hex_to_bin(bits_transmission))[0])"
   ]
  },
  {
   "cell_type": "code",
   "execution_count": 180,
   "id": "1ee41172-c46e-48f2-84cd-1022888b7d22",
   "metadata": {
    "execution": {
     "iopub.execute_input": "2021-12-20T02:01:57.460114Z",
     "iopub.status.busy": "2021-12-20T02:01:57.459849Z",
     "iopub.status.idle": "2021-12-20T02:01:57.469315Z",
     "shell.execute_reply": "2021-12-20T02:01:57.468338Z",
     "shell.execute_reply.started": "2021-12-20T02:01:57.460087Z"
    },
    "tags": []
   },
   "outputs": [],
   "source": [
    "# Part 2 \n",
    "\n",
    "import numpy as np\n",
    "\n",
    "def evaluate_packet_value(packet_dict):\n",
    "    type_id = packet_dict['type_id']\n",
    "    if type_id == 4:\n",
    "        return packet_dict['literal_value']\n",
    "    \n",
    "    subpacket_values = list(evaluate_packet_value(sp) for sp in packet_dict['subpackets'])\n",
    "    if type_id < 4:\n",
    "        return {0: sum, \n",
    "                1: np.prod, \n",
    "                2: min, \n",
    "                3: max}[type_id](subpacket_values)\n",
    "    \n",
    "    assert len(subpacket_values) == 2\n",
    "    return int({5: np.greater, \n",
    "                6: np.less, \n",
    "                7: np.equal}[type_id](*subpacket_values))\n",
    "\n",
    "assert evaluate_packet_value(parse_packet(hex_to_bin('C200B40A82'))[0]) == 3\n",
    "assert evaluate_packet_value(parse_packet(hex_to_bin('04005AC33890'))[0]) == 54\n",
    "assert evaluate_packet_value(parse_packet(hex_to_bin('880086C3E88112'))[0]) == 7\n",
    "assert evaluate_packet_value(parse_packet(hex_to_bin('CE00C43D881120'))[0]) == 9\n",
    "assert evaluate_packet_value(parse_packet(hex_to_bin('D8005AC2A8F0'))[0]) == 1\n",
    "assert evaluate_packet_value(parse_packet(hex_to_bin('F600BC2D8F'))[0]) == 0\n",
    "assert evaluate_packet_value(parse_packet(hex_to_bin('9C005AC2F8F0'))[0]) == 0\n",
    "assert evaluate_packet_value(parse_packet(hex_to_bin('9C0141080250320F1802104A08'))[0]) == 1"
   ]
  },
  {
   "cell_type": "code",
   "execution_count": 181,
   "id": "ebd90fc5-7f5a-4f24-9836-f65359f8f6cb",
   "metadata": {
    "execution": {
     "iopub.execute_input": "2021-12-20T02:03:06.936830Z",
     "iopub.status.busy": "2021-12-20T02:03:06.936592Z",
     "iopub.status.idle": "2021-12-20T02:03:06.944015Z",
     "shell.execute_reply": "2021-12-20T02:03:06.943443Z",
     "shell.execute_reply.started": "2021-12-20T02:03:06.936804Z"
    }
   },
   "outputs": [
    {
     "data": {
      "text/plain": [
       "1725277876501"
      ]
     },
     "execution_count": 181,
     "metadata": {},
     "output_type": "execute_result"
    }
   ],
   "source": [
    "evaluate_packet_value(parse_packet(hex_to_bin(bits_transmission))[0])"
   ]
  },
  {
   "cell_type": "code",
   "execution_count": null,
   "id": "46a33963-df18-4492-b334-29478013c6a0",
   "metadata": {},
   "outputs": [],
   "source": []
  }
 ],
 "metadata": {
  "kernelspec": {
   "display_name": "Python 3 (ipykernel)",
   "language": "python",
   "name": "python3"
  },
  "language_info": {
   "codemirror_mode": {
    "name": "ipython",
    "version": 3
   },
   "file_extension": ".py",
   "mimetype": "text/x-python",
   "name": "python",
   "nbconvert_exporter": "python",
   "pygments_lexer": "ipython3",
   "version": "3.9.1"
  }
 },
 "nbformat": 4,
 "nbformat_minor": 5
}
