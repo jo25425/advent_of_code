{
 "cells": [
  {
   "cell_type": "markdown",
   "id": "269c5923-0598-4fab-a6a4-70758b436e80",
   "metadata": {},
   "source": [
    "### Day 13: Transparent Origami"
   ]
  },
  {
   "cell_type": "code",
   "execution_count": null,
   "id": "7449e066-ec26-4125-a7d9-9c7a24925aff",
   "metadata": {
    "tags": []
   },
   "outputs": [],
   "source": [
    "sample = \"\"\"\n",
    "6,10\n",
    "0,14\n",
    "9,10\n",
    "0,3\n",
    "10,4\n",
    "4,11\n",
    "6,0\n",
    "6,12\n",
    "4,1\n",
    "0,13\n",
    "10,12\n",
    "3,4\n",
    "3,0\n",
    "8,4\n",
    "1,10\n",
    "2,14\n",
    "8,10\n",
    "9,0\n",
    "\n",
    "fold along y=7\n",
    "fold along x=5\"\"\".strip().split('\\n')"
   ]
  },
  {
   "cell_type": "code",
   "execution_count": null,
   "id": "64053196-7010-428f-a42d-3267dffdaf4a",
   "metadata": {
    "tags": []
   },
   "outputs": [],
   "source": [
    "import numpy as np\n",
    "\n",
    "def parse_transparent_paper(lines):\n",
    "    dots, folds = [], []\n",
    "    for l in lines:\n",
    "        if l.startswith('fold'):\n",
    "            axis, pos = l.replace('fold along ', '').split('=')\n",
    "            folds.append((axis, int(pos)))\n",
    "        elif l:\n",
    "            dots.append(tuple(map(int, l.split(','))))\n",
    "    return dots, folds\n",
    "\n",
    "class TransparentPaper:\n",
    "    \n",
    "    def __init__(self, dots):\n",
    "        self.size_x = max(map(lambda pos: pos[0], dots)) + 1\n",
    "        self.size_y = max(map(lambda pos: pos[1], dots)) + 1\n",
    "        self.pattern = np.zeros((self.size_y, self.size_x), dtype=int)\n",
    "        for x,y in dots:\n",
    "            self.pattern[y,x] = 1\n",
    "    \n",
    "    def __repr__(self):\n",
    "        return '\\n'.join(''.join('.' if x == 0 else '#' if x == 1 else '' for x in row) for row in self.pattern)\n",
    "    \n",
    "    def fold_up(self, pos):\n",
    "        fold_size = max(pos, self.size_y - pos - 1)\n",
    "        to_fold = self._pad_up(np.flipud(self.pattern[pos+1:]), fold_size)\n",
    "        folded = self._pad_up(self.pattern[:pos], fold_size)\n",
    "        folded[np.where(to_fold == 1)] = 1\n",
    "        self.pattern = folded\n",
    "        self.size_x = self.pattern.shape[1]\n",
    "        self.size_y = self.pattern.shape[0]\n",
    "        \n",
    "    def fold_left(self, pos):\n",
    "        fold_size = max(pos, self.size_x - pos - 1)\n",
    "        to_fold = self._pad_left(np.fliplr(self.pattern[:,pos+1:]), fold_size)\n",
    "        folded = self._pad_left(self.pattern[:,:pos], fold_size)\n",
    "        folded[np.where(to_fold == 1)] = 1\n",
    "        self.pattern = folded\n",
    "        self.size_x = self.pattern.shape[1]\n",
    "        self.size_y = self.pattern.shape[0]\n",
    "        \n",
    "    def do_folds(self, folds):\n",
    "        for fold, pos in folds:\n",
    "            (self.fold_left if fold == 'x' else self.fold_up)(pos)\n",
    "            \n",
    "    def get_visible_dots(self):\n",
    "        return self.pattern.sum()\n",
    "    \n",
    "    @staticmethod\n",
    "    def _pad_left(arr, target_width):\n",
    "        pad_width = target_width - arr.shape[1]\n",
    "        return arr if not pad_width else np.pad(arr, ((0, 0), (pad_width, 0)))\n",
    "    \n",
    "    @staticmethod\n",
    "    def _pad_up(arr, target_width):\n",
    "        pad_width = target_width - arr.shape[0]\n",
    "        return arr if not pad_width else np.pad(arr, ((pad_width, 0), (0, 0)))"
   ]
  },
  {
   "cell_type": "code",
   "execution_count": null,
   "id": "f5444045-1678-4600-9a15-314cb03590a9",
   "metadata": {
    "tags": []
   },
   "outputs": [],
   "source": [
    "dots, folds = parse_transparent_paper(sample)\n",
    "print(f'# dots = {len(dots)} (e.g. {dots[0]})\\n# folds = {len(folds)} (e.g. {folds[0]})')\n",
    "\n",
    "tp = TransparentPaper(dots)\n",
    "tp.do_folds([folds[0]])\n",
    "assert tp.get_visible_dots() == 17\n",
    "tp.do_folds(folds[1:])\n",
    "print('');display(tp)\n",
    "tp.fold_left(3)\n",
    "print('');display(tp)\n",
    "tp.fold_up(1)\n",
    "print('');tp"
   ]
  },
  {
   "cell_type": "code",
   "execution_count": null,
   "id": "e3811068-b745-4be4-aa94-671696f3affa",
   "metadata": {
    "tags": []
   },
   "outputs": [],
   "source": [
    "# Part 1\n",
    "dots, folds = parse_transparent_paper(map(str.strip, open('data/input_day13.txt').readlines()))\n",
    "print(f'# dots = {len(dots)} (e.g. {dots[0]})\\n# folds = {len(folds)} (e.g. {folds[0]})')\n",
    "\n",
    "tp = TransparentPaper(dots)\n",
    "tp.do_folds([folds[0]])\n",
    "tp.get_visible_dots()"
   ]
  },
  {
   "cell_type": "code",
   "execution_count": null,
   "id": "cc41f9b1-0e6b-4bf6-8283-d609c25b6b48",
   "metadata": {
    "tags": []
   },
   "outputs": [],
   "source": [
    "# Part 2\n",
    "tp.do_folds(folds[1:])\n",
    "print(tp.pattern.shape)\n",
    "tp  # BCZRCEAB"
   ]
  },
  {
   "cell_type": "markdown",
   "id": "ff13247b-185c-4641-aa56-4c6d0bb5397a",
   "metadata": {},
   "source": [
    "### Day 14: Extended Polymerization"
   ]
  },
  {
   "cell_type": "code",
   "execution_count": null,
   "id": "572312cb-a740-4594-8602-e6ffd3f7e257",
   "metadata": {
    "tags": []
   },
   "outputs": [],
   "source": [
    "sample = \"\"\"\n",
    "NNCB\n",
    "\n",
    "CH -> B\n",
    "HH -> N\n",
    "CB -> H\n",
    "NH -> C\n",
    "HB -> C\n",
    "HC -> B\n",
    "HN -> C\n",
    "NN -> C\n",
    "BH -> H\n",
    "NC -> B\n",
    "NB -> B\n",
    "BN -> B\n",
    "BB -> N\n",
    "BC -> B\n",
    "CC -> N\n",
    "CN -> C\"\"\".strip().split('\\n')"
   ]
  },
  {
   "cell_type": "code",
   "execution_count": null,
   "id": "5b4c2c1e-42c6-4c59-9f36-e3b8fc58ceff",
   "metadata": {
    "tags": []
   },
   "outputs": [],
   "source": [
    "from itertools import tee\n",
    "from collections import Counter, defaultdict\n",
    "\n",
    "def parse_instructions(lines):\n",
    "    return lines[0].strip(), {pair: new for pair, new in map(lambda s: s.strip().split(' -> '), lines[2:])}\n",
    "\n",
    "def polymerisation_step(polymer_generator, pair_insertions):\n",
    "    def new_polymer():\n",
    "        first_elements, second_elements = tee(polymer_generator)\n",
    "        next(second_elements, None)\n",
    "        for el1, el2 in zip(first_elements, second_elements):\n",
    "            el_pair = el1 + el2\n",
    "            yield(el1)\n",
    "            if el_pair in pair_insertions:\n",
    "                yield(pair_insertions[el_pair])\n",
    "        yield(el2)\n",
    "    return new_polymer()\n",
    "\n",
    "def polymerisation(polymer_template, pair_insertions, n_steps=1, return_calc=False):\n",
    "    res = polymer_template[:]\n",
    "    \n",
    "    for i in range(n_steps):\n",
    "        res = polymerisation_step(res, pair_insertions)\n",
    "        \n",
    "    if not return_calc:\n",
    "        return ''.join(res)  # Polymerisation string\n",
    "    \n",
    "    c = Counter(res)\n",
    "    return c.most_common()[0][1] - c.most_common()[-1][1]  # Calc: count most common - count least common\n",
    "\n",
    "polymer_template, pair_insertions = parse_instructions(sample)\n",
    "polymer_template, pair_insertions\n",
    "assert ''.join(polymerisation_step(polymer_template, pair_insertions)) == 'NCNBCHB'\n",
    "assert polymerisation(polymer_template, pair_insertions, 1) == 'NCNBCHB'\n",
    "assert polymerisation(polymer_template, pair_insertions, 2) == 'NBCCNBBBCBHCB'\n",
    "assert polymerisation(polymer_template, pair_insertions, 3) == 'NBBBCNCCNBBNBNBBCHBHHBCHB'\n",
    "assert polymerisation(polymer_template, pair_insertions, 4) == 'NBBNBNBBCCNBCNCCNBBNBBNBBBNBBNBBCBHCBHHNHCBBCBHCB'\n",
    "assert len(polymerisation(polymer_template, pair_insertions, 10)) == 3073\n",
    "assert polymerisation(polymer_template, pair_insertions, 10, return_calc=True) == 1588"
   ]
  },
  {
   "cell_type": "code",
   "execution_count": null,
   "id": "bcccd896-4588-438e-90ec-fae596fba52a",
   "metadata": {
    "tags": []
   },
   "outputs": [],
   "source": [
    "polymerisation(*parse_instructions(open('data/input_day14.txt').readlines()), 10, return_calc=True)"
   ]
  },
  {
   "cell_type": "code",
   "execution_count": null,
   "id": "2fd5d3aa-6f10-47da-b78c-99b8cc6ceb6b",
   "metadata": {
    "tags": []
   },
   "outputs": [],
   "source": [
    "def polymerisation_step_fast(current_polymer_pairs, pair_insertions):\n",
    "    new_polymer_pairs = current_polymer_pairs.copy()\n",
    "    for pair, inserted_el in pair_insertions.items():\n",
    "        pair_count = current_polymer_pairs.get(pair, 0)\n",
    "        if pair_count:\n",
    "            new_polymer_pairs[pair] -= pair_count\n",
    "            new_polymer_pairs[pair[0] + inserted_el] += pair_count\n",
    "            new_polymer_pairs[inserted_el + pair[1]] += pair_count\n",
    "    return new_polymer_pairs\n",
    "\n",
    "def polymerisation_fast(polymer_template, pair_insertions, n_steps=1, return_calc=False):\n",
    "    # Generate and count pairs\n",
    "    el_pairs = defaultdict(int, Counter(map(''.join, zip('-' + polymer_template, polymer_template + '-'))))\n",
    "    for i in range(n_steps):\n",
    "        el_pairs = polymerisation_step_fast(el_pairs, pair_insertions)\n",
    "    \n",
    "    # Convert to element counts\n",
    "    el_count = defaultdict(float)\n",
    "    for pair, count in el_pairs.items():\n",
    "        for el in pair:\n",
    "            if el != '-':\n",
    "                el_count[el] += count / 2\n",
    "\n",
    "    return int(max(el_count.values()) - min(el_count.values()))\n",
    "\n",
    "assert polymerisation_fast(polymer_template, pair_insertions, 10) == 1588\n",
    "assert polymerisation_fast(polymer_template, pair_insertions, 40) == 2188189693529"
   ]
  },
  {
   "cell_type": "code",
   "execution_count": null,
   "id": "5aa35f6a-fe71-48fa-99a0-8440f8aaac58",
   "metadata": {
    "tags": []
   },
   "outputs": [],
   "source": [
    "polymerisation_fast(*parse_instructions(open('data/input_day14.txt').readlines()), 40, return_calc=True)"
   ]
  },
  {
   "cell_type": "markdown",
   "id": "83cf55a0-e3eb-401d-ac4a-1f961be4f4b7",
   "metadata": {},
   "source": [
    "### Day 15: Chiton"
   ]
  },
  {
   "cell_type": "code",
   "execution_count": null,
   "id": "edf5b81e-9b56-4d23-a8a0-bd7c30d9e656",
   "metadata": {
    "tags": []
   },
   "outputs": [],
   "source": [
    "sample = \"\"\"\n",
    "1163751742\n",
    "1381373672\n",
    "2136511328\n",
    "3694931569\n",
    "7463417111\n",
    "1319128137\n",
    "1359912421\n",
    "3125421639\n",
    "1293138521\n",
    "2311944581\n",
    "\"\"\".strip().split('\\n')\n",
    "sample = list(map(lambda l: list(map(int, l)), sample))\n",
    "sample[0]"
   ]
  },
  {
   "cell_type": "code",
   "execution_count": null,
   "id": "8c95c181-6532-4f25-9d9a-084a46f4a717",
   "metadata": {
    "tags": []
   },
   "outputs": [],
   "source": [
    "# Part 1\n",
    "\n",
    "def parse_map(file_name):\n",
    "    return list(map(lambda l: list(map(int, l.strip())), open(file_name).readlines()))\n",
    "\n",
    "def min_path_cost(cell_cost, diagonal=False):\n",
    "    row, col = len(cell_cost) - 1, len(cell_cost[0]) - 1\n",
    "    cost = [row.copy() for row in cell_cost]\n",
    "    \n",
    "    for i in range(row):\n",
    "        cost[i+1][0] += cost[i][0]\n",
    "        \n",
    "    for j in range(col):\n",
    "        cost[0][j+1] += cost[0][j]\n",
    "        \n",
    "    for i in range(row):\n",
    "        for j in range(col):\n",
    "            neighbours = [cost[i][j+1], cost[i+1][j]]\n",
    "            min_neighbour_cost = min(*neighbours)\n",
    "            cost[i+1][j+1] += (min(cost[i][j], min_neighbour_cost)\n",
    "                               if diagonal else\n",
    "                               min_neighbour_cost)\n",
    "    return cost[row][col] - cost[0][0]\n",
    "\n",
    "cost = [[1, 2, 3], \n",
    "        [4, 8, 2], \n",
    "        [1, 5, 3]]\n",
    "assert min_path_cost(cost, diagonal=True) == 7\n",
    "assert min_path_cost(cost) == 10\n",
    "assert min_path_cost(sample) == 40"
   ]
  },
  {
   "cell_type": "code",
   "execution_count": null,
   "id": "fa49b1eb-7b7d-4d73-8ef4-1cbd1e0d3d1d",
   "metadata": {
    "tags": []
   },
   "outputs": [],
   "source": [
    "min_path_cost(parse_map('data/input_day15.txt'))"
   ]
  },
  {
   "cell_type": "code",
   "execution_count": null,
   "id": "b57a5e43-8c4a-4a09-9611-d64879c76d41",
   "metadata": {
    "tags": []
   },
   "outputs": [],
   "source": [
    "# Part 2\n",
    "\n",
    "def to_full_map(small_map):\n",
    "    return [[x + i + j if x + i + j < 10 else x + i + j - 9 \n",
    "             for j in range(5)\n",
    "             for x in row ]\n",
    "            for i in range(5)\n",
    "            for row in small_map]\n",
    "    \n",
    "assert to_full_map([[8]]) == [[8, 9, 1, 2, 3],\n",
    "                              [9, 1, 2, 3, 4],\n",
    "                              [1, 2, 3, 4, 5],\n",
    "                              [2, 3, 4, 5, 6],\n",
    "                              [3, 4, 5, 6, 7]]\n",
    "assert to_full_map(sample) == parse_map('data/sample_part2_day15.txt')\n",
    "assert min_path_cost(to_full_map(sample)) == 315"
   ]
  },
  {
   "cell_type": "code",
   "execution_count": null,
   "id": "655c593b-efe5-4b62-af4d-8d049fdb7147",
   "metadata": {
    "tags": []
   },
   "outputs": [],
   "source": [
    "min_path_cost(to_full_map(parse_map('data/input_day15.txt')))  # Wrong answer :("
   ]
  },
  {
   "cell_type": "code",
   "execution_count": null,
   "id": "2c9e0a41-699e-4d82-bf5c-40cef5057101",
   "metadata": {
    "tags": []
   },
   "outputs": [],
   "source": [
    "# An example that shows the issue with the first algorithm: moves up and left aren't taken into account\n",
    "cost2 = [[1,9,9,9,9],\n",
    "         [1,9,1,1,1],\n",
    "         [1,1,1,9,1]]\n",
    "assert min_path_cost(cost2) == 8"
   ]
  },
  {
   "cell_type": "code",
   "execution_count": null,
   "id": "b324ed13-60d7-4215-bc0c-463d33216c0e",
   "metadata": {
    "tags": []
   },
   "outputs": [],
   "source": [
    "import networkx as nx\n",
    "from matplotlib import pyplot as plt\n",
    "from networkx.algorithms.shortest_paths.weighted import bidirectional_dijkstra\n",
    "\n",
    "def create_grid_graph(grid):\n",
    "    G = nx.grid_2d_graph(len(grid), len(grid[0]))\n",
    "    for node in G.nodes():\n",
    "        G.nodes[node]['weight'] = grid[node[0]][node[1]]\n",
    "    return G\n",
    "    \n",
    "def min_path_cost_2(cell_cost, draw_graph=False):\n",
    "    G = create_grid_graph(cell_cost)\n",
    "    source, target = (0,0), (len(cell_cost)-1, len(cell_cost[0])-1)\n",
    "    \n",
    "    def get_edge_weight(u, v, edge_attr):\n",
    "        return G.nodes[v]['weight']\n",
    "    _, path = bidirectional_dijkstra(G, source, target, weight=get_edge_weight)\n",
    "    \n",
    "    path_cost = sum(cell_cost[i][j] for i,j in path[1:])\n",
    "    return path_cost\n",
    "\n",
    "assert min_path_cost_2(cost) == 10\n",
    "assert min_path_cost_2(cost2) == 8\n",
    "assert min_path_cost_2(sample) == 40"
   ]
  },
  {
   "cell_type": "code",
   "execution_count": null,
   "id": "a5fbb9a3-f0cb-474d-a02c-5216fd2158fa",
   "metadata": {},
   "outputs": [],
   "source": [
    "min_path_cost_2(to_full_map(parse_map('data/input_day15.txt')))"
   ]
  },
  {
   "cell_type": "markdown",
   "id": "ac284c32-bfd4-484c-b066-c5129ce20297",
   "metadata": {},
   "source": [
    "### Day 16: Packet Decoder"
   ]
  },
  {
   "cell_type": "code",
   "execution_count": null,
   "id": "36a20ad7-9ba3-493d-9276-ca2abeb5b7f7",
   "metadata": {
    "tags": []
   },
   "outputs": [],
   "source": [
    "def hex_to_bin(s):\n",
    "    return ''.join(f'{int(c, 16):04b}' for c in s)\n",
    "\n",
    "def bin_to_dec(s):\n",
    "    return int(s, 2)\n",
    "\n",
    "assert hex_to_bin('D2FE28') == '110100101111111000101000'\n",
    "assert bin_to_dec('100') == 4"
   ]
  },
  {
   "cell_type": "code",
   "execution_count": null,
   "id": "2e7fe559-65a3-4508-a4dd-64768c502b7d",
   "metadata": {
    "tags": []
   },
   "outputs": [],
   "source": [
    "def parse_literal_value(bits):\n",
    "    num_bits = ''\n",
    "    for i in range(0, len(bits), 5):\n",
    "        num_bits += bits[i+1:i+5]\n",
    "        if bits[i] == '0':  # Indicates last block of value\n",
    "            break\n",
    "    return bin_to_dec(num_bits), bits[i+5:]\n",
    "\n",
    "def parse_packet(bits):\n",
    "    assert len(bits) >= 6\n",
    "    version, type_id, packet_bits = bin_to_dec(bits[:3]), bin_to_dec(bits[3:6]), bits[6:]\n",
    "    packet_dict = {'version': version, 'type_id': type_id}\n",
    "    \n",
    "    # Literal value\n",
    "    if type_id == 4:\n",
    "        packet_dict['literal_value'], remaining = parse_literal_value(packet_bits)\n",
    "        \n",
    "    # Operator\n",
    "    else:\n",
    "        length_type_id, subpacket_bits = packet_bits[0], packet_bits[1:]\n",
    "        packet_dict['length_type_id'] = int(length_type_id)\n",
    "        packet_dict['subpackets'] = []\n",
    "            \n",
    "        if length_type_id == '0':\n",
    "            subpackets_length, remaining = bin_to_dec(subpacket_bits[:15]), subpacket_bits[15:]\n",
    "            packet_dict['subpackets_length'] = subpackets_length\n",
    "            \n",
    "            left_to_process = subpackets_length\n",
    "            while left_to_process:\n",
    "                sp, remaining_next = parse_packet(remaining)\n",
    "                left_to_process -= len(remaining) - len(remaining_next)\n",
    "                remaining = remaining_next\n",
    "                packet_dict['subpackets'].append(sp)\n",
    "            \n",
    "        elif length_type_id == '1':\n",
    "            subpackets_number, remaining = bin_to_dec(subpacket_bits[:11]), subpacket_bits[11:]\n",
    "            packet_dict['subpackets_number'] = subpackets_number\n",
    "            while len(packet_dict['subpackets']) < subpackets_number:\n",
    "                sp, remaining = parse_packet(remaining)\n",
    "                packet_dict['subpackets'].append(sp)\n",
    "    \n",
    "    return packet_dict, remaining\n",
    "\n",
    "d1, _ = parse_packet(hex_to_bin('D2FE28'))\n",
    "assert d1['version'] == 6\n",
    "assert d1['type_id'] == 4\n",
    "assert d1['literal_value'] == 2021\n",
    "\n",
    "d2, _ = parse_packet(hex_to_bin('38006F45291200'))\n",
    "assert d2['version'] == 1 \n",
    "assert d2['type_id'] == 6\n",
    "assert d2['subpackets_length'] == 27\n",
    "assert len(d2['subpackets']) == 2\n",
    "assert d2['subpackets'][0]['literal_value'] == 10\n",
    "assert d2['subpackets'][1]['literal_value'] == 20\n",
    "\n",
    "d3, _ = parse_packet(hex_to_bin('EE00D40C823060'))\n",
    "assert d3['version'] == 7\n",
    "assert d3['type_id'] == 3\n",
    "assert d3['subpackets_number'] == 3\n",
    "assert len(d3['subpackets']) == 3\n",
    "assert d3['subpackets'][0]['literal_value'] == 1\n",
    "assert d3['subpackets'][1]['literal_value'] == 2\n",
    "assert d3['subpackets'][2]['literal_value'] == 3"
   ]
  },
  {
   "cell_type": "code",
   "execution_count": null,
   "id": "a343f926-4684-41f8-80d9-26d87c159563",
   "metadata": {
    "tags": []
   },
   "outputs": [],
   "source": [
    "# Part 1\n",
    "\n",
    "def version_sum(packet_dict):\n",
    "    return (packet_dict['version']\n",
    "            if packet_dict['type_id'] == 4\n",
    "            else packet_dict['version'] + sum(version_sum(sp) for sp in packet_dict['subpackets']))\n",
    "    \n",
    "assert version_sum(parse_packet(hex_to_bin('8A004A801A8002F478'))[0]) == 16\n",
    "assert version_sum(parse_packet(hex_to_bin('620080001611562C8802118E34'))[0]) == 12\n",
    "assert version_sum(parse_packet(hex_to_bin('C0015000016115A2E0802F182340'))[0]) == 23\n",
    "assert version_sum(parse_packet(hex_to_bin('A0016C880162017C3686B18A3D4780'))[0]) == 31"
   ]
  },
  {
   "cell_type": "code",
   "execution_count": null,
   "id": "8551cd6b-ace3-4c10-93a2-739ac3ae18a5",
   "metadata": {
    "tags": []
   },
   "outputs": [],
   "source": [
    "bits_transmission = open('data/input_day16.txt').read().strip()\n",
    "version_sum(parse_packet(hex_to_bin(bits_transmission))[0])"
   ]
  },
  {
   "cell_type": "code",
   "execution_count": null,
   "id": "1ee41172-c46e-48f2-84cd-1022888b7d22",
   "metadata": {
    "tags": []
   },
   "outputs": [],
   "source": [
    "# Part 2 \n",
    "\n",
    "import numpy as np\n",
    "\n",
    "def evaluate_packet_value(packet_dict):\n",
    "    type_id = packet_dict['type_id']\n",
    "    if type_id == 4:\n",
    "        return packet_dict['literal_value']\n",
    "    \n",
    "    subpacket_values = list(evaluate_packet_value(sp) for sp in packet_dict['subpackets'])\n",
    "    if type_id < 4:\n",
    "        return {0: sum, \n",
    "                1: np.prod, \n",
    "                2: min, \n",
    "                3: max}[type_id](subpacket_values)\n",
    "    \n",
    "    assert len(subpacket_values) == 2\n",
    "    return int({5: np.greater, \n",
    "                6: np.less, \n",
    "                7: np.equal}[type_id](*subpacket_values))\n",
    "\n",
    "assert evaluate_packet_value(parse_packet(hex_to_bin('C200B40A82'))[0]) == 3\n",
    "assert evaluate_packet_value(parse_packet(hex_to_bin('04005AC33890'))[0]) == 54\n",
    "assert evaluate_packet_value(parse_packet(hex_to_bin('880086C3E88112'))[0]) == 7\n",
    "assert evaluate_packet_value(parse_packet(hex_to_bin('CE00C43D881120'))[0]) == 9\n",
    "assert evaluate_packet_value(parse_packet(hex_to_bin('D8005AC2A8F0'))[0]) == 1\n",
    "assert evaluate_packet_value(parse_packet(hex_to_bin('F600BC2D8F'))[0]) == 0\n",
    "assert evaluate_packet_value(parse_packet(hex_to_bin('9C005AC2F8F0'))[0]) == 0\n",
    "assert evaluate_packet_value(parse_packet(hex_to_bin('9C0141080250320F1802104A08'))[0]) == 1"
   ]
  },
  {
   "cell_type": "code",
   "execution_count": null,
   "id": "ebd90fc5-7f5a-4f24-9836-f65359f8f6cb",
   "metadata": {},
   "outputs": [],
   "source": [
    "evaluate_packet_value(parse_packet(hex_to_bin(bits_transmission))[0])"
   ]
  },
  {
   "cell_type": "markdown",
   "id": "d18314a8-fdda-4b22-b2bc-035f6aca17e7",
   "metadata": {},
   "source": [
    "### Day 17: Trick Shot"
   ]
  },
  {
   "cell_type": "code",
   "execution_count": null,
   "id": "3ae264a5-6c62-411d-96bd-93e226121cef",
   "metadata": {
    "tags": []
   },
   "outputs": [],
   "source": [
    "import re\n",
    "\n",
    "def parse_target(s):\n",
    "    pat = 'target area: x=(?P<x_start>-?\\d+)\\.\\.(?P<x_end>-?\\d+), y=(?P<y_start>-?\\d+)\\.\\.(?P<y_end>-?\\d+)'\n",
    "    t = re.match(pat, s).groupdict()\n",
    "    return {k: int(p) for k, p in t.items()}\n",
    "\n",
    "target1 = parse_target('target area: x=20..30, y=-10..-5')\n",
    "target1"
   ]
  },
  {
   "cell_type": "code",
   "execution_count": null,
   "id": "a0fd963b-8175-4262-9335-b1c683f4986a",
   "metadata": {
    "tags": []
   },
   "outputs": [],
   "source": [
    "def step(pos_x, pos_y, v_x, v_y):\n",
    "    return (pos_x + v_x, pos_y + v_y, v_x - np.sign(v_x), v_y - 1)\n",
    "\n",
    "def in_target(pos_x, pos_y, target):\n",
    "    return target['x_start'] <= pos_x <= target['x_end'] and target['y_start'] <= pos_y <= target['y_end']\n",
    "\n",
    "def missed_target(pos_x, pos_y, target):\n",
    "    return pos_y < target['y_start']\n",
    "    \n",
    "def launch_probe(v_x0, v_y0, target, max_steps=500):\n",
    "    assert target['x_start'] < target['x_end'] and target['y_start'] < target['y_end']\n",
    "    \n",
    "    i = 0\n",
    "    v_x, v_y, pos_x, pos_y, max_y = v_x0, v_y0, 0, 0, 0\n",
    "    while max_steps is None or i < max_steps:\n",
    "        # print(f'Step {i}: position ({pos_x},{pos_y}), velocity ({v_x},{v_y})')\n",
    "        if in_target(pos_x, pos_y, target):\n",
    "            return max_y\n",
    "        if missed_target(pos_x, pos_y, target):\n",
    "            return\n",
    "        pos_x, pos_y, v_x, v_y = step(pos_x, pos_y, v_x, v_y)\n",
    "        max_y = max(max_y, pos_y)\n",
    "        i += 1\n",
    "    print(f'Uh oh, {max_steps} steps')\n",
    "\n",
    "assert launch_probe(7, 2, parse_target('target area: x=20..30, y=-10..-5')) == 3\n",
    "assert launch_probe(6, 3, parse_target('target area: x=20..30, y=-10..-5')) == 6\n",
    "assert launch_probe(9, 0, parse_target('target area: x=20..30, y=-10..-5')) == 0\n",
    "assert launch_probe(6, 9, parse_target('target area: x=20..30, y=-10..-5')) == 45\n",
    "assert launch_probe(17, -4, parse_target('target area: x=20..30, y=-10..-5')) == None"
   ]
  },
  {
   "cell_type": "code",
   "execution_count": null,
   "id": "fea46969-bbef-4971-bba7-3b68a5a0d644",
   "metadata": {
    "tags": []
   },
   "outputs": [],
   "source": [
    "target2 = parse_target('target area: x=175..227, y=-134..-79')\n",
    "\n",
    "best_velocities = []\n",
    "for v_x0 in range(10, 50):\n",
    "    for v_y0 in range(90, 150):\n",
    "        height_achieved = launch_probe(v_x0, v_y0, target2, max_steps=500)\n",
    "        if height_achieved is not None:\n",
    "            best_velocities.append(((v_x0, v_y0), height_achieved))\n",
    "\n",
    "for v, h in sorted(best_velocities, key=lambda p: -p[1])[:10]:\n",
    "    print(f'Velocity {v[0]},{v[1]} ==> {h}')"
   ]
  },
  {
   "cell_type": "code",
   "execution_count": null,
   "id": "27d92c6f-a5b4-4052-b23b-af04f810bd57",
   "metadata": {
    "tags": []
   },
   "outputs": [],
   "source": [
    "# !pipenv install matplotlib"
   ]
  },
  {
   "cell_type": "code",
   "execution_count": null,
   "id": "a30ba808-943c-4345-80b0-578f903e1f11",
   "metadata": {
    "tags": []
   },
   "outputs": [],
   "source": [
    "import matplotlib.pyplot as plt\n",
    "from matplotlib import colors\n",
    "import numpy as np\n",
    "\n",
    "v, x, y, z = [], [], [], []\n",
    "for v_x0 in range(1, 250):\n",
    "    y_range = ((-60, 300) if v_x0 < 22 else\n",
    "               (-100, 10) if v_x0 < 50 else\n",
    "               (-130, -15) if v_x0 < 160 else\n",
    "               (-135, -50) if v_x0 < 210 else\n",
    "               (-140, 0))\n",
    "    for v_y0 in range(*y_range):\n",
    "        height_achieved = launch_probe(v_x0, v_y0, target2, max_steps=800)\n",
    "        if height_achieved is not None:\n",
    "            x.append(v_x0)\n",
    "            y.append(v_y0)\n",
    "            v.append((v_x0, v_y0))\n",
    "            z.append(height_achieved)\n",
    "\n",
    "print(len(z))\n",
    "plt.scatter(x, y, c=z, cmap='terrain')"
   ]
  },
  {
   "cell_type": "markdown",
   "id": "9ee85426-3343-41d5-b926-f6010785ec50",
   "metadata": {},
   "source": [
    "### Day 18: Snailfish"
   ]
  },
  {
   "cell_type": "markdown",
   "id": "e9597eed-a465-4d66-a12b-7d22204a759a",
   "metadata": {},
   "source": [
    "Looking like a good job for a binary tree. Each node is either a regular number or a pair. If a pair it has two children.\n",
    "Then again... regular expressions. But those I already rule at, so let's go the hard way 🙃"
   ]
  },
  {
   "cell_type": "code",
   "execution_count": 85,
   "id": "1374e993-eb6e-423f-b351-2a7a0e3d2327",
   "metadata": {
    "execution": {
     "iopub.execute_input": "2021-12-27T16:49:35.934609Z",
     "iopub.status.busy": "2021-12-27T16:49:35.934216Z",
     "iopub.status.idle": "2021-12-27T16:49:35.976571Z",
     "shell.execute_reply": "2021-12-27T16:49:35.976021Z",
     "shell.execute_reply.started": "2021-12-27T16:49:35.934577Z"
    },
    "tags": []
   },
   "outputs": [
    {
     "data": {
      "text/plain": [
       "(1, __main__.SnailfishNumber)"
      ]
     },
     "execution_count": 85,
     "metadata": {},
     "output_type": "execute_result"
    }
   ],
   "source": [
    "import ast\n",
    "\n",
    "class SnailfishNumber:\n",
    "    parent, neighbour_right, neighbour_left = None, None, None\n",
    "    is_left, is_right = None, None\n",
    "    is_regular_number = None\n",
    "    value = None\n",
    "    left, right = None, None\n",
    "    \n",
    "    \n",
    "    def __init__(self, x, parent=None, is_left=None):\n",
    "        assert type(x) == int or type(x) == SnailfishNumber or type(x) == list and len(x) == 2, \\\n",
    "                f'Parameter \"{x}\" should have been a snailfish number, an integer or a pair.'\n",
    "\n",
    "        if type(x) == int:\n",
    "            self.is_regular_number = True\n",
    "            self.value = x\n",
    "        elif type(x) == list:\n",
    "            self.is_regular_number = False\n",
    "            self.left = SnailfishNumber(x[0], self, is_left=True)\n",
    "            self.right = SnailfishNumber(x[1], self, is_left=False)\n",
    "        elif type(x) == SnailfishNumber:\n",
    "            self.is_regular_number = x.is_regular_number\n",
    "            self.value = x.value\n",
    "            self.left = x.left\n",
    "            self.right = x.right\n",
    "            self.is_left = x.is_left\n",
    "            self.is_right = x.is_right\n",
    "            \n",
    "        if parent is not None:\n",
    "            self.parent = parent\n",
    "        if is_left is not None:\n",
    "            self.is_left = is_left\n",
    "            self.is_right = not is_left\n",
    "            \n",
    "        if not self.is_regular_number:\n",
    "            self.link_children()\n",
    "    \n",
    "    def as_list(self):\n",
    "        return self.value if self.is_regular_number else [self.left.as_list(), self.right.as_list()]\n",
    "    \n",
    "    def __repr__(self):\n",
    "        return str(self.as_list())\n",
    "    \n",
    "    def get_magnitude(self):\n",
    "        \"\"\"The magnitude of a pair is 3 times the magnitude of its left element plus 2 times the magnitude of its right \n",
    "        element. The magnitude of a regular number is just that number.\n",
    "        \"\"\"\n",
    "        if self.is_regular_number:\n",
    "            return self.value\n",
    "        return self.left.get_magnitude() * 3 + self.right.get_magnitude() * 2\n",
    "    \n",
    "    def reduce(self):\n",
    "        \"\"\"To reduce a snailfish number, you must repeatedly do the first action in this that applies of 1) exploding,\n",
    "        or 2) splitting. Once neither action applies, the snailfish number is reduced\n",
    "        \"\"\"\n",
    "        while True:\n",
    "            did_explode = self.explode()\n",
    "            if not did_explode:\n",
    "                did_split = self.split()\n",
    "                if not did_split:\n",
    "                    break\n",
    "        \n",
    "    def explode(self):\n",
    "        \"\"\"To explode a pair, the pair's left value is added to the first regular number to the left of the exploding \n",
    "        pair (if any), and the pair's right value is added to the first regular number to the right of the exploding \n",
    "        pair (if any). Exploding pairs will always consist of two regular numbers. Then, the entire exploding pair is \n",
    "        replaced with the regular number 0.\n",
    "        \"\"\"\n",
    "        exploding_pair = self.get_exploding_pair()\n",
    "        if not exploding_pair: \n",
    "            return False\n",
    "\n",
    "        left = exploding_pair.get_regular_num_to_left()\n",
    "        right = exploding_pair.get_regular_num_to_right()\n",
    "        if left:\n",
    "            left.value += exploding_pair.left.value\n",
    "        if right:\n",
    "            right.value += exploding_pair.right.value\n",
    "\n",
    "        exploding_pair.set_to_zero()\n",
    "        return True\n",
    "    \n",
    "    def split(self):\n",
    "        \"\"\"To split a regular number, replace it with a pair; the left element of the pair should be the regular number \n",
    "        divided by two and rounded down, while the right element of the pair should be the regular number divided by two\n",
    "        and rounded up.\n",
    "        \"\"\"\n",
    "        splitting_number = self.get_splitting_number()\n",
    "        if not splitting_number: \n",
    "            return False\n",
    "        \n",
    "        left_value = splitting_number.value // 2\n",
    "        splitting_number.set_to_pair(left_value, splitting_number.value - left_value)\n",
    "        return True\n",
    "    \n",
    "    def get_splitting_number(self):\n",
    "        \"\"\"If any regular number is 10 or greater, the leftmost such regular number splits.\"\"\"\n",
    "        if self.is_regular_number and self.value >= 10:\n",
    "            return self\n",
    "        return (self.left and self.left.get_splitting_number() \n",
    "                or self.right and self.right.get_splitting_number())\n",
    "    \n",
    "    def get_exploding_pair(self, depth=4):\n",
    "        \"\"\"If any pair is nested inside four pairs, the leftmost such pair explodes.\"\"\"\n",
    "        if depth == 0 and not self.is_regular_number:\n",
    "            return self\n",
    "        return (self.left and self.left.get_exploding_pair(depth-1) \n",
    "                or self.right and self.right.get_exploding_pair(depth-1))\n",
    "    \n",
    "    def get_regular_num_to_left(self):\n",
    "        if not self.parent:\n",
    "            return\n",
    "        return (self.parent.get_regular_num_to_left() if self.is_left else\n",
    "                self.parent.left if self.parent.left.is_regular_number else \n",
    "                self.parent.left.get_rightmost_regular_num())\n",
    "    \n",
    "    def get_regular_num_to_right(self):\n",
    "        if self.is_right:\n",
    "            return self.parent.get_regular_num_to_right() if self.parent else None\n",
    "        \n",
    "        if self.is_left:\n",
    "            return (self.neighbour_right if self.neighbour_right.is_regular_number else \n",
    "                    self.neighbour_right.get_leftmost_regular_num())\n",
    "    \n",
    "    def get_leftmost_regular_num(self):\n",
    "        if not self.is_regular_number: \n",
    "            return self.left if self.left.is_regular_number else self.left.get_leftmost_regular_num()\n",
    "        \n",
    "    def get_rightmost_regular_num(self):\n",
    "        if not self.is_regular_number: \n",
    "            return self.right if self.right.is_regular_number else self.right.get_rightmost_regular_num()\n",
    "    \n",
    "    def set_to_zero(self):\n",
    "        self.is_regular_number = True\n",
    "        self.left = None\n",
    "        self.right = None\n",
    "        self.value = 0\n",
    "    \n",
    "    def set_to_pair(self, left_value, right_value):\n",
    "        self.__init__([left_value, right_value], parent=self.parent, is_left=self.is_left)\n",
    "        \n",
    "    def link_children(self):\n",
    "        self.left.neighbour_right = self.right\n",
    "        self.right.neighbour_left = self.left\n",
    "        \n",
    "# num_list = ast.literal_eval(num_list)\n",
    "sn = SnailfishNumber([1,2])\n",
    "sn.left, type(sn.left)"
   ]
  },
  {
   "cell_type": "code",
   "execution_count": 74,
   "id": "ffd48e08-ef40-41c8-83c5-276eba6972fb",
   "metadata": {
    "execution": {
     "iopub.execute_input": "2021-12-27T15:47:15.287927Z",
     "iopub.status.busy": "2021-12-27T15:47:15.287639Z",
     "iopub.status.idle": "2021-12-27T15:47:15.300149Z",
     "shell.execute_reply": "2021-12-27T15:47:15.299478Z",
     "shell.execute_reply.started": "2021-12-27T15:47:15.287898Z"
    },
    "jupyter": {
     "source_hidden": true
    },
    "tags": []
   },
   "outputs": [],
   "source": [
    "def test_explode(sn):\n",
    "    sn = SnailfishNumber(sn)\n",
    "    sn.explode()\n",
    "    return sn.as_list()\n",
    "\n",
    "assert test_explode([[[[[9,8],1],2],3],4]) == [[[[0,9],2],3],4]\n",
    "assert test_explode([7,[6,[5,[4,[3,2]]]]]) == [7,[6,[5,[7,0]]]]\n",
    "assert test_explode([[6,[5,[4,[3,2]]]],1]) == [[6,[5,[7,0]]],3]\n",
    "assert test_explode([[3,[2,[1,[7,3]]]],[6,[5,[4,[3,2]]]]]) == [[3,[2,[8,0]]],[9,[5,[4,[3,2]]]]]\n",
    "assert test_explode([[3,[2,[8,0]]],[9,[5,[4,[3,2]]]]]) == [[3,[2,[8,0]]],[9,[5,[7,0]]]]\n",
    "assert test_explode([[[[0,7],4],[[7,8],[0,[6,7]]]],[1,1]]) == [[[[0,7],4],[[7,8],[6,0]]],[8,1]]\n",
    "\n",
    "def test_split(sn):\n",
    "    sn = SnailfishNumber(sn)\n",
    "    sn.split()\n",
    "    return sn.as_list()\n",
    "    \n",
    "assert test_split([10, 2]) == [[5,5], 2]\n",
    "assert test_split([[11,[5,[4,[3,12]]]],1]) == [[[5,6],[5,[4,[3,12]]]],1]"
   ]
  },
  {
   "cell_type": "code",
   "execution_count": 75,
   "id": "4763ecb6-d664-4483-94fc-bdf063dd6a31",
   "metadata": {
    "execution": {
     "iopub.execute_input": "2021-12-27T15:47:15.990800Z",
     "iopub.status.busy": "2021-12-27T15:47:15.990393Z",
     "iopub.status.idle": "2021-12-27T15:47:15.996274Z",
     "shell.execute_reply": "2021-12-27T15:47:15.995448Z",
     "shell.execute_reply.started": "2021-12-27T15:47:15.990770Z"
    },
    "jupyter": {
     "source_hidden": true
    },
    "tags": []
   },
   "outputs": [],
   "source": [
    "def add(sn1, sn2):\n",
    "    \n",
    "    res = SnailfishNumber([sn1.as_list() if type(sn1) == SnailfishNumber else sn1, \n",
    "                           sn2.as_list() if type(sn2) == SnailfishNumber else sn2])\n",
    "    res.reduce()\n",
    "    return res\n",
    "\n",
    "assert add(SnailfishNumber([1,2]), SnailfishNumber([[3,4],5])).as_list() == [[1,2],[[3,4],5]]"
   ]
  },
  {
   "cell_type": "code",
   "execution_count": 76,
   "id": "3623deab-33ce-4db1-b782-828ec8cf4065",
   "metadata": {
    "execution": {
     "iopub.execute_input": "2021-12-27T15:47:16.568098Z",
     "iopub.status.busy": "2021-12-27T15:47:16.567814Z",
     "iopub.status.idle": "2021-12-27T15:47:16.580235Z",
     "shell.execute_reply": "2021-12-27T15:47:16.579566Z",
     "shell.execute_reply.started": "2021-12-27T15:47:16.568067Z"
    },
    "jupyter": {
     "source_hidden": true
    },
    "tags": []
   },
   "outputs": [],
   "source": [
    "def test_reduce(sn):\n",
    "    sn = SnailfishNumber(sn)\n",
    "    sn.reduce()\n",
    "    return sn.as_list()\n",
    "\n",
    "sn_a, sn_b = SnailfishNumber([[[[4,3],4],4],[7,[[8,4],9]]]), SnailfishNumber([1,1])\n",
    "assert test_reduce(add(sn_a, sn_b)) == [[[[0,7],4],[[7,8],[6,0]]],[8,1]]\n",
    "assert test_reduce([[[[0,[4,5]],[0,0]],[[[4,5],[2,6]],[9,5]]],[7,[[[3,7],[4,3]],[[6,3],[8,8]]]]]) == \\\n",
    "    [[[[4,0],[5,4]],[[7,7],[6,0]]],[[8,[7,7]],[[7,9],[5,0]]]]\n",
    "assert test_reduce([[[[[4,0],[5,4]],[[7,7],[6,0]]],[[8,[7,7]],[[7,9],[5,0]]]],[[2,[[0,8],[3,4]]],[[[6,7],1],[7,[1,6]]]]]) == \\\n",
    "    [[[[6,7],[6,7]],[[7,7],[0,7]]],[[[8,7],[7,7]],[[8,8],[8,0]]]]"
   ]
  },
  {
   "cell_type": "code",
   "execution_count": 78,
   "id": "2235226f-4ff3-4e02-ac09-b899cab4e471",
   "metadata": {
    "execution": {
     "iopub.execute_input": "2021-12-27T15:47:21.354158Z",
     "iopub.status.busy": "2021-12-27T15:47:21.353895Z",
     "iopub.status.idle": "2021-12-27T15:47:21.358472Z",
     "shell.execute_reply": "2021-12-27T15:47:21.357150Z",
     "shell.execute_reply.started": "2021-12-27T15:47:21.354130Z"
    },
    "tags": []
   },
   "outputs": [],
   "source": [
    "from functools import reduce\n",
    "\n",
    "def snailfish_sum(sn_list):\n",
    "    return reduce(add, sn_list)\n",
    "\n",
    "def parse_list(l):\n",
    "    return list(map(ast.literal_eval, l))"
   ]
  },
  {
   "cell_type": "code",
   "execution_count": 82,
   "id": "2d308661-2993-4aeb-a8ec-4f66014de7ba",
   "metadata": {
    "execution": {
     "iopub.execute_input": "2021-12-27T15:47:49.853471Z",
     "iopub.status.busy": "2021-12-27T15:47:49.853235Z",
     "iopub.status.idle": "2021-12-27T15:47:49.871201Z",
     "shell.execute_reply": "2021-12-27T15:47:49.870646Z",
     "shell.execute_reply.started": "2021-12-27T15:47:49.853447Z"
    },
    "jupyter": {
     "source_hidden": true
    },
    "tags": []
   },
   "outputs": [],
   "source": [
    "l = \"\"\"\n",
    "[1,1]\n",
    "[2,2]\n",
    "[3,3]\n",
    "[4,4]\"\"\".strip().split('\\n')\n",
    "assert snailfish_sum(parse_list(l)).as_list() == [[[[1,1],[2,2]],[3,3]],[4,4]]\n",
    "l = \"\"\"\n",
    "[1,1]\n",
    "[2,2]\n",
    "[3,3]\n",
    "[4,4]\n",
    "[5,5]\"\"\".strip().split('\\n')\n",
    "assert snailfish_sum(parse_list(l)).as_list() == [[[[3,0],[5,3]],[4,4]],[5,5]]\n",
    "l = \"\"\"\n",
    "[1,1]\n",
    "[2,2]\n",
    "[3,3]\n",
    "[4,4]\n",
    "[5,5]\n",
    "[6,6]\"\"\".strip().split('\\n')\n",
    "assert snailfish_sum(parse_list(l)).as_list() == [[[[5,0],[7,4]],[5,5]],[6,6]]\n",
    "l = \"\"\"\n",
    "[[[0,[4,5]],[0,0]],[[[4,5],[2,6]],[9,5]]]\n",
    "[7,[[[3,7],[4,3]],[[6,3],[8,8]]]]\n",
    "[[2,[[0,8],[3,4]]],[[[6,7],1],[7,[1,6]]]]\n",
    "[[[[2,4],7],[6,[0,5]]],[[[6,8],[2,8]],[[2,1],[4,5]]]]\n",
    "[7,[5,[[3,8],[1,4]]]]\n",
    "[[2,[2,2]],[8,[8,1]]]\n",
    "[2,9]\n",
    "[1,[[[9,3],9],[[9,0],[0,7]]]]\n",
    "[[[5,[7,4]],7],1]\n",
    "[[[[4,2],2],6],[8,7]]\"\"\".strip().split('\\n')\n",
    "assert snailfish_sum(parse_list(l)).as_list() == [[[[8,7],[7,7]],[[8,6],[7,7]]],[[[0,7],[6,6]],[8,7]]]"
   ]
  },
  {
   "cell_type": "code",
   "execution_count": 87,
   "id": "6a6958ac-e9d4-487c-bbfe-02cc69e73604",
   "metadata": {
    "execution": {
     "iopub.execute_input": "2021-12-27T16:49:51.158353Z",
     "iopub.status.busy": "2021-12-27T16:49:51.158077Z",
     "iopub.status.idle": "2021-12-27T16:49:51.168194Z",
     "shell.execute_reply": "2021-12-27T16:49:51.167380Z",
     "shell.execute_reply.started": "2021-12-27T16:49:51.158328Z"
    },
    "tags": []
   },
   "outputs": [],
   "source": [
    "def test_magnitude(sn):\n",
    "    if type(sn) != SnailfishNumber:\n",
    "        sn = SnailfishNumber(sn)\n",
    "    return sn.get_magnitude()\n",
    "\n",
    "assert test_magnitude([[[[0,7],4],[[7,8],[6,0]]],[8,1]]) == 1384\n",
    "assert test_magnitude([[[[1,1],[2,2]],[3,3]],[4,4]]) == 445\n",
    "assert test_magnitude([[[[3,0],[5,3]],[4,4]],[5,5]]) == 791\n",
    "assert test_magnitude([[[[5,0],[7,4]],[5,5]],[6,6]]) == 1137\n",
    "assert test_magnitude([[[[8,7],[7,7]],[[8,6],[7,7]]],[[[0,7],[6,6]],[8,7]]]) == 3488"
   ]
  },
  {
   "cell_type": "code",
   "execution_count": 93,
   "id": "14c8d80e-9061-4a3a-8818-b30a3beb1100",
   "metadata": {
    "execution": {
     "iopub.execute_input": "2021-12-27T16:54:29.183107Z",
     "iopub.status.busy": "2021-12-27T16:54:29.182780Z",
     "iopub.status.idle": "2021-12-27T16:54:29.378119Z",
     "shell.execute_reply": "2021-12-27T16:54:29.377258Z",
     "shell.execute_reply.started": "2021-12-27T16:54:29.183074Z"
    },
    "tags": []
   },
   "outputs": [],
   "source": [
    "def do_homework(l):\n",
    "    return snailfish_sum(parse_list(l)).get_magnitude()\n",
    "\n",
    "l = \"\"\"\n",
    "[[[0,[5,8]],[[1,7],[9,6]]],[[4,[1,2]],[[1,4],2]]]\n",
    "[[[5,[2,8]],4],[5,[[9,9],0]]]\n",
    "[6,[[[6,2],[5,6]],[[7,6],[4,7]]]]\n",
    "[[[6,[0,7]],[0,9]],[4,[9,[9,0]]]]\n",
    "[[[7,[6,4]],[3,[1,3]]],[[[5,5],1],9]]\n",
    "[[6,[[7,3],[3,2]]],[[[3,8],[5,7]],4]]\n",
    "[[[[5,4],[7,7]],8],[[8,3],8]]\n",
    "[[9,3],[[9,9],[6,[4,9]]]]\n",
    "[[2,[[7,7],7]],[[5,8],[[9,3],[0,2]]]]\n",
    "[[[[5,2],5],[8,[3,7]]],[[5,[7,5]],[4,4]]]\n",
    "\"\"\".strip().split('\\n')\n",
    "assert do_homework(l) == 4140"
   ]
  },
  {
   "cell_type": "code",
   "execution_count": 96,
   "id": "8a3b77b8-ceb9-45c8-9315-6ea0d35e8097",
   "metadata": {
    "execution": {
     "iopub.execute_input": "2021-12-27T16:56:10.139030Z",
     "iopub.status.busy": "2021-12-27T16:56:10.138735Z",
     "iopub.status.idle": "2021-12-27T16:56:10.358989Z",
     "shell.execute_reply": "2021-12-27T16:56:10.358313Z",
     "shell.execute_reply.started": "2021-12-27T16:56:10.139000Z"
    },
    "tags": []
   },
   "outputs": [
    {
     "data": {
      "text/plain": [
       "3216"
      ]
     },
     "execution_count": 96,
     "metadata": {},
     "output_type": "execute_result"
    }
   ],
   "source": [
    "l = list(map(str.strip, open('data/input_day18.txt').readlines()))\n",
    "do_homework(l)"
   ]
  },
  {
   "cell_type": "code",
   "execution_count": null,
   "id": "60a23b49-85b6-462e-8c4d-9aff4972a9dc",
   "metadata": {},
   "outputs": [],
   "source": []
  }
 ],
 "metadata": {
  "kernelspec": {
   "display_name": "Python 3 (ipykernel)",
   "language": "python",
   "name": "python3"
  },
  "language_info": {
   "codemirror_mode": {
    "name": "ipython",
    "version": 3
   },
   "file_extension": ".py",
   "mimetype": "text/x-python",
   "name": "python",
   "nbconvert_exporter": "python",
   "pygments_lexer": "ipython3",
   "version": "3.9.1"
  }
 },
 "nbformat": 4,
 "nbformat_minor": 5
}
