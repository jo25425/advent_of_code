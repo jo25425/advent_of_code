{
 "cells": [
  {
   "cell_type": "markdown",
   "id": "269c5923-0598-4fab-a6a4-70758b436e80",
   "metadata": {},
   "source": [
    "### Day 13: Transparent Origami"
   ]
  },
  {
   "cell_type": "code",
   "execution_count": 9,
   "id": "7449e066-ec26-4125-a7d9-9c7a24925aff",
   "metadata": {
    "execution": {
     "iopub.execute_input": "2021-12-17T17:17:43.597376Z",
     "iopub.status.busy": "2021-12-17T17:17:43.597120Z",
     "iopub.status.idle": "2021-12-17T17:17:43.601367Z",
     "shell.execute_reply": "2021-12-17T17:17:43.600181Z",
     "shell.execute_reply.started": "2021-12-17T17:17:43.597349Z"
    },
    "tags": []
   },
   "outputs": [],
   "source": [
    "sample = \"\"\"\n",
    "6,10\n",
    "0,14\n",
    "9,10\n",
    "0,3\n",
    "10,4\n",
    "4,11\n",
    "6,0\n",
    "6,12\n",
    "4,1\n",
    "0,13\n",
    "10,12\n",
    "3,4\n",
    "3,0\n",
    "8,4\n",
    "1,10\n",
    "2,14\n",
    "8,10\n",
    "9,0\n",
    "\n",
    "fold along y=7\n",
    "fold along x=5\"\"\".strip().split('\\n')"
   ]
  },
  {
   "cell_type": "code",
   "execution_count": 99,
   "id": "64053196-7010-428f-a42d-3267dffdaf4a",
   "metadata": {
    "execution": {
     "iopub.execute_input": "2021-12-17T18:19:35.397771Z",
     "iopub.status.busy": "2021-12-17T18:19:35.397472Z",
     "iopub.status.idle": "2021-12-17T18:19:35.413545Z",
     "shell.execute_reply": "2021-12-17T18:19:35.412855Z",
     "shell.execute_reply.started": "2021-12-17T18:19:35.397739Z"
    },
    "tags": []
   },
   "outputs": [],
   "source": [
    "import numpy as np\n",
    "\n",
    "def parse_transparent_paper(lines):\n",
    "    dots, folds = [], []\n",
    "    for l in lines:\n",
    "        if l.startswith('fold'):\n",
    "            axis, pos = l.replace('fold along ', '').split('=')\n",
    "            folds.append((axis, int(pos)))\n",
    "        elif l:\n",
    "            dots.append(tuple(map(int, l.split(','))))\n",
    "    return dots, folds\n",
    "\n",
    "class TransparentPaper:\n",
    "    \n",
    "    def __init__(self, dots):\n",
    "        self.size_x = max(map(lambda pos: pos[0], dots)) + 1\n",
    "        self.size_y = max(map(lambda pos: pos[1], dots)) + 1\n",
    "        self.pattern = np.zeros((self.size_y, self.size_x), dtype=int)\n",
    "        for x,y in dots:\n",
    "            self.pattern[y,x] = 1\n",
    "    \n",
    "    def __repr__(self):\n",
    "        return '\\n'.join(''.join('.' if x == 0 else '#' if x == 1 else '' for x in row) for row in self.pattern)\n",
    "    \n",
    "    def fold_up(self, pos):\n",
    "        fold_size = max(pos, self.size_y - pos - 1)\n",
    "        to_fold = self._pad_up(np.flipud(self.pattern[pos+1:]), fold_size)\n",
    "        folded = self._pad_up(self.pattern[:pos], fold_size)\n",
    "        folded[np.where(to_fold == 1)] = 1\n",
    "        self.pattern = folded\n",
    "        self.size_x = self.pattern.shape[1]\n",
    "        self.size_y = self.pattern.shape[0]\n",
    "        \n",
    "    def fold_left(self, pos):\n",
    "        fold_size = max(pos, self.size_x - pos - 1)\n",
    "        to_fold = self._pad_left(np.fliplr(self.pattern[:,pos+1:]), fold_size)\n",
    "        folded = self._pad_left(self.pattern[:,:pos], fold_size)\n",
    "        folded[np.where(to_fold == 1)] = 1\n",
    "        self.pattern = folded\n",
    "        self.size_x = self.pattern.shape[1]\n",
    "        self.size_y = self.pattern.shape[0]\n",
    "        \n",
    "    def do_folds(self, folds):\n",
    "        for fold, pos in folds:\n",
    "            (self.fold_left if fold == 'x' else self.fold_up)(pos)\n",
    "            \n",
    "    def get_visible_dots(self):\n",
    "        return self.pattern.sum()\n",
    "    \n",
    "    @staticmethod\n",
    "    def _pad_left(arr, target_width):\n",
    "        pad_width = target_width - arr.shape[1]\n",
    "        return arr if not pad_width else np.pad(arr, ((0, 0), (pad_width, 0)))\n",
    "    \n",
    "    @staticmethod\n",
    "    def _pad_up(arr, target_width):\n",
    "        pad_width = target_width - arr.shape[0]\n",
    "        return arr if not pad_width else np.pad(arr, ((pad_width, 0), (0, 0)))"
   ]
  },
  {
   "cell_type": "code",
   "execution_count": 106,
   "id": "f5444045-1678-4600-9a15-314cb03590a9",
   "metadata": {
    "execution": {
     "iopub.execute_input": "2021-12-17T18:20:49.257243Z",
     "iopub.status.busy": "2021-12-17T18:20:49.256990Z",
     "iopub.status.idle": "2021-12-17T18:20:49.269855Z",
     "shell.execute_reply": "2021-12-17T18:20:49.269245Z",
     "shell.execute_reply.started": "2021-12-17T18:20:49.257219Z"
    },
    "tags": []
   },
   "outputs": [
    {
     "name": "stdout",
     "output_type": "stream",
     "text": [
      "# dots = 18 (e.g. (6, 10))\n",
      "# folds = 2 (e.g. ('y', 7))\n",
      "\n"
     ]
    },
    {
     "data": {
      "text/plain": [
       "#####\n",
       "#...#\n",
       "#...#\n",
       "#...#\n",
       "#####\n",
       ".....\n",
       "....."
      ]
     },
     "metadata": {},
     "output_type": "display_data"
    },
    {
     "name": "stdout",
     "output_type": "stream",
     "text": [
      "\n"
     ]
    },
    {
     "data": {
      "text/plain": [
       "###\n",
       "#.#\n",
       "#.#\n",
       "#.#\n",
       "###\n",
       "...\n",
       "..."
      ]
     },
     "metadata": {},
     "output_type": "display_data"
    },
    {
     "name": "stdout",
     "output_type": "stream",
     "text": [
      "\n"
     ]
    },
    {
     "data": {
      "text/plain": [
       "...\n",
       "...\n",
       "###\n",
       "#.#\n",
       "###"
      ]
     },
     "execution_count": 106,
     "metadata": {},
     "output_type": "execute_result"
    }
   ],
   "source": [
    "dots, folds = parse_transparent_paper(sample)\n",
    "print(f'# dots = {len(dots)} (e.g. {dots[0]})\\n# folds = {len(folds)} (e.g. {folds[0]})')\n",
    "\n",
    "tp = TransparentPaper(dots)\n",
    "tp.do_folds([folds[0]])\n",
    "assert tp.get_visible_dots() == 17\n",
    "tp.do_folds(folds[1:])\n",
    "print('');display(tp)\n",
    "tp.fold_left(3)\n",
    "print('');display(tp)\n",
    "tp.fold_up(1)\n",
    "print('');tp"
   ]
  },
  {
   "cell_type": "code",
   "execution_count": 130,
   "id": "e3811068-b745-4be4-aa94-671696f3affa",
   "metadata": {
    "execution": {
     "iopub.execute_input": "2021-12-17T18:27:35.612163Z",
     "iopub.status.busy": "2021-12-17T18:27:35.611920Z",
     "iopub.status.idle": "2021-12-17T18:27:35.627477Z",
     "shell.execute_reply": "2021-12-17T18:27:35.626770Z",
     "shell.execute_reply.started": "2021-12-17T18:27:35.612138Z"
    },
    "tags": []
   },
   "outputs": [
    {
     "name": "stdout",
     "output_type": "stream",
     "text": [
      "# dots = 1004 (e.g. (1284, 229))\n",
      "# folds = 12 (e.g. ('x', 655))\n"
     ]
    },
    {
     "data": {
      "text/plain": [
       "847"
      ]
     },
     "execution_count": 130,
     "metadata": {},
     "output_type": "execute_result"
    }
   ],
   "source": [
    "# Part 1\n",
    "dots, folds = parse_transparent_paper(map(str.strip, open('data/input_day13.txt').readlines()))\n",
    "print(f'# dots = {len(dots)} (e.g. {dots[0]})\\n# folds = {len(folds)} (e.g. {folds[0]})')\n",
    "\n",
    "tp = TransparentPaper(dots)\n",
    "tp.do_folds([folds[0]])\n",
    "tp.get_visible_dots()"
   ]
  },
  {
   "cell_type": "code",
   "execution_count": 131,
   "id": "cc41f9b1-0e6b-4bf6-8283-d609c25b6b48",
   "metadata": {
    "execution": {
     "iopub.execute_input": "2021-12-17T18:27:36.026308Z",
     "iopub.status.busy": "2021-12-17T18:27:36.026012Z",
     "iopub.status.idle": "2021-12-17T18:27:36.035617Z",
     "shell.execute_reply": "2021-12-17T18:27:36.034928Z",
     "shell.execute_reply.started": "2021-12-17T18:27:36.026273Z"
    },
    "tags": []
   },
   "outputs": [
    {
     "name": "stdout",
     "output_type": "stream",
     "text": [
      "(6, 40)\n"
     ]
    },
    {
     "data": {
      "text/plain": [
       "###...##..####.###...##..####..##..###..\n",
       "#..#.#..#....#.#..#.#..#.#....#..#.#..#.\n",
       "###..#......#..#..#.#....###..#..#.###..\n",
       "#..#.#.....#...###..#....#....####.#..#.\n",
       "#..#.#..#.#....#.#..#..#.#....#..#.#..#.\n",
       "###...##..####.#..#..##..####.#..#.###.."
      ]
     },
     "execution_count": 131,
     "metadata": {},
     "output_type": "execute_result"
    }
   ],
   "source": [
    "# Part 2\n",
    "tp.do_folds(folds[1:])\n",
    "print(tp.pattern.shape)\n",
    "tp  # BCZRCEAB"
   ]
  },
  {
   "cell_type": "markdown",
   "id": "ff13247b-185c-4641-aa56-4c6d0bb5397a",
   "metadata": {},
   "source": [
    "### Day 14: Extended Polymerization"
   ]
  },
  {
   "cell_type": "code",
   "execution_count": 1,
   "id": "572312cb-a740-4594-8602-e6ffd3f7e257",
   "metadata": {
    "execution": {
     "iopub.execute_input": "2021-12-18T01:39:55.871645Z",
     "iopub.status.busy": "2021-12-18T01:39:55.871324Z",
     "iopub.status.idle": "2021-12-18T01:39:55.879750Z",
     "shell.execute_reply": "2021-12-18T01:39:55.879117Z",
     "shell.execute_reply.started": "2021-12-18T01:39:55.871583Z"
    },
    "tags": []
   },
   "outputs": [],
   "source": [
    "sample = \"\"\"\n",
    "NNCB\n",
    "\n",
    "CH -> B\n",
    "HH -> N\n",
    "CB -> H\n",
    "NH -> C\n",
    "HB -> C\n",
    "HC -> B\n",
    "HN -> C\n",
    "NN -> C\n",
    "BH -> H\n",
    "NC -> B\n",
    "NB -> B\n",
    "BN -> B\n",
    "BB -> N\n",
    "BC -> B\n",
    "CC -> N\n",
    "CN -> C\"\"\".strip().split('\\n')"
   ]
  },
  {
   "cell_type": "code",
   "execution_count": 52,
   "id": "5b4c2c1e-42c6-4c59-9f36-e3b8fc58ceff",
   "metadata": {
    "execution": {
     "iopub.execute_input": "2021-12-18T10:49:30.666788Z",
     "iopub.status.busy": "2021-12-18T10:49:30.666410Z",
     "iopub.status.idle": "2021-12-18T10:49:30.681980Z",
     "shell.execute_reply": "2021-12-18T10:49:30.680948Z",
     "shell.execute_reply.started": "2021-12-18T10:49:30.666755Z"
    },
    "tags": []
   },
   "outputs": [],
   "source": [
    "from itertools import tee\n",
    "from collections import Counter, defaultdict\n",
    "\n",
    "def parse_instructions(lines):\n",
    "    return lines[0].strip(), {pair: new for pair, new in map(lambda s: s.strip().split(' -> '), lines[2:])}\n",
    "\n",
    "def polymerisation_step(polymer_generator, pair_insertions):\n",
    "    def new_polymer():\n",
    "        first_elements, second_elements = tee(polymer_generator)\n",
    "        next(second_elements, None)\n",
    "        for el1, el2 in zip(first_elements, second_elements):\n",
    "            el_pair = el1 + el2\n",
    "            yield(el1)\n",
    "            if el_pair in pair_insertions:\n",
    "                yield(pair_insertions[el_pair])\n",
    "        yield(el2)\n",
    "    return new_polymer()\n",
    "\n",
    "def polymerisation(polymer_template, pair_insertions, n_steps=1, return_calc=False):\n",
    "    res = polymer_template[:]\n",
    "    \n",
    "    for i in range(n_steps):\n",
    "        res = polymerisation_step(res, pair_insertions)\n",
    "        \n",
    "    if not return_calc:\n",
    "        return ''.join(res)  # Polymerisation string\n",
    "    \n",
    "    c = Counter(res)\n",
    "    return c.most_common()[0][1] - c.most_common()[-1][1]  # Calc: count most common - count least common\n",
    "\n",
    "polymer_template, pair_insertions = parse_instructions(sample)\n",
    "polymer_template, pair_insertions\n",
    "assert ''.join(polymerisation_step(polymer_template, pair_insertions)) == 'NCNBCHB'\n",
    "assert polymerisation(polymer_template, pair_insertions, 1) == 'NCNBCHB'\n",
    "assert polymerisation(polymer_template, pair_insertions, 2) == 'NBCCNBBBCBHCB'\n",
    "assert polymerisation(polymer_template, pair_insertions, 3) == 'NBBBCNCCNBBNBNBBCHBHHBCHB'\n",
    "assert polymerisation(polymer_template, pair_insertions, 4) == 'NBBNBNBBCCNBCNCCNBBNBBNBBBNBBNBBCBHCBHHNHCBBCBHCB'\n",
    "assert len(polymerisation(polymer_template, pair_insertions, 10)) == 3073\n",
    "assert polymerisation(polymer_template, pair_insertions, 10, return_calc=True) == 1588"
   ]
  },
  {
   "cell_type": "code",
   "execution_count": 16,
   "id": "bcccd896-4588-438e-90ec-fae596fba52a",
   "metadata": {
    "execution": {
     "iopub.execute_input": "2021-12-18T01:54:47.292819Z",
     "iopub.status.busy": "2021-12-18T01:54:47.292540Z",
     "iopub.status.idle": "2021-12-18T01:54:47.305874Z",
     "shell.execute_reply": "2021-12-18T01:54:47.305097Z",
     "shell.execute_reply.started": "2021-12-18T01:54:47.292789Z"
    },
    "tags": []
   },
   "outputs": [
    {
     "data": {
      "text/plain": [
       "2975"
      ]
     },
     "execution_count": 16,
     "metadata": {},
     "output_type": "execute_result"
    }
   ],
   "source": [
    "polymerisation(*parse_instructions(open('data/input_day14.txt').readlines()), 10, return_calc=True)"
   ]
  },
  {
   "cell_type": "code",
   "execution_count": 59,
   "id": "2fd5d3aa-6f10-47da-b78c-99b8cc6ceb6b",
   "metadata": {
    "execution": {
     "iopub.execute_input": "2021-12-18T10:52:29.032871Z",
     "iopub.status.busy": "2021-12-18T10:52:29.032550Z",
     "iopub.status.idle": "2021-12-18T10:52:29.042871Z",
     "shell.execute_reply": "2021-12-18T10:52:29.042106Z",
     "shell.execute_reply.started": "2021-12-18T10:52:29.032844Z"
    },
    "tags": []
   },
   "outputs": [],
   "source": [
    "def polymerisation_step_fast(current_polymer_pairs, pair_insertions):\n",
    "    new_polymer_pairs = current_polymer_pairs.copy()\n",
    "    for pair, inserted_el in pair_insertions.items():\n",
    "        pair_count = current_polymer_pairs.get(pair, 0)\n",
    "        if pair_count:\n",
    "            new_polymer_pairs[pair] -= pair_count\n",
    "            new_polymer_pairs[pair[0] + inserted_el] += pair_count\n",
    "            new_polymer_pairs[inserted_el + pair[1]] += pair_count\n",
    "    return new_polymer_pairs\n",
    "\n",
    "def polymerisation_fast(polymer_template, pair_insertions, n_steps=1, return_calc=False):\n",
    "    # Generate and count pairs\n",
    "    el_pairs = defaultdict(int, Counter(map(''.join, zip('-' + polymer_template, polymer_template + '-'))))\n",
    "    for i in range(n_steps):\n",
    "        el_pairs = polymerisation_step_fast(el_pairs, pair_insertions)\n",
    "    \n",
    "    # Convert to element counts\n",
    "    el_count = defaultdict(float)\n",
    "    for pair, count in el_pairs.items():\n",
    "        for el in pair:\n",
    "            if el != '-':\n",
    "                el_count[el] += count / 2\n",
    "\n",
    "    return int(max(el_count.values()) - min(el_count.values()))\n",
    "\n",
    "assert polymerisation_fast(polymer_template, pair_insertions, 10) == 1588\n",
    "assert polymerisation_fast(polymer_template, pair_insertions, 40) == 2188189693529"
   ]
  },
  {
   "cell_type": "code",
   "execution_count": 60,
   "id": "5aa35f6a-fe71-48fa-99a0-8440f8aaac58",
   "metadata": {
    "execution": {
     "iopub.execute_input": "2021-12-18T10:52:31.039582Z",
     "iopub.status.busy": "2021-12-18T10:52:31.039221Z",
     "iopub.status.idle": "2021-12-18T10:52:31.048349Z",
     "shell.execute_reply": "2021-12-18T10:52:31.047604Z",
     "shell.execute_reply.started": "2021-12-18T10:52:31.039554Z"
    },
    "tags": []
   },
   "outputs": [
    {
     "data": {
      "text/plain": [
       "3015383850689"
      ]
     },
     "execution_count": 60,
     "metadata": {},
     "output_type": "execute_result"
    }
   ],
   "source": [
    "polymerisation_fast(*parse_instructions(open('data/input_day14.txt').readlines()), 40, return_calc=True)"
   ]
  },
  {
   "cell_type": "code",
   "execution_count": null,
   "id": "b253b4e7-191c-4ffb-8539-01cdbe135e9b",
   "metadata": {},
   "outputs": [],
   "source": []
  }
 ],
 "metadata": {
  "kernelspec": {
   "display_name": "Python 3 (ipykernel)",
   "language": "python",
   "name": "python3"
  },
  "language_info": {
   "codemirror_mode": {
    "name": "ipython",
    "version": 3
   },
   "file_extension": ".py",
   "mimetype": "text/x-python",
   "name": "python",
   "nbconvert_exporter": "python",
   "pygments_lexer": "ipython3",
   "version": "3.9.1"
  }
 },
 "nbformat": 4,
 "nbformat_minor": 5
}
