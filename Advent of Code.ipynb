{
 "cells": [
  {
   "cell_type": "markdown",
   "id": "07630f1f-b25f-49d2-82dc-d2473b40f7da",
   "metadata": {},
   "source": [
    "### Day 1: Sonar Sweep"
   ]
  },
  {
   "cell_type": "code",
   "execution_count": 69,
   "id": "7cebd521-ad56-4b39-9edc-b1c28a66b283",
   "metadata": {
    "execution": {
     "iopub.execute_input": "2021-12-05T19:58:43.312563Z",
     "iopub.status.busy": "2021-12-05T19:58:43.312287Z",
     "iopub.status.idle": "2021-12-05T19:58:43.320915Z",
     "shell.execute_reply": "2021-12-05T19:58:43.320184Z",
     "shell.execute_reply.started": "2021-12-05T19:58:43.312534Z"
    },
    "tags": []
   },
   "outputs": [
    {
     "name": "stdout",
     "output_type": "stream",
     "text": [
      "2000\n",
      "1999 1393\n"
     ]
    }
   ],
   "source": [
    "input_file = 'data/input_day1.txt'\n",
    "measurements = [int(l.strip()) for l in open(input_file).readlines()]\n",
    "print(len(measurements))\n",
    "increases = [measurements[i] > measurements[i-1] for i in range(1, len(measurements))]\n",
    "print(len(increases), sum(increases))"
   ]
  },
  {
   "cell_type": "code",
   "execution_count": 70,
   "id": "ece9cf7c-20ce-4b64-836b-d35527ec6626",
   "metadata": {
    "execution": {
     "iopub.execute_input": "2021-12-05T19:58:43.573582Z",
     "iopub.status.busy": "2021-12-05T19:58:43.573315Z",
     "iopub.status.idle": "2021-12-05T19:58:43.579064Z",
     "shell.execute_reply": "2021-12-05T19:58:43.578411Z",
     "shell.execute_reply.started": "2021-12-05T19:58:43.573556Z"
    },
    "tags": []
   },
   "outputs": [
    {
     "name": "stdout",
     "output_type": "stream",
     "text": [
      "156 \t \n",
      "176 \t True\n",
      "175 \t False\n",
      "176 \t True\n",
      "183 \t True\n",
      "157 \t False\n",
      "150 \t False\n",
      "153 \t True\n",
      "154 \t True\n",
      "170 \t True\n"
     ]
    }
   ],
   "source": [
    "# Sanity check\n",
    "for i in range(10):\n",
    "    print(measurements[i], '\\t', (increases[i-1] if i > 0 else ''))"
   ]
  },
  {
   "cell_type": "code",
   "execution_count": 71,
   "id": "c693d64c-4517-44a9-ba7f-523b4e4f9ec5",
   "metadata": {
    "execution": {
     "iopub.execute_input": "2021-12-05T19:58:43.809317Z",
     "iopub.status.busy": "2021-12-05T19:58:43.808973Z",
     "iopub.status.idle": "2021-12-05T19:58:43.816678Z",
     "shell.execute_reply": "2021-12-05T19:58:43.815766Z",
     "shell.execute_reply.started": "2021-12-05T19:58:43.809285Z"
    },
    "tags": []
   },
   "outputs": [
    {
     "name": "stdout",
     "output_type": "stream",
     "text": [
      "1998 [507, 527, 534, 516, 490, 460, 457, 477, 486, 499]\n"
     ]
    }
   ],
   "source": [
    "measurement_windows = (measurements[i:i+3] for i in range(len(measurements)-2))\n",
    "measurement_sums = [sum(window) for window in measurement_windows]\n",
    "print(len(measurement_sums), measurement_sums[:10])"
   ]
  },
  {
   "cell_type": "code",
   "execution_count": 72,
   "id": "696ffc36-c3bc-4c8b-9290-c98ae6001a96",
   "metadata": {
    "execution": {
     "iopub.execute_input": "2021-12-05T19:58:44.112310Z",
     "iopub.status.busy": "2021-12-05T19:58:44.112062Z",
     "iopub.status.idle": "2021-12-05T19:58:44.117229Z",
     "shell.execute_reply": "2021-12-05T19:58:44.116365Z",
     "shell.execute_reply.started": "2021-12-05T19:58:44.112284Z"
    },
    "tags": []
   },
   "outputs": [
    {
     "name": "stdout",
     "output_type": "stream",
     "text": [
      "1997 1359\n"
     ]
    }
   ],
   "source": [
    "increases = [measurement_sums[i] > measurement_sums[i-1] for i in range(1, len(measurement_sums))]\n",
    "print(len(increases), sum(increases))"
   ]
  },
  {
   "cell_type": "markdown",
   "id": "d32ed014-c0a2-46af-a676-6a6738ca94de",
   "metadata": {},
   "source": [
    "### Day 2: Dive!"
   ]
  },
  {
   "cell_type": "code",
   "execution_count": 73,
   "id": "d1e86d38-d6e3-4f02-994d-b292c3698b56",
   "metadata": {
    "execution": {
     "iopub.execute_input": "2021-12-05T19:58:44.841354Z",
     "iopub.status.busy": "2021-12-05T19:58:44.840987Z",
     "iopub.status.idle": "2021-12-05T19:58:44.938141Z",
     "shell.execute_reply": "2021-12-05T19:58:44.937177Z",
     "shell.execute_reply.started": "2021-12-05T19:58:44.841330Z"
    },
    "tags": []
   },
   "outputs": [
    {
     "data": {
      "text/plain": [
       "(1968, 1063, 2091984)"
      ]
     },
     "execution_count": 73,
     "metadata": {},
     "output_type": "execute_result"
    }
   ],
   "source": [
    "input_file = 'data/input_day2.txt'\n",
    "commands = [l.strip().split() for l in  open(input_file).readlines()]\n",
    "hpos, depth = 0, 0\n",
    "for command in commands:\n",
    "    direction, X = command[0], int(command[1])\n",
    "    if direction == 'up':\n",
    "        depth -= X\n",
    "    elif direction == 'down':\n",
    "        depth += X\n",
    "    elif direction == 'forward':\n",
    "        hpos += X\n",
    "hpos, depth, hpos * depth"
   ]
  },
  {
   "cell_type": "code",
   "execution_count": 74,
   "id": "aebcadcc-fffc-4276-965d-2a857185fd7f",
   "metadata": {
    "execution": {
     "iopub.execute_input": "2021-12-05T19:58:45.460675Z",
     "iopub.status.busy": "2021-12-05T19:58:45.460390Z",
     "iopub.status.idle": "2021-12-05T19:58:45.468236Z",
     "shell.execute_reply": "2021-12-05T19:58:45.467504Z",
     "shell.execute_reply.started": "2021-12-05T19:58:45.460644Z"
    },
    "tags": []
   },
   "outputs": [
    {
     "data": {
      "text/plain": [
       "(1968, 1060092, 2086261056)"
      ]
     },
     "execution_count": 74,
     "metadata": {},
     "output_type": "execute_result"
    }
   ],
   "source": [
    "hpos, depth, aim = 0, 0, 0\n",
    "for command in commands:\n",
    "    direction, X = command[0], int(command[1])\n",
    "    if direction == 'up':\n",
    "        aim -= X\n",
    "    elif direction == 'down':\n",
    "        aim += X\n",
    "    elif direction == 'forward':\n",
    "        hpos += X\n",
    "        depth += aim * X\n",
    "hpos, depth, hpos * depth"
   ]
  },
  {
   "cell_type": "markdown",
   "id": "7584f7ed-47af-402f-9a35-9481a2b105c7",
   "metadata": {},
   "source": [
    "### Day 3: Binary Diagnostic"
   ]
  },
  {
   "cell_type": "code",
   "execution_count": 75,
   "id": "40cfbce6-627c-4306-b307-ca6e3ec1fac5",
   "metadata": {
    "execution": {
     "iopub.execute_input": "2021-12-05T19:58:46.456999Z",
     "iopub.status.busy": "2021-12-05T19:58:46.456721Z",
     "iopub.status.idle": "2021-12-05T19:58:46.466279Z",
     "shell.execute_reply": "2021-12-05T19:58:46.465639Z",
     "shell.execute_reply.started": "2021-12-05T19:58:46.456968Z"
    },
    "tags": []
   },
   "outputs": [
    {
     "data": {
      "text/plain": [
       "(1000, [1, 1, 1, 1, 1, 1, 0, 1, 0, 0, 1, 1])"
      ]
     },
     "execution_count": 75,
     "metadata": {},
     "output_type": "execute_result"
    }
   ],
   "source": [
    "input_file = 'data/input_day3.txt'\n",
    "binary_nums = [list(map(int, l.strip())) for l in open(input_file).readlines()]\n",
    "len(binary_nums), binary_nums[0]"
   ]
  },
  {
   "cell_type": "code",
   "execution_count": 76,
   "id": "24a23f30-5102-42ec-888b-a0e023b6fad2",
   "metadata": {
    "execution": {
     "iopub.execute_input": "2021-12-05T19:58:46.761695Z",
     "iopub.status.busy": "2021-12-05T19:58:46.761093Z",
     "iopub.status.idle": "2021-12-05T19:58:46.768669Z",
     "shell.execute_reply": "2021-12-05T19:58:46.767993Z",
     "shell.execute_reply.started": "2021-12-05T19:58:46.761664Z"
    },
    "tags": []
   },
   "outputs": [
    {
     "data": {
      "text/plain": [
       "array([511, 497, 496, 506, 504, 519, 487, 488, 499, 520, 503, 499])"
      ]
     },
     "execution_count": 76,
     "metadata": {},
     "output_type": "execute_result"
    }
   ],
   "source": [
    "import numpy as np\n",
    "bit_sums = np.sum(binary_nums, axis=0)\n",
    "bit_sums"
   ]
  },
  {
   "cell_type": "code",
   "execution_count": 87,
   "id": "d110d5ed-27b6-4d37-9921-0a4c3e38e264",
   "metadata": {
    "execution": {
     "iopub.execute_input": "2021-12-05T20:59:05.502895Z",
     "iopub.status.busy": "2021-12-05T20:59:05.502593Z",
     "iopub.status.idle": "2021-12-05T20:59:05.511094Z",
     "shell.execute_reply": "2021-12-05T20:59:05.510012Z",
     "shell.execute_reply.started": "2021-12-05T20:59:05.502864Z"
    },
    "tags": []
   },
   "outputs": [
    {
     "data": {
      "text/plain": [
       "([1, 0, 0, 1, 1, 1, 0, 0, 0, 1, 1, 0],\n",
       " [0, 1, 1, 0, 0, 0, 1, 1, 1, 0, 0, 1],\n",
       " 2502,\n",
       " 1593,\n",
       " 3985686)"
      ]
     },
     "execution_count": 87,
     "metadata": {},
     "output_type": "execute_result"
    }
   ],
   "source": [
    "most_common_mask = (bit_sums > len(binary_nums) / 2)\n",
    "gamma = list(map(int, most_common_mask))\n",
    "epsilon = list(map(int, ~most_common_mask))\n",
    "\n",
    "def bitlist_to_num(l):\n",
    "    return int(''.join(map(str, l)), 2)\n",
    "\n",
    "gamma, epsilon, bitlist_to_num(gamma), bitlist_to_num(epsilon), bitlist_to_num(gamma) * bitlist_to_num(epsilon)"
   ]
  },
  {
   "cell_type": "code",
   "execution_count": 124,
   "id": "3da67f9d-7b2d-4f2a-895f-776fd0c2f88e",
   "metadata": {
    "execution": {
     "iopub.execute_input": "2021-12-05T21:16:00.360036Z",
     "iopub.status.busy": "2021-12-05T21:16:00.359744Z",
     "iopub.status.idle": "2021-12-05T21:16:00.366271Z",
     "shell.execute_reply": "2021-12-05T21:16:00.365238Z",
     "shell.execute_reply.started": "2021-12-05T21:16:00.360005Z"
    },
    "tags": []
   },
   "outputs": [],
   "source": [
    "def most_common_bit(binary_numbers, pos=0):\n",
    "    \"\"\"Returns most common bit at a given position, or 1 if 0 and 1 are present the same number of times.\"\"\"\n",
    "    return int(np.mean([num[pos] for num in binary_numbers]) >= 0.5)\n",
    "    \n",
    "bin_nums = [\n",
    "    [0, 1, 0],\n",
    "    [0, 1, 1],\n",
    "    [1, 0, 1],\n",
    "    [0, 1, 0]\n",
    "]\n",
    "assert most_common_bit(bin_nums, 0) == 0\n",
    "assert most_common_bit(bin_nums, 1) == most_common_bit(bin_nums, 2) == 1"
   ]
  },
  {
   "cell_type": "code",
   "execution_count": 117,
   "id": "ed173a16-62a1-4e36-9424-791e0090cb76",
   "metadata": {
    "execution": {
     "iopub.execute_input": "2021-12-05T21:14:03.467276Z",
     "iopub.status.busy": "2021-12-05T21:14:03.466991Z",
     "iopub.status.idle": "2021-12-05T21:14:03.473621Z",
     "shell.execute_reply": "2021-12-05T21:14:03.472527Z",
     "shell.execute_reply.started": "2021-12-05T21:14:03.467248Z"
    },
    "tags": []
   },
   "outputs": [],
   "source": [
    "def filter_by_criteria(binary_numbers, criteria='most common', pos=0):\n",
    "    if len(binary_numbers) == 1:\n",
    "        return int(''.join(map(str, binary_numbers[0])), 2)\n",
    "    \n",
    "    bit_filter = most_common_bit(binary_numbers, pos)\n",
    "    if criteria != 'most common':\n",
    "        bit_filter = abs(bit_filter - 1)\n",
    "        \n",
    "    filtered_numbers = filter(lambda num: num[pos] == bit_filter, binary_numbers)\n",
    "    return filter_by_criteria(list(filtered_numbers), criteria, pos+1)"
   ]
  },
  {
   "cell_type": "code",
   "execution_count": 128,
   "id": "020ab73f-d15c-4dff-912d-cb3625f81825",
   "metadata": {
    "execution": {
     "iopub.execute_input": "2021-12-05T21:17:19.736751Z",
     "iopub.status.busy": "2021-12-05T21:17:19.736442Z",
     "iopub.status.idle": "2021-12-05T21:17:19.744471Z",
     "shell.execute_reply": "2021-12-05T21:17:19.743180Z",
     "shell.execute_reply.started": "2021-12-05T21:17:19.736722Z"
    },
    "tags": []
   },
   "outputs": [],
   "source": [
    "# Check provided example\n",
    "sample = \"\"\"\n",
    "00100\n",
    "11110\n",
    "10110\n",
    "10111\n",
    "10101\n",
    "01111\n",
    "00111\n",
    "11100\n",
    "10000\n",
    "11001\n",
    "00010\n",
    "01010\n",
    "\"\"\".strip()\n",
    "sample = [list(map(int, s)) for s in sample.split('\\n') if s]\n",
    "assert filter_by_criteria(sample) == 23  # oxygen generator rating\n",
    "assert filter_by_criteria(sample, criteria='least common') == 10  # CO2 scrubber rating"
   ]
  },
  {
   "cell_type": "code",
   "execution_count": 130,
   "id": "31b726e9-e446-41e1-ac89-696e1a102a91",
   "metadata": {
    "execution": {
     "iopub.execute_input": "2021-12-05T21:18:30.529191Z",
     "iopub.status.busy": "2021-12-05T21:18:30.528844Z",
     "iopub.status.idle": "2021-12-05T21:18:30.541165Z",
     "shell.execute_reply": "2021-12-05T21:18:30.540303Z",
     "shell.execute_reply.started": "2021-12-05T21:18:30.529153Z"
    },
    "tags": []
   },
   "outputs": [
    {
     "data": {
      "text/plain": [
       "2555739"
      ]
     },
     "execution_count": 130,
     "metadata": {},
     "output_type": "execute_result"
    }
   ],
   "source": [
    "filter_by_criteria(binary_nums) * filter_by_criteria(binary_nums, criteria='least common')"
   ]
  },
  {
   "cell_type": "markdown",
   "id": "a46add6c-823a-40e0-9c44-be791a273ecc",
   "metadata": {},
   "source": [
    "### Day 4: Giant Squid"
   ]
  },
  {
   "cell_type": "code",
   "execution_count": 2,
   "id": "e9a10b12-abe0-40b5-abc3-9ab4c4135258",
   "metadata": {
    "execution": {
     "iopub.execute_input": "2021-12-07T10:57:17.815912Z",
     "iopub.status.busy": "2021-12-07T10:57:17.815133Z",
     "iopub.status.idle": "2021-12-07T10:57:17.819940Z",
     "shell.execute_reply": "2021-12-07T10:57:17.819006Z",
     "shell.execute_reply.started": "2021-12-07T10:57:17.815879Z"
    },
    "tags": []
   },
   "outputs": [],
   "source": [
    "sample = \"\"\"\n",
    "7,4,9,5,11,17,23,2,0,14,21,24,10,16,13,6,15,25,12,22,18,20,8,19,3,26,1\n",
    "\n",
    "22 13 17 11  0\n",
    " 8  2 23  4 24\n",
    "21  9 14 16  7\n",
    " 6 10  3 18  5\n",
    " 1 12 20 15 19\n",
    "\n",
    " 3 15  0  2 22\n",
    " 9 18 13 17  5\n",
    "19  8  7 25 23\n",
    "20 11 10 24  4\n",
    "14 21 16 12  6\n",
    "\n",
    "14 21 17 24  4\n",
    "10 16 15  9 19\n",
    "18  8 23 26 20\n",
    "22 11 13  6  5\n",
    " 2  0 12  3  7\n",
    "\"\"\".strip().split('\\n')"
   ]
  },
  {
   "cell_type": "code",
   "execution_count": 3,
   "id": "5f4c2a9f-0af0-4be2-aeb7-3cdd82d8b0d2",
   "metadata": {
    "execution": {
     "iopub.execute_input": "2021-12-07T10:57:18.136421Z",
     "iopub.status.busy": "2021-12-07T10:57:18.136136Z",
     "iopub.status.idle": "2021-12-07T10:57:18.149442Z",
     "shell.execute_reply": "2021-12-07T10:57:18.148822Z",
     "shell.execute_reply.started": "2021-12-07T10:57:18.136385Z"
    },
    "tags": []
   },
   "outputs": [
    {
     "data": {
      "text/plain": [
       "(27,\n",
       " 3,\n",
       " [[22, 13, 17, 11, 0],\n",
       "  [8, 2, 23, 4, 24],\n",
       "  [21, 9, 14, 16, 7],\n",
       "  [6, 10, 3, 18, 5],\n",
       "  [1, 12, 20, 15, 19]])"
      ]
     },
     "execution_count": 3,
     "metadata": {},
     "output_type": "execute_result"
    }
   ],
   "source": [
    "def parse_bingo_input(lines):\n",
    "    drawn_numbers = list(map(int, lines[0].split(',')))\n",
    "    boards, board = [], []\n",
    "    for l in lines[2:]:\n",
    "        if l.strip():\n",
    "            board.append(list(map(int, l.strip().split())))\n",
    "            if len(board) == 5:\n",
    "                boards.append(board)\n",
    "                board = []\n",
    "    return drawn_numbers, boards\n",
    "\n",
    "n, b = parse_bingo_input(sample)\n",
    "len(n), len(b), b[0]"
   ]
  },
  {
   "cell_type": "code",
   "execution_count": 243,
   "id": "d955a942-657d-417a-ba78-03fc6a113969",
   "metadata": {
    "execution": {
     "iopub.execute_input": "2021-12-06T00:33:20.462549Z",
     "iopub.status.busy": "2021-12-06T00:33:20.462263Z",
     "iopub.status.idle": "2021-12-06T00:33:20.474128Z",
     "shell.execute_reply": "2021-12-06T00:33:20.473476Z",
     "shell.execute_reply.started": "2021-12-06T00:33:20.462516Z"
    },
    "tags": []
   },
   "outputs": [
    {
     "data": {
      "text/plain": [
       "*14\t*21\t*17\t*24\t*4\n",
       " 10\t 16\t 15\t*9\t 19\n",
       " 18\t 8\t*23\t 26\t 20\n",
       " 22\t*11\t 13\t 6\t*5\n",
       "*2\t*0\t 12\t 3\t*7"
      ]
     },
     "execution_count": 243,
     "metadata": {},
     "output_type": "execute_result"
    }
   ],
   "source": [
    "class BingoBoard(object):\n",
    "    def __init__(self, values):\n",
    "        assert len(values) == 5, values\n",
    "        assert all(len(v) == 5 for v in values), values\n",
    "        \n",
    "        self.values = np.array(values, dtype=int)\n",
    "        self.drawn = np.zeros((5, 5), dtype=bool)\n",
    "        self.score = 0\n",
    "        self.won = False\n",
    "\n",
    "    def __repr__(self):\n",
    "        return '\\n'.join(\n",
    "            '\\t'.join(\n",
    "                f'{\"*\" if self.drawn[i,j] else \" \"}{val}' \n",
    "                for j, val in enumerate(row)\n",
    "            )\n",
    "            for i, row in enumerate(self.values)\n",
    "        )\n",
    "    \n",
    "    def draw_number(self, *ns):\n",
    "        for n in ns:\n",
    "            self.drawn[self.values==n] = True\n",
    "            self.won = self._has_won()\n",
    "            if self.won:\n",
    "                self.score = n * self.values[~self.drawn].sum()\n",
    "        \n",
    "    def _has_won(self):\n",
    "        return bool(self.drawn.prod(axis=0).sum()) or bool(self.drawn.prod(axis=1).sum())\n",
    "    \n",
    "bb = BingoBoard(parse_bingo_input(sample)[1][2])\n",
    "bb.draw_number(7, 4, 9, 5, 11, 17, 23, 2, 0, 14, 21, 24)\n",
    "assert bb.won and bb.score == 4512\n",
    "bb"
   ]
  },
  {
   "cell_type": "code",
   "execution_count": 272,
   "id": "a6b415e7-471c-4d3e-9338-037941906bce",
   "metadata": {
    "execution": {
     "iopub.execute_input": "2021-12-06T00:59:43.976695Z",
     "iopub.status.busy": "2021-12-06T00:59:43.976255Z",
     "iopub.status.idle": "2021-12-06T00:59:43.985076Z",
     "shell.execute_reply": "2021-12-06T00:59:43.984136Z",
     "shell.execute_reply.started": "2021-12-06T00:59:43.976668Z"
    },
    "tags": []
   },
   "outputs": [
    {
     "name": "stdout",
     "output_type": "stream",
     "text": [
      "100 100\n"
     ]
    },
    {
     "data": {
      "text/plain": [
       "[[31, 23, 52, 26, 8],\n",
       " [27, 89, 37, 80, 46],\n",
       " [97, 19, 63, 34, 79],\n",
       " [13, 59, 45, 12, 73],\n",
       " [42, 25, 22, 6, 39]]"
      ]
     },
     "execution_count": 272,
     "metadata": {},
     "output_type": "execute_result"
    }
   ],
   "source": [
    "drawn_numbers, board_values = parse_bingo_input(open('data/input_day4.txt').readlines())\n",
    "print(len(drawn_numbers), len(board_values))\n",
    "board_values[0]"
   ]
  },
  {
   "cell_type": "code",
   "execution_count": 273,
   "id": "14d552e6-d4d2-433d-81cc-a58b2e0bd793",
   "metadata": {
    "execution": {
     "iopub.execute_input": "2021-12-06T00:59:45.522298Z",
     "iopub.status.busy": "2021-12-06T00:59:45.521882Z",
     "iopub.status.idle": "2021-12-06T00:59:45.564737Z",
     "shell.execute_reply": "2021-12-06T00:59:45.564270Z",
     "shell.execute_reply.started": "2021-12-06T00:59:45.522271Z"
    },
    "tags": []
   },
   "outputs": [
    {
     "name": "stdout",
     "output_type": "stream",
     "text": [
      "27.. 14.. 70.. 7.. 85.. 66.. 65.. 57.. 68.. 23.. 33.. 78.. 4.. 84.. 25.. 18.. 43.. 71.. 76.. 61.. 34.. 82.. 93.. 74.. 64084\n",
      "*7\t*70\t 5\t 69\t*4\n",
      "*34\t 60\t 40\t 73\t 6\n",
      "*74\t 54\t 67\t 32\t 38\n",
      "*93\t 62\t 17\t 51\t 86\n",
      "*57\t 88\t 99\t 3\t 16\n"
     ]
    }
   ],
   "source": [
    "# Part 1: Pick the first winning board\n",
    "done = False\n",
    "boards = [BingoBoard(b) for b in board_values]\n",
    "for n in drawn_numbers:\n",
    "    print(n, end='.. ')\n",
    "    for b in boards:\n",
    "        b.draw_number(n)\n",
    "        if b.won:\n",
    "            print(b.score)\n",
    "            print(b)\n",
    "            done = True\n",
    "            break\n",
    "    if done:\n",
    "        break"
   ]
  },
  {
   "cell_type": "code",
   "execution_count": 274,
   "id": "765f0c9a-7e0c-468f-b71e-7210e9033488",
   "metadata": {
    "execution": {
     "iopub.execute_input": "2021-12-06T00:59:51.424264Z",
     "iopub.status.busy": "2021-12-06T00:59:51.423737Z",
     "iopub.status.idle": "2021-12-06T00:59:51.519750Z",
     "shell.execute_reply": "2021-12-06T00:59:51.519285Z",
     "shell.execute_reply.started": "2021-12-06T00:59:51.424231Z"
    },
    "tags": []
   },
   "outputs": [
    {
     "name": "stdout",
     "output_type": "stream",
     "text": [
      "27.. 14.. 70.. 7.. 85.. 66.. 65.. 57.. 68.. 23.. 33.. 78.. 4.. 84.. 25.. 18.. 43.. 71.. 76.. 61.. 34.. 82.. 93.. 74.. 26.. 15.. 83.. 64.. 2.. 35.. 19.. 97.. 32.. 47.. 6.. 51.. 99.. 20.. 77.. 75.. 56.. 73.. 80.. 86.. 55.. 36.. 13.. 95.. 52.. 63.. 79.. 72.. 9.. 10.. 16.. 8.. 69.. 11.. 50.. 54.. 81.. 22.. 45.. 1.. 12.. 88.. 44.. 17.. 62.. 0.. 96.. 94.. 31.. 90.. 39.. 92.. 37.. 40.. 5.. 98.. 24.. 38.. 46.. 21.. 30.. 49.. 41.. 12833\n",
      "*52\t*31\t*24\t*68\t*41\n",
      " 48\t*82\t*19\t 29\t*65\n",
      "*51\t 91\t*97\t*39\t*80\n",
      " 3\t*55\t*43\t*40\t*38\n",
      "*20\t 89\t 53\t*45\t*75\n"
     ]
    }
   ],
   "source": [
    "# Part 2: Pick the last winning board\n",
    "boards = [BingoBoard(b) for b in board_values]\n",
    "boards_done = []\n",
    "for n in drawn_numbers:\n",
    "    print(n, end='.. ')\n",
    "    for i, b in enumerate(boards):\n",
    "        if i in boards_done:\n",
    "            continue\n",
    "            \n",
    "        b.draw_number(n)\n",
    "        if b.won:\n",
    "            # print(f'Board {i} won!')\n",
    "            boards_done.append(i)\n",
    "            if len(boards) == len(boards_done):  # All done\n",
    "                print(b.score)\n",
    "                print(b)\n",
    "            \n",
    "    if len(boards) == len(boards_done):\n",
    "        break"
   ]
  },
  {
   "cell_type": "markdown",
   "id": "8bdc6deb-3941-4c90-9d16-57abcb6d5448",
   "metadata": {},
   "source": [
    "### Day 5: Hydrothermal Venture"
   ]
  },
  {
   "cell_type": "code",
   "execution_count": 18,
   "id": "dce72e71-94db-4be1-95cf-616b002f1fbf",
   "metadata": {
    "execution": {
     "iopub.execute_input": "2021-12-06T12:28:47.414355Z",
     "iopub.status.busy": "2021-12-06T12:28:47.414060Z",
     "iopub.status.idle": "2021-12-06T12:28:47.418386Z",
     "shell.execute_reply": "2021-12-06T12:28:47.417422Z",
     "shell.execute_reply.started": "2021-12-06T12:28:47.414325Z"
    },
    "tags": []
   },
   "outputs": [],
   "source": [
    "sample = \"\"\"\n",
    "0,9 -> 5,9\n",
    "8,0 -> 0,8\n",
    "9,4 -> 3,4\n",
    "2,2 -> 2,1\n",
    "7,0 -> 7,4\n",
    "6,4 -> 2,0\n",
    "0,9 -> 2,9\n",
    "3,4 -> 1,4\n",
    "0,0 -> 8,8\n",
    "5,5 -> 8,2\n",
    "\"\"\".strip().split('\\n')"
   ]
  },
  {
   "cell_type": "code",
   "execution_count": 50,
   "id": "c5df67b4-6f5a-4086-9230-d9cf6f39c6e8",
   "metadata": {
    "execution": {
     "iopub.execute_input": "2021-12-06T12:58:39.126733Z",
     "iopub.status.busy": "2021-12-06T12:58:39.126450Z",
     "iopub.status.idle": "2021-12-06T12:58:39.133439Z",
     "shell.execute_reply": "2021-12-06T12:58:39.132470Z",
     "shell.execute_reply.started": "2021-12-06T12:58:39.126702Z"
    },
    "tags": []
   },
   "outputs": [
    {
     "data": {
      "text/plain": [
       "[((0, 9), (5, 9)), ((8, 0), (0, 8))]"
      ]
     },
     "execution_count": 50,
     "metadata": {},
     "output_type": "execute_result"
    }
   ],
   "source": [
    "def parse_input(lines):\n",
    "    return [tuple(map(lambda s: tuple(map(int, s.split(','))), l.split(' -> ')))\n",
    "             for l in lines]\n",
    "parse_input(sample)[:2]"
   ]
  },
  {
   "cell_type": "code",
   "execution_count": 65,
   "id": "729976e5-0b58-419c-a672-6d3983332ae0",
   "metadata": {
    "execution": {
     "iopub.execute_input": "2021-12-06T13:06:49.222264Z",
     "iopub.status.busy": "2021-12-06T13:06:49.221858Z",
     "iopub.status.idle": "2021-12-06T13:06:49.231451Z",
     "shell.execute_reply": "2021-12-06T13:06:49.230371Z",
     "shell.execute_reply.started": "2021-12-06T13:06:49.222232Z"
    },
    "tags": []
   },
   "outputs": [],
   "source": [
    "from collections import defaultdict\n",
    "\n",
    "def count_intersections(vent_lines, include_diagonals=False):\n",
    "    vent_points = defaultdict(int)\n",
    "    for vent_line in vent_lines:\n",
    "        (x1, y1), (x2, y2) = vent_line\n",
    "        x_step = 1 if x1 <= x2 else -1\n",
    "        y_step = 1 if y1 <= y2 else -1\n",
    "        \n",
    "        if x1 == x2:  # Horizontal\n",
    "            for y in range(y1, y2+y_step, y_step):\n",
    "                vent_points[f'{x1},{y}'] += 1\n",
    "        elif y1 == y2:  # Vertical\n",
    "            for x in range(x1, x2+x_step, x_step):\n",
    "                vent_points[f'{x},{y1}'] += 1\n",
    "        elif include_diagonals:  # Diagonal\n",
    "            for x, y in zip(range(x1, x2+x_step, x_step), range(y1, y2+y_step, y_step)):\n",
    "                vent_points[f'{x},{y}'] += 1\n",
    "                \n",
    "    return sum(k > 1 for k in vent_points.values())\n",
    "\n",
    "assert count_intersections(parse_input(sample)) == 5\n",
    "assert count_intersections(parse_input(sample), include_diagonals=True) == 12"
   ]
  },
  {
   "cell_type": "code",
   "execution_count": 66,
   "id": "a2a2069d-cf9e-4f06-b1f9-1fae86c3f8b6",
   "metadata": {
    "execution": {
     "iopub.execute_input": "2021-12-06T13:06:51.324826Z",
     "iopub.status.busy": "2021-12-06T13:06:51.324539Z",
     "iopub.status.idle": "2021-12-06T13:06:51.332625Z",
     "shell.execute_reply": "2021-12-06T13:06:51.331854Z",
     "shell.execute_reply.started": "2021-12-06T13:06:51.324798Z"
    },
    "tags": []
   },
   "outputs": [
    {
     "data": {
      "text/plain": [
       "(500, ((452, 244), (452, 303)), ((858, 704), (858, 272)))"
      ]
     },
     "execution_count": 66,
     "metadata": {},
     "output_type": "execute_result"
    }
   ],
   "source": [
    "vent_lines = parse_input(open('data/input_day5.txt').readlines())\n",
    "len(vent_lines), vent_lines[0], vent_lines[-1]"
   ]
  },
  {
   "cell_type": "code",
   "execution_count": 68,
   "id": "2fc99ff4-831f-4f8e-9823-0f0ca5ed7e5c",
   "metadata": {
    "execution": {
     "iopub.execute_input": "2021-12-06T13:07:03.665291Z",
     "iopub.status.busy": "2021-12-06T13:07:03.664991Z",
     "iopub.status.idle": "2021-12-06T13:07:03.858812Z",
     "shell.execute_reply": "2021-12-06T13:07:03.858194Z",
     "shell.execute_reply.started": "2021-12-06T13:07:03.665264Z"
    },
    "tags": []
   },
   "outputs": [
    {
     "data": {
      "text/plain": [
       "(5774, 18423)"
      ]
     },
     "execution_count": 68,
     "metadata": {},
     "output_type": "execute_result"
    }
   ],
   "source": [
    "count_intersections(vent_lines), count_intersections(vent_lines, include_diagonals=True)"
   ]
  },
  {
   "cell_type": "markdown",
   "id": "5d62185a-a33e-456f-8674-256b42b0c428",
   "metadata": {},
   "source": [
    "### Day 6: Lanternfish"
   ]
  },
  {
   "cell_type": "code",
   "execution_count": 62,
   "id": "b89b7732-8894-4364-8dae-396cd825c583",
   "metadata": {
    "execution": {
     "iopub.execute_input": "2021-12-06T16:01:54.190113Z",
     "iopub.status.busy": "2021-12-06T16:01:54.189842Z",
     "iopub.status.idle": "2021-12-06T16:01:54.195783Z",
     "shell.execute_reply": "2021-12-06T16:01:54.194636Z",
     "shell.execute_reply.started": "2021-12-06T16:01:54.190085Z"
    },
    "tags": []
   },
   "outputs": [
    {
     "data": {
      "text/plain": [
       "[3, 4, 3, 1, 2]"
      ]
     },
     "execution_count": 62,
     "metadata": {},
     "output_type": "execute_result"
    }
   ],
   "source": [
    "sample = list(map(int, '3,4,3,1,2'.split(',')))\n",
    "sample"
   ]
  },
  {
   "cell_type": "code",
   "execution_count": 63,
   "id": "cec7e2b4-789c-402a-9443-527762f7d19b",
   "metadata": {
    "execution": {
     "iopub.execute_input": "2021-12-06T16:01:54.738910Z",
     "iopub.status.busy": "2021-12-06T16:01:54.738645Z",
     "iopub.status.idle": "2021-12-06T16:01:54.743986Z",
     "shell.execute_reply": "2021-12-06T16:01:54.743058Z",
     "shell.execute_reply.started": "2021-12-06T16:01:54.738882Z"
    },
    "tags": []
   },
   "outputs": [],
   "source": [
    "def simulate_lanternfish_growth(initial_state, days):\n",
    "    current_pop = initial_state[:]\n",
    "    for _ in range(days):\n",
    "        for i in range(len(current_pop)):\n",
    "            if current_pop[i] == 0:\n",
    "                current_pop.append(8)\n",
    "                current_pop[i] = 6\n",
    "            else:\n",
    "                current_pop[i] -= 1\n",
    "    return len(current_pop)\n",
    "\n",
    "assert simulate_lanternfish_growth(sample, 18) == 26\n",
    "# assert simulate_lanternfish_growth(sample, 256) == 26984457539"
   ]
  },
  {
   "cell_type": "code",
   "execution_count": 64,
   "id": "e4b69fa6-5b54-48df-a04d-e1e328981141",
   "metadata": {
    "execution": {
     "iopub.execute_input": "2021-12-06T16:01:55.368656Z",
     "iopub.status.busy": "2021-12-06T16:01:55.368328Z",
     "iopub.status.idle": "2021-12-06T16:01:55.376002Z",
     "shell.execute_reply": "2021-12-06T16:01:55.375333Z",
     "shell.execute_reply.started": "2021-12-06T16:01:55.368626Z"
    },
    "tags": []
   },
   "outputs": [
    {
     "data": {
      "text/plain": [
       "(300, 2, 1)"
      ]
     },
     "execution_count": 71,
     "metadata": {},
     "output_type": "execute_result"
    }
   ],
   "source": [
    "initial_state = list(map(int, open('data/input_day6.txt').read().strip().split(',')))\n",
    "len(initial_state), initial_state[0], initial_state[-1]"
   ]
  },
  {
   "cell_type": "code",
   "execution_count": 65,
   "id": "1078a96b-1c8b-4939-82f7-5a8b1f442923",
   "metadata": {
    "execution": {
     "iopub.execute_input": "2021-12-06T16:01:55.949652Z",
     "iopub.status.busy": "2021-12-06T16:01:55.949341Z",
     "iopub.status.idle": "2021-12-06T16:01:56.353023Z",
     "shell.execute_reply": "2021-12-06T16:01:56.352350Z",
     "shell.execute_reply.started": "2021-12-06T16:01:55.949622Z"
    },
    "tags": []
   },
   "outputs": [
    {
     "data": {
      "text/plain": [
       "352151"
      ]
     },
     "execution_count": 72,
     "metadata": {},
     "output_type": "execute_result"
    }
   ],
   "source": [
    "simulate_lanternfish_growth(initial_state, 80)"
   ]
  },
  {
   "cell_type": "code",
   "execution_count": 68,
   "id": "ad3d6b60-cb49-4d0f-827d-54e172e88ff8",
   "metadata": {
    "execution": {
     "iopub.execute_input": "2021-12-06T16:02:36.491058Z",
     "iopub.status.busy": "2021-12-06T16:02:36.490470Z",
     "iopub.status.idle": "2021-12-06T16:02:36.498039Z",
     "shell.execute_reply": "2021-12-06T16:02:36.496951Z",
     "shell.execute_reply.started": "2021-12-06T16:02:36.491029Z"
    },
    "tags": []
   },
   "outputs": [],
   "source": [
    "import numpy as np\n",
    "from collections import Counter, defaultdict\n",
    "\n",
    "def simulate_lanternfish_growth_faster(initial_state, days):\n",
    "    current_pop = defaultdict(int, Counter(initial_state))\n",
    "    for _ in range(days):\n",
    "        current_pop = {counter: (current_pop[counter+1] + current_pop[0] if counter == 6 else\n",
    "                                 current_pop[0] if counter == 8 else\n",
    "                                 current_pop[counter+1])\n",
    "                       for counter in range(9)}\n",
    "        \n",
    "    return sum(current_pop.values())\n",
    "    \n",
    "assert simulate_lanternfish_growth_faster(sample, 18) == 26\n",
    "assert simulate_lanternfish_growth_faster(sample, 256) == 26984457539"
   ]
  },
  {
   "cell_type": "code",
   "execution_count": 75,
   "id": "92e94125-41cd-4c46-a102-42347d0945b1",
   "metadata": {
    "execution": {
     "iopub.execute_input": "2021-12-06T16:05:17.961682Z",
     "iopub.status.busy": "2021-12-06T16:05:17.961406Z",
     "iopub.status.idle": "2021-12-06T16:05:42.167730Z",
     "shell.execute_reply": "2021-12-06T16:05:42.166946Z",
     "shell.execute_reply.started": "2021-12-06T16:05:17.961657Z"
    },
    "tags": []
   },
   "outputs": [
    {
     "name": "stdout",
     "output_type": "stream",
     "text": [
      "76.2 µs ± 762 ns per loop (mean ± std. dev. of 7 runs, 10000 loops each)\n",
      "39 ms ± 1.59 ms per loop (mean ± std. dev. of 7 runs, 10 loops each)\n",
      "43.4 µs ± 68.2 ns per loop (mean ± std. dev. of 7 runs, 10000 loops each)\n",
      "138 µs ± 296 ns per loop (mean ± std. dev. of 7 runs, 10000 loops each)\n"
     ]
    }
   ],
   "source": [
    "%timeit simulate_lanternfish_growth(sample, 30)\n",
    "%timeit simulate_lanternfish_growth(sample, 100)\n",
    "%timeit simulate_lanternfish_growth_faster(sample, 30)\n",
    "%timeit simulate_lanternfish_growth_faster(sample, 100)"
   ]
  },
  {
   "cell_type": "code",
   "execution_count": 77,
   "id": "50001b0c-56ff-4297-9082-12c91ba1bcf0",
   "metadata": {
    "execution": {
     "iopub.execute_input": "2021-12-06T16:05:59.881854Z",
     "iopub.status.busy": "2021-12-06T16:05:59.881566Z",
     "iopub.status.idle": "2021-12-06T16:05:59.889023Z",
     "shell.execute_reply": "2021-12-06T16:05:59.888277Z",
     "shell.execute_reply.started": "2021-12-06T16:05:59.881827Z"
    },
    "tags": []
   },
   "outputs": [
    {
     "data": {
      "text/plain": [
       "1601616884019"
      ]
     },
     "execution_count": 77,
     "metadata": {},
     "output_type": "execute_result"
    }
   ],
   "source": [
    "simulate_lanternfish_growth_faster(initial_state, 256)"
   ]
  },
  {
   "cell_type": "markdown",
   "id": "a57ca1b8-4a32-4eee-a272-40c4b3831d8e",
   "metadata": {},
   "source": [
    "### Day 7: The Treachery of Whales"
   ]
  },
  {
   "cell_type": "code",
   "execution_count": 4,
   "id": "4609b9a0-5ad2-429f-a20f-d54245f41b7c",
   "metadata": {
    "execution": {
     "iopub.execute_input": "2021-12-07T11:00:34.831544Z",
     "iopub.status.busy": "2021-12-07T11:00:34.831255Z",
     "iopub.status.idle": "2021-12-07T11:00:34.838872Z",
     "shell.execute_reply": "2021-12-07T11:00:34.837961Z",
     "shell.execute_reply.started": "2021-12-07T11:00:34.831512Z"
    }
   },
   "outputs": [
    {
     "data": {
      "text/plain": [
       "[16, 1, 2, 0, 4, 2, 7, 1, 2, 14]"
      ]
     },
     "execution_count": 4,
     "metadata": {},
     "output_type": "execute_result"
    }
   ],
   "source": [
    "sample = list(map(int, \"16,1,2,0,4,2,7,1,2,14\".split(',')))\n",
    "sample"
   ]
  },
  {
   "cell_type": "code",
   "execution_count": 21,
   "id": "a6642947-99dd-4d65-baaf-e55358bf3752",
   "metadata": {
    "execution": {
     "iopub.execute_input": "2021-12-07T14:25:27.266663Z",
     "iopub.status.busy": "2021-12-07T14:25:27.266387Z",
     "iopub.status.idle": "2021-12-07T14:25:27.273533Z",
     "shell.execute_reply": "2021-12-07T14:25:27.272737Z",
     "shell.execute_reply.started": "2021-12-07T14:25:27.266637Z"
    },
    "tags": []
   },
   "outputs": [
    {
     "data": {
      "text/plain": [
       "2.0"
      ]
     },
     "execution_count": 21,
     "metadata": {},
     "output_type": "execute_result"
    }
   ],
   "source": [
    "# Part 1\n",
    "import numpy as np\n",
    "np.median(sample)"
   ]
  },
  {
   "cell_type": "code",
   "execution_count": 26,
   "id": "b8c638ba-1147-4f48-97dc-d6cc4358e548",
   "metadata": {
    "execution": {
     "iopub.execute_input": "2021-12-07T14:29:48.044741Z",
     "iopub.status.busy": "2021-12-07T14:29:48.044283Z",
     "iopub.status.idle": "2021-12-07T14:29:48.048791Z",
     "shell.execute_reply": "2021-12-07T14:29:48.047830Z",
     "shell.execute_reply.started": "2021-12-07T14:29:48.044717Z"
    },
    "tags": []
   },
   "outputs": [],
   "source": [
    "def calc_fuel(nums, point):\n",
    "    return sum(abs(num - point) for num in nums)\n",
    "\n",
    "assert calc_fuel(sample, 2) == 37"
   ]
  },
  {
   "cell_type": "code",
   "execution_count": 32,
   "id": "b5903ded-89e5-414e-b4b7-948a192ba8e9",
   "metadata": {
    "execution": {
     "iopub.execute_input": "2021-12-07T14:41:02.002479Z",
     "iopub.status.busy": "2021-12-07T14:41:02.002182Z",
     "iopub.status.idle": "2021-12-07T14:41:02.011326Z",
     "shell.execute_reply": "2021-12-07T14:41:02.010696Z",
     "shell.execute_reply.started": "2021-12-07T14:41:02.002452Z"
    },
    "tags": []
   },
   "outputs": [
    {
     "name": "stdout",
     "output_type": "stream",
     "text": [
      "1000 1101 398\n"
     ]
    },
    {
     "data": {
      "text/plain": [
       "347509.0"
      ]
     },
     "execution_count": 32,
     "metadata": {},
     "output_type": "execute_result"
    }
   ],
   "source": [
    "crab_positions = list(map(int, open('data/input_day7.txt').read().strip().split(',')))\n",
    "print(len(crab_positions), crab_positions[0], crab_positions[-1])\n",
    "calc_fuel(crab_positions, np.median(crab_positions))"
   ]
  },
  {
   "cell_type": "code",
   "execution_count": 37,
   "id": "02d3ab36-21e2-460a-827c-1962a9330a08",
   "metadata": {
    "execution": {
     "iopub.execute_input": "2021-12-07T14:42:34.312833Z",
     "iopub.status.busy": "2021-12-07T14:42:34.312556Z",
     "iopub.status.idle": "2021-12-07T14:42:34.318723Z",
     "shell.execute_reply": "2021-12-07T14:42:34.317732Z",
     "shell.execute_reply.started": "2021-12-07T14:42:34.312804Z"
    },
    "tags": []
   },
   "outputs": [
    {
     "data": {
      "text/plain": [
       "4.9"
      ]
     },
     "execution_count": 37,
     "metadata": {},
     "output_type": "execute_result"
    }
   ],
   "source": [
    "# Part 2\n",
    "np.average(sample)"
   ]
  },
  {
   "cell_type": "code",
   "execution_count": 38,
   "id": "c74f096f-4c23-45a2-be9e-29f106370a87",
   "metadata": {
    "execution": {
     "iopub.execute_input": "2021-12-07T14:42:34.832004Z",
     "iopub.status.busy": "2021-12-07T14:42:34.831740Z",
     "iopub.status.idle": "2021-12-07T14:42:34.836187Z",
     "shell.execute_reply": "2021-12-07T14:42:34.835539Z",
     "shell.execute_reply.started": "2021-12-07T14:42:34.831976Z"
    },
    "tags": []
   },
   "outputs": [],
   "source": [
    "def calc_fuel_increasing(nums, point):\n",
    "    return sum(abs(num - point) * (abs(num - point) + 1) / 2 for num in nums)\n",
    "\n",
    "assert calc_fuel_increasing(sample, 5) == 168\n",
    "assert calc_fuel_increasing(sample, 2) == 206"
   ]
  },
  {
   "cell_type": "code",
   "execution_count": 39,
   "id": "00344c63-afb6-4525-9f4e-b5f89b522b3e",
   "metadata": {
    "execution": {
     "iopub.execute_input": "2021-12-07T14:42:35.430079Z",
     "iopub.status.busy": "2021-12-07T14:42:35.429746Z",
     "iopub.status.idle": "2021-12-07T14:42:35.435998Z",
     "shell.execute_reply": "2021-12-07T14:42:35.435258Z",
     "shell.execute_reply.started": "2021-12-07T14:42:35.430044Z"
    },
    "tags": []
   },
   "outputs": [
    {
     "data": {
      "text/plain": [
       "(5, 168.0)"
      ]
     },
     "execution_count": 39,
     "metadata": {},
     "output_type": "execute_result"
    }
   ],
   "source": [
    "scores = [(i, calc_fuel_increasing(sample, i)) for i in range(max(sample))]\n",
    "min(scores, key=lambda p: p[1])"
   ]
  },
  {
   "cell_type": "code",
   "execution_count": 40,
   "id": "2a432999-e8ce-4ce0-85b1-02c3b9656df1",
   "metadata": {
    "execution": {
     "iopub.execute_input": "2021-12-07T14:42:38.579257Z",
     "iopub.status.busy": "2021-12-07T14:42:38.578891Z",
     "iopub.status.idle": "2021-12-07T14:42:38.586196Z",
     "shell.execute_reply": "2021-12-07T14:42:38.584976Z",
     "shell.execute_reply.started": "2021-12-07T14:42:38.579231Z"
    },
    "tags": []
   },
   "outputs": [
    {
     "data": {
      "text/plain": [
       "473.523"
      ]
     },
     "execution_count": 40,
     "metadata": {},
     "output_type": "execute_result"
    }
   ],
   "source": [
    "np.average(crab_positions)"
   ]
  },
  {
   "cell_type": "code",
   "execution_count": 47,
   "id": "e5ce9432-8acc-4f9a-b9f3-caf9f6be46af",
   "metadata": {
    "execution": {
     "iopub.execute_input": "2021-12-07T14:45:22.087789Z",
     "iopub.status.busy": "2021-12-07T14:45:22.087343Z",
     "iopub.status.idle": "2021-12-07T14:45:22.100647Z",
     "shell.execute_reply": "2021-12-07T14:45:22.099890Z",
     "shell.execute_reply.started": "2021-12-07T14:45:22.087757Z"
    },
    "tags": []
   },
   "outputs": [
    {
     "data": {
      "text/plain": [
       "(473, 98257206.0)"
      ]
     },
     "execution_count": 47,
     "metadata": {},
     "output_type": "execute_result"
    }
   ],
   "source": [
    "scores = [(i, calc_fuel_increasing(crab_positions, i)) for i in range(473, 493)]\n",
    "min(scores, key=lambda p: p[1])"
   ]
  },
  {
   "cell_type": "markdown",
   "id": "b823b759-a000-4f3c-85d6-0af67ade5e63",
   "metadata": {},
   "source": [
    "### Day 8: Seven Segment Search"
   ]
  },
  {
   "cell_type": "code",
   "execution_count": 17,
   "id": "0e2afbd8-f468-47ae-b974-703577ebec61",
   "metadata": {
    "execution": {
     "iopub.execute_input": "2021-12-08T15:33:30.816918Z",
     "iopub.status.busy": "2021-12-08T15:33:30.816655Z",
     "iopub.status.idle": "2021-12-08T15:33:30.827674Z",
     "shell.execute_reply": "2021-12-08T15:33:30.825865Z",
     "shell.execute_reply.started": "2021-12-08T15:33:30.816892Z"
    },
    "tags": []
   },
   "outputs": [
    {
     "data": {
      "text/plain": [
       "(10,\n",
       " [['be',\n",
       "   'cfbegad',\n",
       "   'cbdgef',\n",
       "   'fgaecd',\n",
       "   'cgeb',\n",
       "   'fdcge',\n",
       "   'agebfd',\n",
       "   'fecdb',\n",
       "   'fabcd',\n",
       "   'edb'],\n",
       "  ['fdgacbe', 'cefdb', 'cefbgd', 'gcbe']])"
      ]
     },
     "execution_count": 17,
     "metadata": {},
     "output_type": "execute_result"
    }
   ],
   "source": [
    "sample = \"\"\"\n",
    "be cfbegad cbdgef fgaecd cgeb fdcge agebfd fecdb fabcd edb |\n",
    "fdgacbe cefdb cefbgd gcbe\n",
    "edbfga begcd cbg gc gcadebf fbgde acbgfd abcde gfcbed gfec |\n",
    "fcgedb cgb dgebacf gc\n",
    "fgaebd cg bdaec gdafb agbcfd gdcbef bgcad gfac gcb cdgabef |\n",
    "cg cg fdcagb cbg\n",
    "fbegcd cbd adcefb dageb afcb bc aefdc ecdab fgdeca fcdbega |\n",
    "efabcd cedba gadfec cb\n",
    "aecbfdg fbg gf bafeg dbefa fcge gcbea fcaegb dgceab fcbdga |\n",
    "gecf egdcabf bgf bfgea\n",
    "fgeab ca afcebg bdacfeg cfaedg gcfdb baec bfadeg bafgc acf |\n",
    "gebdcfa ecba ca fadegcb\n",
    "dbcfg fgd bdegcaf fgec aegbdf ecdfab fbedc dacgb gdcebf gf |\n",
    "cefg dcbef fcge gbcadfe\n",
    "bdfegc cbegaf gecbf dfcage bdacg ed bedf ced adcbefg gebcd |\n",
    "ed bcgafe cdgba cbgef\n",
    "egadfb cdbfeg cegd fecab cgb gbdefca cg fgcdab egfdb bfceg |\n",
    "gbdfcae bgc cg cgb\n",
    "gcafb gcf dcaebfg ecagb gf abcdeg gaef cafbge fdbac fegbdc |\n",
    "fgae cfgab fg bagce\n",
    "\"\"\".strip().replace('|\\n', '| ').split('\\n')\n",
    "sample = list(map(lambda l: list(map(str.split, l.split(' | '))), sample))\n",
    "len(sample), sample[0]"
   ]
  },
  {
   "cell_type": "code",
   "execution_count": 19,
   "id": "8a891161-e9e6-4978-9b59-83e117a8b228",
   "metadata": {
    "execution": {
     "iopub.execute_input": "2021-12-08T17:44:55.686572Z",
     "iopub.status.busy": "2021-12-08T17:44:55.682956Z",
     "iopub.status.idle": "2021-12-08T17:44:55.721547Z",
     "shell.execute_reply": "2021-12-08T17:44:55.720706Z",
     "shell.execute_reply.started": "2021-12-08T17:44:55.686466Z"
    },
    "tags": []
   },
   "outputs": [
    {
     "data": {
      "text/plain": [
       "{1: 2, 4: 4, 7: 3, 8: 7}"
      ]
     },
     "execution_count": 19,
     "metadata": {},
     "output_type": "execute_result"
    }
   ],
   "source": [
    "digit_segments = {\n",
    "    0: 'abcefg',\n",
    "    1: 'cf',\n",
    "    2: 'acdeg',\n",
    "    3: 'acdfg',\n",
    "    4: 'bcdf',\n",
    "    5: 'abdfg',\n",
    "    6: 'abdefg',\n",
    "    7: 'acf',\n",
    "    8: 'abcdefg',\n",
    "    9: 'abcdfg'\n",
    "}\n",
    "segments_per_digits = {d: len(s) for d, s in digit_segments.items()}\n",
    "easy_digits = {d: n for d, n in segments_per_digits.items() if list(segments_per_digits.values()).count(n) == 1}\n",
    "easy_digits"
   ]
  },
  {
   "cell_type": "code",
   "execution_count": 21,
   "id": "f1053889-37d3-4040-86c6-878e28781bc6",
   "metadata": {
    "execution": {
     "iopub.execute_input": "2021-12-08T17:46:40.700001Z",
     "iopub.status.busy": "2021-12-08T17:46:40.699755Z",
     "iopub.status.idle": "2021-12-08T17:46:40.706924Z",
     "shell.execute_reply": "2021-12-08T17:46:40.706063Z",
     "shell.execute_reply.started": "2021-12-08T17:46:40.699979Z"
    },
    "tags": []
   },
   "outputs": [],
   "source": [
    "def count_easy_digits(signal_entries):\n",
    "    return sum(len(v) in easy_digits.values() \n",
    "               for _, output_values in signal_entries\n",
    "               for v in output_values)\n",
    "\n",
    "assert count_easy_digits(sample) == 26"
   ]
  },
  {
   "cell_type": "code",
   "execution_count": 22,
   "id": "d699b653-c89b-4b8e-8abc-ac8f042fbd4a",
   "metadata": {
    "execution": {
     "iopub.execute_input": "2021-12-08T17:48:34.982365Z",
     "iopub.status.busy": "2021-12-08T17:48:34.981995Z",
     "iopub.status.idle": "2021-12-08T17:48:34.992459Z",
     "shell.execute_reply": "2021-12-08T17:48:34.991460Z",
     "shell.execute_reply.started": "2021-12-08T17:48:34.982339Z"
    }
   },
   "outputs": [
    {
     "data": {
      "text/plain": [
       "(200,\n",
       " [['dcbgefa',\n",
       "   'cebd',\n",
       "   'bfega',\n",
       "   'eadbf',\n",
       "   'db',\n",
       "   'cdfaeb',\n",
       "   'dba',\n",
       "   'bfcgda',\n",
       "   'egadcf',\n",
       "   'aedcf'],\n",
       "  ['egadcfb', 'eafcd', 'db', 'debc']])"
      ]
     },
     "execution_count": 22,
     "metadata": {},
     "output_type": "execute_result"
    }
   ],
   "source": [
    "signal_entries = list(map(lambda l: list(map(str.split, l.split(' | '))), \n",
    "                          open('data/input_day8.txt').readlines()))\n",
    "len(signal_entries), signal_entries[0]"
   ]
  },
  {
   "cell_type": "code",
   "execution_count": 23,
   "id": "0dd43c94-a295-4c2e-8a76-b44e2d4f9361",
   "metadata": {
    "execution": {
     "iopub.execute_input": "2021-12-08T17:48:44.770069Z",
     "iopub.status.busy": "2021-12-08T17:48:44.769743Z",
     "iopub.status.idle": "2021-12-08T17:48:44.777529Z",
     "shell.execute_reply": "2021-12-08T17:48:44.775744Z",
     "shell.execute_reply.started": "2021-12-08T17:48:44.770041Z"
    }
   },
   "outputs": [
    {
     "data": {
      "text/plain": [
       "261"
      ]
     },
     "execution_count": 23,
     "metadata": {},
     "output_type": "execute_result"
    }
   ],
   "source": [
    "count_easy_digits(signal_entries)"
   ]
  },
  {
   "cell_type": "code",
   "execution_count": 155,
   "id": "f9ad1e1e-a82e-4931-a9ef-d9673f5629e3",
   "metadata": {
    "execution": {
     "iopub.execute_input": "2021-12-12T18:40:32.869476Z",
     "iopub.status.busy": "2021-12-12T18:40:32.869072Z",
     "iopub.status.idle": "2021-12-12T18:40:32.880354Z",
     "shell.execute_reply": "2021-12-12T18:40:32.879551Z",
     "shell.execute_reply.started": "2021-12-12T18:40:32.869446Z"
    },
    "tags": []
   },
   "outputs": [
    {
     "data": {
      "text/plain": [
       "{'a': 'a', 'c': 'b', 'b': 'c', 'e': 'd', 'g': 'e', 'd': 'f', 'f': 'g'}"
      ]
     },
     "execution_count": 155,
     "metadata": {},
     "output_type": "execute_result"
    }
   ],
   "source": [
    "def decode_pattern(decoder, pattern):\n",
    "    return ''.join(sorted(decoder[c] for c in pattern))\n",
    "\n",
    "def find_wire_connection(digit_patterns):\n",
    "    for i, perm in enumerate(permutations('abcdefg', 7)):\n",
    "        decoder = {after: before for before, after in zip('abcdefg', perm)}\n",
    "        is_valid = True\n",
    "\n",
    "        digits_left = list(digit_segments.values())\n",
    "        for pattern in digit_patterns:\n",
    "            decoded_pattern = decode_pattern(decoder, pattern)\n",
    "            if decoded_pattern in digits_left:\n",
    "                digits_left.remove(decoded_pattern)\n",
    "            else:\n",
    "                is_valid = False\n",
    "                break\n",
    "\n",
    "        if is_valid:\n",
    "            return decoder\n",
    "            \n",
    "find_wire_connection(entry)"
   ]
  },
  {
   "cell_type": "code",
   "execution_count": 160,
   "id": "1b8d9470-d3c1-4986-a497-35064daf873f",
   "metadata": {
    "execution": {
     "iopub.execute_input": "2021-12-12T18:44:57.000655Z",
     "iopub.status.busy": "2021-12-12T18:44:57.000365Z",
     "iopub.status.idle": "2021-12-12T18:44:57.070216Z",
     "shell.execute_reply": "2021-12-12T18:44:57.069714Z",
     "shell.execute_reply.started": "2021-12-12T18:44:57.000626Z"
    },
    "tags": []
   },
   "outputs": [],
   "source": [
    "segments_to_digit = {v: k for k, v in digit_segments.items()}\n",
    "\n",
    "def decode_output(decoder, output_patterns):\n",
    "    return int(''.join(str(segments_to_digit[decode(decoder, pat)]) for pat in output_patterns))\n",
    "\n",
    "def calc_outputs_sum(entries):\n",
    "    sum_output_values = 0\n",
    "    for digit_patterns, output_patterns in entries:\n",
    "        decoder = find_wire_connection(digit_patterns)\n",
    "        output_value = decode_output(decoder, output_patterns)\n",
    "        sum_output_values += output_value\n",
    "    \n",
    "    return sum_output_values\n",
    "\n",
    "assert calc_outputs_sum(sample) == 61229"
   ]
  },
  {
   "cell_type": "code",
   "execution_count": 161,
   "id": "957002d4-0596-43e4-9d9c-9a3a179067ff",
   "metadata": {
    "execution": {
     "iopub.execute_input": "2021-12-12T18:45:08.817180Z",
     "iopub.status.busy": "2021-12-12T18:45:08.816887Z",
     "iopub.status.idle": "2021-12-12T18:45:10.189215Z",
     "shell.execute_reply": "2021-12-12T18:45:10.188465Z",
     "shell.execute_reply.started": "2021-12-12T18:45:08.817152Z"
    }
   },
   "outputs": [
    {
     "data": {
      "text/plain": [
       "987553"
      ]
     },
     "execution_count": 161,
     "metadata": {},
     "output_type": "execute_result"
    }
   ],
   "source": [
    "calc_outputs_sum(signal_entries)"
   ]
  },
  {
   "cell_type": "markdown",
   "id": "32cf939c-496c-4324-b443-744ba4ee2b6d",
   "metadata": {},
   "source": [
    "### Day 9: Smoke Basin"
   ]
  },
  {
   "cell_type": "code",
   "execution_count": 1,
   "id": "fda26903-8449-4ccd-85dc-8c69604ea7f0",
   "metadata": {
    "execution": {
     "iopub.execute_input": "2021-12-13T00:30:00.101095Z",
     "iopub.status.busy": "2021-12-13T00:30:00.100776Z",
     "iopub.status.idle": "2021-12-13T00:30:00.117138Z",
     "shell.execute_reply": "2021-12-13T00:30:00.116590Z",
     "shell.execute_reply.started": "2021-12-13T00:30:00.101025Z"
    },
    "tags": []
   },
   "outputs": [
    {
     "data": {
      "text/plain": [
       "(5, 10)"
      ]
     },
     "execution_count": 1,
     "metadata": {},
     "output_type": "execute_result"
    }
   ],
   "source": [
    "sample = \"\"\"\n",
    "2199943210\n",
    "3987894921\n",
    "9856789892\n",
    "8767896789\n",
    "9899965678\n",
    "\"\"\".strip().split('\\n')\n",
    "\n",
    "def parse_heightmap(txt):\n",
    "    return list(map(lambda s: [int(c) for c in s.strip()], txt))\n",
    "\n",
    "sample = parse_heightmap(sample)\n",
    "len(sample), len(sample[0])"
   ]
  },
  {
   "cell_type": "code",
   "execution_count": 2,
   "id": "504970d0-43e0-4d79-ab2e-a597ba4b8bf8",
   "metadata": {
    "execution": {
     "iopub.execute_input": "2021-12-13T00:30:00.895816Z",
     "iopub.status.busy": "2021-12-13T00:30:00.895514Z",
     "iopub.status.idle": "2021-12-13T00:30:00.903085Z",
     "shell.execute_reply": "2021-12-13T00:30:00.902070Z",
     "shell.execute_reply.started": "2021-12-13T00:30:00.895784Z"
    },
    "tags": []
   },
   "outputs": [],
   "source": [
    "# Part 1\n",
    "\n",
    "def get_low_points(heightmap):\n",
    "    return ((i,j)\n",
    "            for i, row in enumerate(heightmap)\n",
    "            for j, height in enumerate(row)\n",
    "            if not (\n",
    "                i-1 >= 0 and heightmap[i-1][j] <= height  # above\n",
    "                or j-1 >= 0 and heightmap[i][j-1] <= height  # left\n",
    "                or j+1 < len(row)  and heightmap[i][j+1] <= height  # right\n",
    "                or i+1 < len(heightmap) and heightmap[i+1][j] <= height # below\n",
    "            ))\n",
    "\n",
    "def calc_risk_level(heightmap):\n",
    "    return sum(heightmap[i][j] + 1 for i, j in get_low_points(heightmap))\n",
    "\n",
    "assert calc_risk_level(sample) == 15"
   ]
  },
  {
   "cell_type": "code",
   "execution_count": 3,
   "id": "d44735b6-4a92-44ea-ba1b-e956bb5ca242",
   "metadata": {
    "execution": {
     "iopub.execute_input": "2021-12-13T00:30:01.692827Z",
     "iopub.status.busy": "2021-12-13T00:30:01.692547Z",
     "iopub.status.idle": "2021-12-13T00:30:01.701116Z",
     "shell.execute_reply": "2021-12-13T00:30:01.700477Z",
     "shell.execute_reply.started": "2021-12-13T00:30:01.692798Z"
    },
    "tags": []
   },
   "outputs": [
    {
     "data": {
      "text/plain": [
       "(100, 100)"
      ]
     },
     "execution_count": 3,
     "metadata": {},
     "output_type": "execute_result"
    }
   ],
   "source": [
    "heightmap = parse_heightmap(open('data/input_day9.txt').readlines())\n",
    "len(heightmap), len(heightmap[0])"
   ]
  },
  {
   "cell_type": "code",
   "execution_count": 4,
   "id": "639ad7ef-5a1e-447e-a6f8-1c4a1879cac9",
   "metadata": {
    "execution": {
     "iopub.execute_input": "2021-12-13T00:30:02.325059Z",
     "iopub.status.busy": "2021-12-13T00:30:02.324741Z",
     "iopub.status.idle": "2021-12-13T00:30:02.334280Z",
     "shell.execute_reply": "2021-12-13T00:30:02.333448Z",
     "shell.execute_reply.started": "2021-12-13T00:30:02.325028Z"
    },
    "tags": []
   },
   "outputs": [
    {
     "data": {
      "text/plain": [
       "480"
      ]
     },
     "execution_count": 4,
     "metadata": {},
     "output_type": "execute_result"
    }
   ],
   "source": [
    "calc_risk_level(heightmap)"
   ]
  },
  {
   "cell_type": "code",
   "execution_count": 6,
   "id": "2737dde1-fe01-4ed6-86ab-496424b18170",
   "metadata": {
    "execution": {
     "iopub.execute_input": "2021-12-13T00:30:36.098016Z",
     "iopub.status.busy": "2021-12-13T00:30:36.097725Z",
     "iopub.status.idle": "2021-12-13T00:30:36.107440Z",
     "shell.execute_reply": "2021-12-13T00:30:36.106261Z",
     "shell.execute_reply.started": "2021-12-13T00:30:36.097989Z"
    },
    "tags": []
   },
   "outputs": [],
   "source": [
    "# Part 2\n",
    "\n",
    "def get_adjacent_points(point, heightmap):\n",
    "    i, j = point\n",
    "    ps = []\n",
    "    if i-1 >= 0:\n",
    "        ps.append((i-1, j))\n",
    "    if j-1 >= 0:\n",
    "        ps.append((i, j-1))\n",
    "    if j+1 < len(heightmap[i]):\n",
    "        ps.append((i, j+1))\n",
    "    if i+1 < len(heightmap):\n",
    "        ps.append((i+1, j))\n",
    "    return ps\n",
    "\n",
    "def grow_point_basin(point, heightmap, basin_points=None):\n",
    "    i, j = point\n",
    "    if heightmap[i][j] == 9:\n",
    "        return []\n",
    "    \n",
    "    if basin_points is None:\n",
    "        basin_points = []\n",
    "    basin_points.append(point)\n",
    "    \n",
    "    for neighbour in get_adjacent_points(point, heightmap):\n",
    "        if neighbour not in basin_points:\n",
    "            grow_point_basin(neighbour, heightmap, basin_points)\n",
    "    \n",
    "    return basin_points\n",
    "\n",
    "\n",
    "assert [len(grow_point_basin(lp, sample)) for lp in get_low_points(sample)] == [3, 9, 14, 9]"
   ]
  },
  {
   "cell_type": "code",
   "execution_count": 7,
   "id": "bc5848c5-0b88-44b3-a940-39e8945c0930",
   "metadata": {
    "execution": {
     "iopub.execute_input": "2021-12-13T00:30:38.240098Z",
     "iopub.status.busy": "2021-12-13T00:30:38.239809Z",
     "iopub.status.idle": "2021-12-13T00:30:38.245676Z",
     "shell.execute_reply": "2021-12-13T00:30:38.244335Z",
     "shell.execute_reply.started": "2021-12-13T00:30:38.240068Z"
    },
    "tags": []
   },
   "outputs": [],
   "source": [
    "from functools import reduce\n",
    "\n",
    "def calc_product_biggest_basins(heightmap):\n",
    "    return reduce(lambda x, y: x * y,\n",
    "                  sorted((len(grow_point_basin(lp, heightmap)) for lp in get_low_points(heightmap)))[-3:])\n",
    "\n",
    "assert calc_product_biggest_basins(sample) == 1134"
   ]
  },
  {
   "cell_type": "code",
   "execution_count": 8,
   "id": "6cb17fae-2a56-47bd-a574-8da288bd8820",
   "metadata": {
    "execution": {
     "iopub.execute_input": "2021-12-13T00:30:38.970325Z",
     "iopub.status.busy": "2021-12-13T00:30:38.970029Z",
     "iopub.status.idle": "2021-12-13T00:30:39.014536Z",
     "shell.execute_reply": "2021-12-13T00:30:39.013961Z",
     "shell.execute_reply.started": "2021-12-13T00:30:38.970295Z"
    },
    "tags": []
   },
   "outputs": [
    {
     "data": {
      "text/plain": [
       "1045660"
      ]
     },
     "execution_count": 8,
     "metadata": {},
     "output_type": "execute_result"
    }
   ],
   "source": [
    "calc_product_biggest_basins(heightmap)"
   ]
  },
  {
   "cell_type": "code",
   "execution_count": null,
   "id": "e05e3d8b-03b9-4564-a112-53fc88875370",
   "metadata": {},
   "outputs": [],
   "source": []
  }
 ],
 "metadata": {
  "kernelspec": {
   "display_name": "Python 3 (ipykernel)",
   "language": "python",
   "name": "python3"
  },
  "language_info": {
   "codemirror_mode": {
    "name": "ipython",
    "version": 3
   },
   "file_extension": ".py",
   "mimetype": "text/x-python",
   "name": "python",
   "nbconvert_exporter": "python",
   "pygments_lexer": "ipython3",
   "version": "3.9.1"
  }
 },
 "nbformat": 4,
 "nbformat_minor": 5
}
