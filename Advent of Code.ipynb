{
 "cells": [
  {
   "cell_type": "markdown",
   "id": "07630f1f-b25f-49d2-82dc-d2473b40f7da",
   "metadata": {},
   "source": [
    "### Day 1: Sonar Sweep"
   ]
  },
  {
   "cell_type": "code",
   "execution_count": 69,
   "id": "7cebd521-ad56-4b39-9edc-b1c28a66b283",
   "metadata": {
    "execution": {
     "iopub.execute_input": "2021-12-05T19:58:43.312563Z",
     "iopub.status.busy": "2021-12-05T19:58:43.312287Z",
     "iopub.status.idle": "2021-12-05T19:58:43.320915Z",
     "shell.execute_reply": "2021-12-05T19:58:43.320184Z",
     "shell.execute_reply.started": "2021-12-05T19:58:43.312534Z"
    },
    "tags": []
   },
   "outputs": [
    {
     "name": "stdout",
     "output_type": "stream",
     "text": [
      "2000\n",
      "1999 1393\n"
     ]
    }
   ],
   "source": [
    "input_file = 'input_day1.txt'\n",
    "measurements = [int(l.strip()) for l in open(input_file).readlines()]\n",
    "print(len(measurements))\n",
    "increases = [measurements[i] > measurements[i-1] for i in range(1, len(measurements))]\n",
    "print(len(increases), sum(increases))"
   ]
  },
  {
   "cell_type": "code",
   "execution_count": 70,
   "id": "ece9cf7c-20ce-4b64-836b-d35527ec6626",
   "metadata": {
    "execution": {
     "iopub.execute_input": "2021-12-05T19:58:43.573582Z",
     "iopub.status.busy": "2021-12-05T19:58:43.573315Z",
     "iopub.status.idle": "2021-12-05T19:58:43.579064Z",
     "shell.execute_reply": "2021-12-05T19:58:43.578411Z",
     "shell.execute_reply.started": "2021-12-05T19:58:43.573556Z"
    },
    "tags": []
   },
   "outputs": [
    {
     "name": "stdout",
     "output_type": "stream",
     "text": [
      "156 \t \n",
      "176 \t True\n",
      "175 \t False\n",
      "176 \t True\n",
      "183 \t True\n",
      "157 \t False\n",
      "150 \t False\n",
      "153 \t True\n",
      "154 \t True\n",
      "170 \t True\n"
     ]
    }
   ],
   "source": [
    "# Sanity check\n",
    "for i in range(10):\n",
    "    print(measurements[i], '\\t', (increases[i-1] if i > 0 else ''))"
   ]
  },
  {
   "cell_type": "code",
   "execution_count": 71,
   "id": "c693d64c-4517-44a9-ba7f-523b4e4f9ec5",
   "metadata": {
    "execution": {
     "iopub.execute_input": "2021-12-05T19:58:43.809317Z",
     "iopub.status.busy": "2021-12-05T19:58:43.808973Z",
     "iopub.status.idle": "2021-12-05T19:58:43.816678Z",
     "shell.execute_reply": "2021-12-05T19:58:43.815766Z",
     "shell.execute_reply.started": "2021-12-05T19:58:43.809285Z"
    },
    "tags": []
   },
   "outputs": [
    {
     "name": "stdout",
     "output_type": "stream",
     "text": [
      "1998 [507, 527, 534, 516, 490, 460, 457, 477, 486, 499]\n"
     ]
    }
   ],
   "source": [
    "measurement_windows = (measurements[i:i+3] for i in range(len(measurements)-2))\n",
    "measurement_sums = [sum(window) for window in measurement_windows]\n",
    "print(len(measurement_sums), measurement_sums[:10])"
   ]
  },
  {
   "cell_type": "code",
   "execution_count": 72,
   "id": "696ffc36-c3bc-4c8b-9290-c98ae6001a96",
   "metadata": {
    "execution": {
     "iopub.execute_input": "2021-12-05T19:58:44.112310Z",
     "iopub.status.busy": "2021-12-05T19:58:44.112062Z",
     "iopub.status.idle": "2021-12-05T19:58:44.117229Z",
     "shell.execute_reply": "2021-12-05T19:58:44.116365Z",
     "shell.execute_reply.started": "2021-12-05T19:58:44.112284Z"
    },
    "tags": []
   },
   "outputs": [
    {
     "name": "stdout",
     "output_type": "stream",
     "text": [
      "1997 1359\n"
     ]
    }
   ],
   "source": [
    "increases = [measurement_sums[i] > measurement_sums[i-1] for i in range(1, len(measurement_sums))]\n",
    "print(len(increases), sum(increases))"
   ]
  },
  {
   "cell_type": "markdown",
   "id": "d32ed014-c0a2-46af-a676-6a6738ca94de",
   "metadata": {},
   "source": [
    "### Day 2: Dive!"
   ]
  },
  {
   "cell_type": "code",
   "execution_count": 73,
   "id": "d1e86d38-d6e3-4f02-994d-b292c3698b56",
   "metadata": {
    "execution": {
     "iopub.execute_input": "2021-12-05T19:58:44.841354Z",
     "iopub.status.busy": "2021-12-05T19:58:44.840987Z",
     "iopub.status.idle": "2021-12-05T19:58:44.938141Z",
     "shell.execute_reply": "2021-12-05T19:58:44.937177Z",
     "shell.execute_reply.started": "2021-12-05T19:58:44.841330Z"
    },
    "tags": []
   },
   "outputs": [
    {
     "data": {
      "text/plain": [
       "(1968, 1063, 2091984)"
      ]
     },
     "execution_count": 73,
     "metadata": {},
     "output_type": "execute_result"
    }
   ],
   "source": [
    "input_file = 'input_day2.txt'\n",
    "commands = [l.strip().split() for l in  open(input_file).readlines()]\n",
    "hpos, depth = 0, 0\n",
    "for command in commands:\n",
    "    direction, X = command[0], int(command[1])\n",
    "    if direction == 'up':\n",
    "        depth -= X\n",
    "    elif direction == 'down':\n",
    "        depth += X\n",
    "    elif direction == 'forward':\n",
    "        hpos += X\n",
    "hpos, depth, hpos * depth"
   ]
  },
  {
   "cell_type": "code",
   "execution_count": 74,
   "id": "aebcadcc-fffc-4276-965d-2a857185fd7f",
   "metadata": {
    "execution": {
     "iopub.execute_input": "2021-12-05T19:58:45.460675Z",
     "iopub.status.busy": "2021-12-05T19:58:45.460390Z",
     "iopub.status.idle": "2021-12-05T19:58:45.468236Z",
     "shell.execute_reply": "2021-12-05T19:58:45.467504Z",
     "shell.execute_reply.started": "2021-12-05T19:58:45.460644Z"
    },
    "tags": []
   },
   "outputs": [
    {
     "data": {
      "text/plain": [
       "(1968, 1060092, 2086261056)"
      ]
     },
     "execution_count": 74,
     "metadata": {},
     "output_type": "execute_result"
    }
   ],
   "source": [
    "hpos, depth, aim = 0, 0, 0\n",
    "for command in commands:\n",
    "    direction, X = command[0], int(command[1])\n",
    "    if direction == 'up':\n",
    "        aim -= X\n",
    "    elif direction == 'down':\n",
    "        aim += X\n",
    "    elif direction == 'forward':\n",
    "        hpos += X\n",
    "        depth += aim * X\n",
    "hpos, depth, hpos * depth"
   ]
  },
  {
   "cell_type": "markdown",
   "id": "7584f7ed-47af-402f-9a35-9481a2b105c7",
   "metadata": {},
   "source": [
    "### Day 3: Binary Diagnostic"
   ]
  },
  {
   "cell_type": "code",
   "execution_count": 75,
   "id": "40cfbce6-627c-4306-b307-ca6e3ec1fac5",
   "metadata": {
    "execution": {
     "iopub.execute_input": "2021-12-05T19:58:46.456999Z",
     "iopub.status.busy": "2021-12-05T19:58:46.456721Z",
     "iopub.status.idle": "2021-12-05T19:58:46.466279Z",
     "shell.execute_reply": "2021-12-05T19:58:46.465639Z",
     "shell.execute_reply.started": "2021-12-05T19:58:46.456968Z"
    },
    "tags": []
   },
   "outputs": [
    {
     "data": {
      "text/plain": [
       "(1000, [1, 1, 1, 1, 1, 1, 0, 1, 0, 0, 1, 1])"
      ]
     },
     "execution_count": 75,
     "metadata": {},
     "output_type": "execute_result"
    }
   ],
   "source": [
    "input_file = 'input_day3.txt'\n",
    "binary_nums = [list(map(int, l.strip())) for l in open(input_file).readlines()]\n",
    "len(binary_nums), binary_nums[0]"
   ]
  },
  {
   "cell_type": "code",
   "execution_count": 76,
   "id": "24a23f30-5102-42ec-888b-a0e023b6fad2",
   "metadata": {
    "execution": {
     "iopub.execute_input": "2021-12-05T19:58:46.761695Z",
     "iopub.status.busy": "2021-12-05T19:58:46.761093Z",
     "iopub.status.idle": "2021-12-05T19:58:46.768669Z",
     "shell.execute_reply": "2021-12-05T19:58:46.767993Z",
     "shell.execute_reply.started": "2021-12-05T19:58:46.761664Z"
    },
    "tags": []
   },
   "outputs": [
    {
     "data": {
      "text/plain": [
       "array([511, 497, 496, 506, 504, 519, 487, 488, 499, 520, 503, 499])"
      ]
     },
     "execution_count": 76,
     "metadata": {},
     "output_type": "execute_result"
    }
   ],
   "source": [
    "import numpy as np\n",
    "bit_sums = np.sum(binary_nums, axis=0)\n",
    "bit_sums"
   ]
  },
  {
   "cell_type": "code",
   "execution_count": 87,
   "id": "d110d5ed-27b6-4d37-9921-0a4c3e38e264",
   "metadata": {
    "execution": {
     "iopub.execute_input": "2021-12-05T20:59:05.502895Z",
     "iopub.status.busy": "2021-12-05T20:59:05.502593Z",
     "iopub.status.idle": "2021-12-05T20:59:05.511094Z",
     "shell.execute_reply": "2021-12-05T20:59:05.510012Z",
     "shell.execute_reply.started": "2021-12-05T20:59:05.502864Z"
    },
    "tags": []
   },
   "outputs": [
    {
     "data": {
      "text/plain": [
       "([1, 0, 0, 1, 1, 1, 0, 0, 0, 1, 1, 0],\n",
       " [0, 1, 1, 0, 0, 0, 1, 1, 1, 0, 0, 1],\n",
       " 2502,\n",
       " 1593,\n",
       " 3985686)"
      ]
     },
     "execution_count": 87,
     "metadata": {},
     "output_type": "execute_result"
    }
   ],
   "source": [
    "most_common_mask = (bit_sums > len(binary_nums) / 2)\n",
    "gamma = list(map(int, most_common_mask))\n",
    "epsilon = list(map(int, ~most_common_mask))\n",
    "\n",
    "def bitlist_to_num(l):\n",
    "    return int(''.join(map(str, l)), 2)\n",
    "\n",
    "gamma, epsilon, bitlist_to_num(gamma), bitlist_to_num(epsilon), bitlist_to_num(gamma) * bitlist_to_num(epsilon)"
   ]
  },
  {
   "cell_type": "code",
   "execution_count": 124,
   "id": "3da67f9d-7b2d-4f2a-895f-776fd0c2f88e",
   "metadata": {
    "execution": {
     "iopub.execute_input": "2021-12-05T21:16:00.360036Z",
     "iopub.status.busy": "2021-12-05T21:16:00.359744Z",
     "iopub.status.idle": "2021-12-05T21:16:00.366271Z",
     "shell.execute_reply": "2021-12-05T21:16:00.365238Z",
     "shell.execute_reply.started": "2021-12-05T21:16:00.360005Z"
    },
    "tags": []
   },
   "outputs": [],
   "source": [
    "def most_common_bit(binary_numbers, pos=0):\n",
    "    \"\"\"Returns most common bit at a given position, or 1 if 0 and 1 are present the same number of times.\"\"\"\n",
    "    return int(np.mean([num[pos] for num in binary_numbers]) >= 0.5)\n",
    "    \n",
    "bin_nums = [\n",
    "    [0, 1, 0],\n",
    "    [0, 1, 1],\n",
    "    [1, 0, 1],\n",
    "    [0, 1, 0]\n",
    "]\n",
    "assert most_common_bit(bin_nums, 0) == 0\n",
    "assert most_common_bit(bin_nums, 1) == most_common_bit(bin_nums, 2) == 1"
   ]
  },
  {
   "cell_type": "code",
   "execution_count": 117,
   "id": "ed173a16-62a1-4e36-9424-791e0090cb76",
   "metadata": {
    "execution": {
     "iopub.execute_input": "2021-12-05T21:14:03.467276Z",
     "iopub.status.busy": "2021-12-05T21:14:03.466991Z",
     "iopub.status.idle": "2021-12-05T21:14:03.473621Z",
     "shell.execute_reply": "2021-12-05T21:14:03.472527Z",
     "shell.execute_reply.started": "2021-12-05T21:14:03.467248Z"
    },
    "tags": []
   },
   "outputs": [],
   "source": [
    "def filter_by_criteria(binary_numbers, criteria='most common', pos=0):\n",
    "    if len(binary_numbers) == 1:\n",
    "        return int(''.join(map(str, binary_numbers[0])), 2)\n",
    "    \n",
    "    bit_filter = most_common_bit(binary_numbers, pos)\n",
    "    if criteria != 'most common':\n",
    "        bit_filter = abs(bit_filter - 1)\n",
    "        \n",
    "    filtered_numbers = filter(lambda num: num[pos] == bit_filter, binary_numbers)\n",
    "    return filter_by_criteria(list(filtered_numbers), criteria, pos+1)"
   ]
  },
  {
   "cell_type": "code",
   "execution_count": 128,
   "id": "020ab73f-d15c-4dff-912d-cb3625f81825",
   "metadata": {
    "execution": {
     "iopub.execute_input": "2021-12-05T21:17:19.736751Z",
     "iopub.status.busy": "2021-12-05T21:17:19.736442Z",
     "iopub.status.idle": "2021-12-05T21:17:19.744471Z",
     "shell.execute_reply": "2021-12-05T21:17:19.743180Z",
     "shell.execute_reply.started": "2021-12-05T21:17:19.736722Z"
    },
    "tags": []
   },
   "outputs": [],
   "source": [
    "# Check provided example\n",
    "sample = \"\"\"\n",
    "00100\n",
    "11110\n",
    "10110\n",
    "10111\n",
    "10101\n",
    "01111\n",
    "00111\n",
    "11100\n",
    "10000\n",
    "11001\n",
    "00010\n",
    "01010\n",
    "\"\"\".strip()\n",
    "sample = [list(map(int, s)) for s in sample.split('\\n') if s]\n",
    "assert filter_by_criteria(sample) == 23  # oxygen generator rating\n",
    "assert filter_by_criteria(sample, criteria='least common') == 10  # CO2 scrubber rating"
   ]
  },
  {
   "cell_type": "code",
   "execution_count": 130,
   "id": "31b726e9-e446-41e1-ac89-696e1a102a91",
   "metadata": {
    "execution": {
     "iopub.execute_input": "2021-12-05T21:18:30.529191Z",
     "iopub.status.busy": "2021-12-05T21:18:30.528844Z",
     "iopub.status.idle": "2021-12-05T21:18:30.541165Z",
     "shell.execute_reply": "2021-12-05T21:18:30.540303Z",
     "shell.execute_reply.started": "2021-12-05T21:18:30.529153Z"
    },
    "tags": []
   },
   "outputs": [
    {
     "data": {
      "text/plain": [
       "2555739"
      ]
     },
     "execution_count": 130,
     "metadata": {},
     "output_type": "execute_result"
    }
   ],
   "source": [
    "filter_by_criteria(binary_nums) * filter_by_criteria(binary_nums, criteria='least common')"
   ]
  },
  {
   "cell_type": "markdown",
   "id": "a46add6c-823a-40e0-9c44-be791a273ecc",
   "metadata": {},
   "source": [
    "### Day 4: Giant Squid"
   ]
  },
  {
   "cell_type": "code",
   "execution_count": 209,
   "id": "e9a10b12-abe0-40b5-abc3-9ab4c4135258",
   "metadata": {
    "execution": {
     "iopub.execute_input": "2021-12-06T00:20:03.836235Z",
     "iopub.status.busy": "2021-12-06T00:20:03.835954Z",
     "iopub.status.idle": "2021-12-06T00:20:03.840238Z",
     "shell.execute_reply": "2021-12-06T00:20:03.839430Z",
     "shell.execute_reply.started": "2021-12-06T00:20:03.836206Z"
    },
    "tags": []
   },
   "outputs": [],
   "source": [
    "sample = \"\"\"\n",
    "7,4,9,5,11,17,23,2,0,14,21,24,10,16,13,6,15,25,12,22,18,20,8,19,3,26,1\n",
    "\n",
    "22 13 17 11  0\n",
    " 8  2 23  4 24\n",
    "21  9 14 16  7\n",
    " 6 10  3 18  5\n",
    " 1 12 20 15 19\n",
    "\n",
    " 3 15  0  2 22\n",
    " 9 18 13 17  5\n",
    "19  8  7 25 23\n",
    "20 11 10 24  4\n",
    "14 21 16 12  6\n",
    "\n",
    "14 21 17 24  4\n",
    "10 16 15  9 19\n",
    "18  8 23 26 20\n",
    "22 11 13  6  5\n",
    " 2  0 12  3  7\n",
    "\"\"\".strip().split('\\n')"
   ]
  },
  {
   "cell_type": "code",
   "execution_count": 242,
   "id": "5f4c2a9f-0af0-4be2-aeb7-3cdd82d8b0d2",
   "metadata": {
    "execution": {
     "iopub.execute_input": "2021-12-06T00:33:18.104746Z",
     "iopub.status.busy": "2021-12-06T00:33:18.104501Z",
     "iopub.status.idle": "2021-12-06T00:33:18.112778Z",
     "shell.execute_reply": "2021-12-06T00:33:18.112184Z",
     "shell.execute_reply.started": "2021-12-06T00:33:18.104721Z"
    },
    "tags": []
   },
   "outputs": [
    {
     "data": {
      "text/plain": [
       "([7,\n",
       "  4,\n",
       "  9,\n",
       "  5,\n",
       "  11,\n",
       "  17,\n",
       "  23,\n",
       "  2,\n",
       "  0,\n",
       "  14,\n",
       "  21,\n",
       "  24,\n",
       "  10,\n",
       "  16,\n",
       "  13,\n",
       "  6,\n",
       "  15,\n",
       "  25,\n",
       "  12,\n",
       "  22,\n",
       "  18,\n",
       "  20,\n",
       "  8,\n",
       "  19,\n",
       "  3,\n",
       "  26,\n",
       "  1],\n",
       " [[[22, 13, 17, 11, 0],\n",
       "   [8, 2, 23, 4, 24],\n",
       "   [21, 9, 14, 16, 7],\n",
       "   [6, 10, 3, 18, 5],\n",
       "   [1, 12, 20, 15, 19]],\n",
       "  [[3, 15, 0, 2, 22],\n",
       "   [9, 18, 13, 17, 5],\n",
       "   [19, 8, 7, 25, 23],\n",
       "   [20, 11, 10, 24, 4],\n",
       "   [14, 21, 16, 12, 6]],\n",
       "  [[14, 21, 17, 24, 4],\n",
       "   [10, 16, 15, 9, 19],\n",
       "   [18, 8, 23, 26, 20],\n",
       "   [22, 11, 13, 6, 5],\n",
       "   [2, 0, 12, 3, 7]]])"
      ]
     },
     "execution_count": 242,
     "metadata": {},
     "output_type": "execute_result"
    }
   ],
   "source": [
    "def parse_bingo_input(lines):\n",
    "    drawn_numbers = list(map(int, lines[0].split(',')))\n",
    "    boards, board = [], []\n",
    "    for l in lines[2:]:\n",
    "        if l.strip():\n",
    "            board.append(list(map(int, l.strip().split())))\n",
    "            if len(board) == 5:\n",
    "                boards.append(board)\n",
    "                board = []\n",
    "    return drawn_numbers, boards\n",
    "\n",
    "parse_bingo_input(sample)"
   ]
  },
  {
   "cell_type": "code",
   "execution_count": 243,
   "id": "d955a942-657d-417a-ba78-03fc6a113969",
   "metadata": {
    "execution": {
     "iopub.execute_input": "2021-12-06T00:33:20.462549Z",
     "iopub.status.busy": "2021-12-06T00:33:20.462263Z",
     "iopub.status.idle": "2021-12-06T00:33:20.474128Z",
     "shell.execute_reply": "2021-12-06T00:33:20.473476Z",
     "shell.execute_reply.started": "2021-12-06T00:33:20.462516Z"
    },
    "tags": []
   },
   "outputs": [
    {
     "data": {
      "text/plain": [
       "*14\t*21\t*17\t*24\t*4\n",
       " 10\t 16\t 15\t*9\t 19\n",
       " 18\t 8\t*23\t 26\t 20\n",
       " 22\t*11\t 13\t 6\t*5\n",
       "*2\t*0\t 12\t 3\t*7"
      ]
     },
     "execution_count": 243,
     "metadata": {},
     "output_type": "execute_result"
    }
   ],
   "source": [
    "class BingoBoard(object):\n",
    "    def __init__(self, values):\n",
    "        assert len(values) == 5, values\n",
    "        assert all(len(v) == 5 for v in values), values\n",
    "        \n",
    "        self.values = np.array(values, dtype=int)\n",
    "        self.drawn = np.zeros((5, 5), dtype=bool)\n",
    "        self.score = 0\n",
    "        self.won = False\n",
    "\n",
    "    def __repr__(self):\n",
    "        return '\\n'.join(\n",
    "            '\\t'.join(\n",
    "                f'{\"*\" if self.drawn[i,j] else \" \"}{val}' \n",
    "                for j, val in enumerate(row)\n",
    "            )\n",
    "            for i, row in enumerate(self.values)\n",
    "        )\n",
    "    \n",
    "    def draw_number(self, *ns):\n",
    "        for n in ns:\n",
    "            self.drawn[self.values==n] = True\n",
    "            self.won = self._has_won()\n",
    "            if self.won:\n",
    "                self.score = n * self.values[~self.drawn].sum()\n",
    "        \n",
    "    def _has_won(self):\n",
    "        return bool(self.drawn.prod(axis=0).sum()) or bool(self.drawn.prod(axis=1).sum())\n",
    "    \n",
    "bb = BingoBoard(parse_bingo_input(sample)[1][2])\n",
    "bb.draw_number(7, 4, 9, 5, 11, 17, 23, 2, 0, 14, 21, 24)\n",
    "assert bb.won and bb.score == 4512\n",
    "bb"
   ]
  },
  {
   "cell_type": "code",
   "execution_count": 272,
   "id": "a6b415e7-471c-4d3e-9338-037941906bce",
   "metadata": {
    "execution": {
     "iopub.execute_input": "2021-12-06T00:59:43.976695Z",
     "iopub.status.busy": "2021-12-06T00:59:43.976255Z",
     "iopub.status.idle": "2021-12-06T00:59:43.985076Z",
     "shell.execute_reply": "2021-12-06T00:59:43.984136Z",
     "shell.execute_reply.started": "2021-12-06T00:59:43.976668Z"
    },
    "tags": []
   },
   "outputs": [
    {
     "name": "stdout",
     "output_type": "stream",
     "text": [
      "100 100\n"
     ]
    },
    {
     "data": {
      "text/plain": [
       "[[31, 23, 52, 26, 8],\n",
       " [27, 89, 37, 80, 46],\n",
       " [97, 19, 63, 34, 79],\n",
       " [13, 59, 45, 12, 73],\n",
       " [42, 25, 22, 6, 39]]"
      ]
     },
     "execution_count": 272,
     "metadata": {},
     "output_type": "execute_result"
    }
   ],
   "source": [
    "drawn_numbers, board_values = parse_bingo_input(open('input_day4.txt').readlines())\n",
    "print(len(drawn_numbers), len(board_values))\n",
    "board_values[0]"
   ]
  },
  {
   "cell_type": "code",
   "execution_count": 273,
   "id": "14d552e6-d4d2-433d-81cc-a58b2e0bd793",
   "metadata": {
    "execution": {
     "iopub.execute_input": "2021-12-06T00:59:45.522298Z",
     "iopub.status.busy": "2021-12-06T00:59:45.521882Z",
     "iopub.status.idle": "2021-12-06T00:59:45.564737Z",
     "shell.execute_reply": "2021-12-06T00:59:45.564270Z",
     "shell.execute_reply.started": "2021-12-06T00:59:45.522271Z"
    },
    "tags": []
   },
   "outputs": [
    {
     "name": "stdout",
     "output_type": "stream",
     "text": [
      "27.. 14.. 70.. 7.. 85.. 66.. 65.. 57.. 68.. 23.. 33.. 78.. 4.. 84.. 25.. 18.. 43.. 71.. 76.. 61.. 34.. 82.. 93.. 74.. 64084\n",
      "*7\t*70\t 5\t 69\t*4\n",
      "*34\t 60\t 40\t 73\t 6\n",
      "*74\t 54\t 67\t 32\t 38\n",
      "*93\t 62\t 17\t 51\t 86\n",
      "*57\t 88\t 99\t 3\t 16\n"
     ]
    }
   ],
   "source": [
    "# Part 1: Pick the first winning board\n",
    "done = False\n",
    "boards = [BingoBoard(b) for b in board_values]\n",
    "for n in drawn_numbers:\n",
    "    print(n, end='.. ')\n",
    "    for b in boards:\n",
    "        b.draw_number(n)\n",
    "        if b.won:\n",
    "            print(b.score)\n",
    "            print(b)\n",
    "            done = True\n",
    "            break\n",
    "    if done:\n",
    "        break"
   ]
  },
  {
   "cell_type": "code",
   "execution_count": 274,
   "id": "765f0c9a-7e0c-468f-b71e-7210e9033488",
   "metadata": {
    "execution": {
     "iopub.execute_input": "2021-12-06T00:59:51.424264Z",
     "iopub.status.busy": "2021-12-06T00:59:51.423737Z",
     "iopub.status.idle": "2021-12-06T00:59:51.519750Z",
     "shell.execute_reply": "2021-12-06T00:59:51.519285Z",
     "shell.execute_reply.started": "2021-12-06T00:59:51.424231Z"
    },
    "tags": []
   },
   "outputs": [
    {
     "name": "stdout",
     "output_type": "stream",
     "text": [
      "27.. 14.. 70.. 7.. 85.. 66.. 65.. 57.. 68.. 23.. 33.. 78.. 4.. 84.. 25.. 18.. 43.. 71.. 76.. 61.. 34.. 82.. 93.. 74.. 26.. 15.. 83.. 64.. 2.. 35.. 19.. 97.. 32.. 47.. 6.. 51.. 99.. 20.. 77.. 75.. 56.. 73.. 80.. 86.. 55.. 36.. 13.. 95.. 52.. 63.. 79.. 72.. 9.. 10.. 16.. 8.. 69.. 11.. 50.. 54.. 81.. 22.. 45.. 1.. 12.. 88.. 44.. 17.. 62.. 0.. 96.. 94.. 31.. 90.. 39.. 92.. 37.. 40.. 5.. 98.. 24.. 38.. 46.. 21.. 30.. 49.. 41.. 12833\n",
      "*52\t*31\t*24\t*68\t*41\n",
      " 48\t*82\t*19\t 29\t*65\n",
      "*51\t 91\t*97\t*39\t*80\n",
      " 3\t*55\t*43\t*40\t*38\n",
      "*20\t 89\t 53\t*45\t*75\n"
     ]
    }
   ],
   "source": [
    "# Part 2: Pick the last winning board\n",
    "boards = [BingoBoard(b) for b in board_values]\n",
    "boards_done = []\n",
    "for n in drawn_numbers:\n",
    "    print(n, end='.. ')\n",
    "    for i, b in enumerate(boards):\n",
    "        if i in boards_done:\n",
    "            continue\n",
    "            \n",
    "        b.draw_number(n)\n",
    "        if b.won:\n",
    "            # print(f'Board {i} won!')\n",
    "            boards_done.append(i)\n",
    "            if len(boards) == len(boards_done):  # All done\n",
    "                print(b.score)\n",
    "                print(b)\n",
    "            \n",
    "    if len(boards) == len(boards_done):\n",
    "        break"
   ]
  },
  {
   "cell_type": "code",
   "execution_count": null,
   "id": "7e96055d-8318-4673-b9cb-acde15b7c323",
   "metadata": {},
   "outputs": [],
   "source": []
  }
 ],
 "metadata": {
  "kernelspec": {
   "display_name": "Python 3 (ipykernel)",
   "language": "python",
   "name": "python3"
  },
  "language_info": {
   "codemirror_mode": {
    "name": "ipython",
    "version": 3
   },
   "file_extension": ".py",
   "mimetype": "text/x-python",
   "name": "python",
   "nbconvert_exporter": "python",
   "pygments_lexer": "ipython3",
   "version": "3.9.1"
  }
 },
 "nbformat": 4,
 "nbformat_minor": 5
}
